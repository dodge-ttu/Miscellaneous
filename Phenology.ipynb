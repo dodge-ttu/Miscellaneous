{
 "cells": [
  {
   "cell_type": "code",
   "execution_count": 1,
   "metadata": {},
   "outputs": [
    {
     "name": "stdout",
     "output_type": "stream",
     "text": [
      "[[20.9, 13.0], [23.9, 12.4], [28.8, 11.0], [29.2, 14.2], [30.6, 12.7], [31.6, 14.3], [31.5, 15.8], [33.4, 15.1], [33.5, 18.6], [33.0, 16.6], [32.3, 17.8], [34.9, 16.9], [33.4, 16.8], [34.3, 17.9], [38.4, 17.9], [38.4, 17.9], [40.2, 17.9], [32.6, 19.1], [33.1, 19.5], [34.4, 18.1], [34.3, 16.8]]\n",
      "Total number of days:  21\n",
      "6.949999999999999 6.949999999999999\n",
      "8.149999999999999 15.099999999999998\n",
      "9.899999999999999 24.999999999999996\n",
      "11.7 36.699999999999996\n",
      "11.649999999999999 48.349999999999994\n",
      "12.950000000000003 61.3\n",
      "13.649999999999999 74.94999999999999\n",
      "Sorghum emerges on day 7\n"
     ]
    }
   ],
   "source": [
    "temp_list = [[20.9,13.0],[23.9,12.4],[28.8,11.0],[29.2,14.2],[30.6,12.7],[31.6,14.3],[31.5,15.8],\n",
    "             [33.4,15.1],[33.5,18.6],[33.0,16.6], [32.3,17.8],[34.9,16.9],[33.4,16.8],[34.3,17.9],\n",
    "             [38.4,17.9], [38.4,17.9],[40.2,17.9],[32.6,19.1],[33.1,19.5],[34.4,18.1],[34.3,16.8]]\n",
    "print(temp_list)\n",
    "print(\"Total number of days: \", len(temp_list))\n",
    "Tb =10.0\n",
    "cumGDU =0\n",
    "emergeGDU = 70.0\n",
    "\n",
    "for ind, item in enumerate(temp_list):\n",
    "    DGDU = (item[0]+item[1])/2 - Tb\n",
    "    cumGDU = cumGDU + DGDU\n",
    "    print(DGDU, cumGDU)\n",
    "    if cumGDU > emergeGDU:\n",
    "        print(\"Sorghum emerges on day %s\" % (ind+1))\n",
    "        break"
   ]
  },
  {
   "cell_type": "code",
   "execution_count": 2,
   "metadata": {},
   "outputs": [
    {
     "name": "stdout",
     "output_type": "stream",
     "text": [
      "1.0\n"
     ]
    }
   ],
   "source": [
    "def tempfun(TMP, TBD, TP1D, TP2D, TCD):\n",
    "    if TMP<=TBD:\n",
    "        return 0\n",
    "    elif TMP>TBD and TMP<TP1D:\n",
    "        return (TMP-TBD)/(TP1D-TBD)\n",
    "    elif TMP>TP1D and TMP<=TP2D:\n",
    "        return 1.0\n",
    "    elif TMP>TP2D and TMP<TCD:\n",
    "        return (TCD-TMP)/(TCD-TP2D)\n",
    "    else:\n",
    "        return 0\n",
    "if __name__==\"__main__\":\n",
    "    TBD = 10.0\n",
    "    TP1D =20.0\n",
    "    TP2D =30.0\n",
    "    TCD=45.0\n",
    "    TMP=22.0\n",
    "    print (tempfun(TMP, TBD, TP1D, TP2D, TCD))"
   ]
  },
  {
   "cell_type": "code",
   "execution_count": null,
   "metadata": {},
   "outputs": [],
   "source": []
  }
 ],
 "metadata": {
  "kernelspec": {
   "display_name": "Python 3",
   "language": "python",
   "name": "python3"
  },
  "language_info": {
   "codemirror_mode": {
    "name": "ipython",
    "version": 3
   },
   "file_extension": ".py",
   "mimetype": "text/x-python",
   "name": "python",
   "nbconvert_exporter": "python",
   "pygments_lexer": "ipython3",
   "version": "3.6.4"
  }
 },
 "nbformat": 4,
 "nbformat_minor": 2
}
