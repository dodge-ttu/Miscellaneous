{
 "cells": [
  {
   "cell_type": "code",
   "execution_count": 120,
   "metadata": {},
   "outputs": [],
   "source": [
    "import pandas as pd\n",
    "import itertools as it\n",
    "from datetime import datetime as dt\n",
    "from datetime import timedelta as tmd"
   ]
  },
  {
   "cell_type": "code",
   "execution_count": 121,
   "metadata": {},
   "outputs": [],
   "source": [
    "df = pd.read_table('/home/will/ozcot/met.inp', skiprows=21, delim_whitespace=True, header=[0])"
   ]
  },
  {
   "cell_type": "code",
   "execution_count": 122,
   "metadata": {},
   "outputs": [],
   "source": [
    "df.columns = ['{0}-{1}'.format(i,j) for i,j in zip(df.columns,df.iloc[:1,:].values[0])]"
   ]
  },
  {
   "cell_type": "code",
   "execution_count": 123,
   "metadata": {},
   "outputs": [],
   "source": [
    "df.drop([0], axis=0, inplace=True)"
   ]
  },
  {
   "cell_type": "code",
   "execution_count": 124,
   "metadata": {},
   "outputs": [],
   "source": [
    "df['date'] = df['year-()'].map(str) + '-' + df['day-()'].map(str)"
   ]
  },
  {
   "cell_type": "code",
   "execution_count": 125,
   "metadata": {},
   "outputs": [],
   "source": [
    "df['parsed_date'] = pd.to_datetime(df.date, format='%Y-%j')"
   ]
  },
  {
   "cell_type": "code",
   "execution_count": 149,
   "metadata": {},
   "outputs": [],
   "source": [
    "df['rain'] = pd.to_numeric(df.loc[:,'rain-(mm)'])"
   ]
  },
  {
   "cell_type": "code",
   "execution_count": 131,
   "metadata": {},
   "outputs": [],
   "source": [
    "# Date generator function to be used with something like itertools myslice\n",
    "\n",
    "def date_generator(start):\n",
    "    while True:\n",
    "        yield start\n",
    "        start = start + tmd(days=1)"
   ]
  },
  {
   "cell_type": "code",
   "execution_count": 132,
   "metadata": {},
   "outputs": [],
   "source": [
    "dates = it.islice(date_generator(start_date),150)"
   ]
  },
  {
   "cell_type": "code",
   "execution_count": 133,
   "metadata": {},
   "outputs": [],
   "source": [
    "import itertools as it\n",
    "\n",
    "def date_generator(start):\n",
    "    while True:\n",
    "        yield start\n",
    "        start = start + tmd(days=1)\n",
    "\n",
    "dts_ranges = []\n",
    "dts_end_begin = []\n",
    "\n",
    "for i in range(2001,2018,1):\n",
    "    start_date  = dt.strptime('{0}-135'.format(i), '%Y-%j')\n",
    "    dates = it.islice(date_generator(start_date), 150)\n",
    "    dates = list(dates)\n",
    "    dts_ranges.append(dates)\n",
    "    dts_end_begin.append((dates[0], dates[-1]))"
   ]
  },
  {
   "cell_type": "code",
   "execution_count": 135,
   "metadata": {},
   "outputs": [
    {
     "data": {
      "text/plain": [
       "[(datetime.datetime(2001, 5, 15, 0, 0), datetime.datetime(2001, 10, 11, 0, 0)),\n",
       " (datetime.datetime(2002, 5, 15, 0, 0), datetime.datetime(2002, 10, 11, 0, 0)),\n",
       " (datetime.datetime(2003, 5, 15, 0, 0), datetime.datetime(2003, 10, 11, 0, 0)),\n",
       " (datetime.datetime(2004, 5, 14, 0, 0), datetime.datetime(2004, 10, 10, 0, 0)),\n",
       " (datetime.datetime(2005, 5, 15, 0, 0), datetime.datetime(2005, 10, 11, 0, 0)),\n",
       " (datetime.datetime(2006, 5, 15, 0, 0), datetime.datetime(2006, 10, 11, 0, 0)),\n",
       " (datetime.datetime(2007, 5, 15, 0, 0), datetime.datetime(2007, 10, 11, 0, 0)),\n",
       " (datetime.datetime(2008, 5, 14, 0, 0), datetime.datetime(2008, 10, 10, 0, 0)),\n",
       " (datetime.datetime(2009, 5, 15, 0, 0), datetime.datetime(2009, 10, 11, 0, 0)),\n",
       " (datetime.datetime(2010, 5, 15, 0, 0), datetime.datetime(2010, 10, 11, 0, 0)),\n",
       " (datetime.datetime(2011, 5, 15, 0, 0), datetime.datetime(2011, 10, 11, 0, 0)),\n",
       " (datetime.datetime(2012, 5, 14, 0, 0), datetime.datetime(2012, 10, 10, 0, 0)),\n",
       " (datetime.datetime(2013, 5, 15, 0, 0), datetime.datetime(2013, 10, 11, 0, 0)),\n",
       " (datetime.datetime(2014, 5, 15, 0, 0), datetime.datetime(2014, 10, 11, 0, 0)),\n",
       " (datetime.datetime(2015, 5, 15, 0, 0), datetime.datetime(2015, 10, 11, 0, 0)),\n",
       " (datetime.datetime(2016, 5, 14, 0, 0), datetime.datetime(2016, 10, 10, 0, 0)),\n",
       " (datetime.datetime(2017, 5, 15, 0, 0), datetime.datetime(2017, 10, 11, 0, 0))]"
      ]
     },
     "execution_count": 135,
     "metadata": {},
     "output_type": "execute_result"
    }
   ],
   "source": [
    "dts_end_begin"
   ]
  },
  {
   "cell_type": "code",
   "execution_count": 179,
   "metadata": {
    "scrolled": true
   },
   "outputs": [
    {
     "name": "stdout",
     "output_type": "stream",
     "text": [
      "Start:2001-05-15 00:00:00, End:2001-10-11 00:00:00, Rain Sum: 94.7\n",
      "Start:2002-05-15 00:00:00, End:2002-10-11 00:00:00, Rain Sum: 190.9\n",
      "Start:2003-05-15 00:00:00, End:2003-10-11 00:00:00, Rain Sum: 166.8\n",
      "Start:2004-05-14 00:00:00, End:2004-10-10 00:00:00, Rain Sum: 308.0\n",
      "Start:2005-05-15 00:00:00, End:2005-10-11 00:00:00, Rain Sum: 206.0\n",
      "Start:2006-05-15 00:00:00, End:2006-10-11 00:00:00, Rain Sum: 241.2\n",
      "Start:2007-05-15 00:00:00, End:2007-10-11 00:00:00, Rain Sum: 237.7\n",
      "Start:2008-05-14 00:00:00, End:2008-10-10 00:00:00, Rain Sum: 358.9\n",
      "Start:2009-05-15 00:00:00, End:2009-10-11 00:00:00, Rain Sum: 175.0\n",
      "Start:2010-05-15 00:00:00, End:2010-10-11 00:00:00, Rain Sum: 243.7\n",
      "Start:2011-05-15 00:00:00, End:2011-10-11 00:00:00, Rain Sum: 74.2\n",
      "Start:2012-05-14 00:00:00, End:2012-10-10 00:00:00, Rain Sum: 138.7\n",
      "Start:2013-05-15 00:00:00, End:2013-10-11 00:00:00, Rain Sum: 267.0\n",
      "Start:2014-05-15 00:00:00, End:2014-10-11 00:00:00, Rain Sum: 399.1\n",
      "Start:2015-05-15 00:00:00, End:2015-10-11 00:00:00, Rain Sum: 309.0\n",
      "Start:2016-05-14 00:00:00, End:2016-10-10 00:00:00, Rain Sum: 323.6\n",
      "Start:2017-05-15 00:00:00, End:2017-10-11 00:00:00, Rain Sum: 340.3\n"
     ]
    }
   ],
   "source": [
    "rain_totals = []\n",
    "\n",
    "for dates in dts_end_begin:\n",
    "    rain_total = df.loc[(df['parsed_date'] > dates[0]) & (df['parsed_date'] < dates[1]), 'rain'].sum()\n",
    "    rain_totals.append((dates[0],dates[1],rain_total))\n",
    "    print(\"Start:{0}, End:{1}, Rain Sum: {2}\".format(dates[0],dates[1],round(rain_total, 2)))"
   ]
  },
  {
   "cell_type": "code",
   "execution_count": 186,
   "metadata": {},
   "outputs": [],
   "source": [
    "df = pd.DataFrame(rain_totals)\n",
    "df.rename({0:'start_date',1:'end_date',2:'rain_sum'}, axis=1, inplace=True)"
   ]
  },
  {
   "cell_type": "code",
   "execution_count": 187,
   "metadata": {},
   "outputs": [],
   "source": [
    "df.to_csv('/home/will/rain_sums_2001_2017_DOY_135_285.csv')"
   ]
  },
  {
   "cell_type": "code",
   "execution_count": 137,
   "metadata": {},
   "outputs": [],
   "source": [
    "from matplotlib import pyplot as plt\n",
    "\n",
    "fig, ax = plt.subplots(1,1, figsize=(16,10))\n",
    "ax.plot\n"
   ]
  },
  {
   "cell_type": "code",
   "execution_count": 169,
   "metadata": {},
   "outputs": [],
   "source": [
    "def date_generator(start, num):\n",
    "    delta = tmd(days=1)\n",
    "    for _ in range(num):\n",
    "        yield start\n",
    "        start += delta"
   ]
  },
  {
   "cell_type": "code",
   "execution_count": 172,
   "metadata": {},
   "outputs": [
    {
     "data": {
      "text/plain": [
       "datetime.datetime(2017, 5, 15, 0, 0)"
      ]
     },
     "execution_count": 172,
     "metadata": {},
     "output_type": "execute_result"
    }
   ],
   "source": [
    "list(date_generator(start_date, 150))[0]"
   ]
  },
  {
   "cell_type": "code",
   "execution_count": 173,
   "metadata": {},
   "outputs": [
    {
     "data": {
      "text/plain": [
       "datetime.datetime(2017, 10, 11, 0, 0)"
      ]
     },
     "execution_count": 173,
     "metadata": {},
     "output_type": "execute_result"
    }
   ],
   "source": [
    "list(date_generator(start_date, 150))[-1]"
   ]
  },
  {
   "cell_type": "code",
   "execution_count": null,
   "metadata": {},
   "outputs": [],
   "source": []
  },
  {
   "cell_type": "code",
   "execution_count": null,
   "metadata": {},
   "outputs": [],
   "source": []
  },
  {
   "cell_type": "code",
   "execution_count": null,
   "metadata": {},
   "outputs": [],
   "source": []
  },
  {
   "cell_type": "code",
   "execution_count": null,
   "metadata": {},
   "outputs": [],
   "source": []
  },
  {
   "cell_type": "code",
   "execution_count": null,
   "metadata": {},
   "outputs": [],
   "source": []
  },
  {
   "cell_type": "code",
   "execution_count": null,
   "metadata": {},
   "outputs": [],
   "source": []
  },
  {
   "cell_type": "code",
   "execution_count": null,
   "metadata": {},
   "outputs": [],
   "source": []
  },
  {
   "cell_type": "code",
   "execution_count": null,
   "metadata": {},
   "outputs": [],
   "source": []
  },
  {
   "cell_type": "code",
   "execution_count": null,
   "metadata": {},
   "outputs": [],
   "source": []
  },
  {
   "cell_type": "code",
   "execution_count": null,
   "metadata": {},
   "outputs": [],
   "source": []
  },
  {
   "cell_type": "code",
   "execution_count": null,
   "metadata": {},
   "outputs": [],
   "source": []
  },
  {
   "cell_type": "code",
   "execution_count": null,
   "metadata": {},
   "outputs": [],
   "source": []
  },
  {
   "cell_type": "code",
   "execution_count": null,
   "metadata": {},
   "outputs": [],
   "source": []
  }
 ],
 "metadata": {
  "kernelspec": {
   "display_name": "Python 3",
   "language": "python",
   "name": "python3"
  },
  "language_info": {
   "codemirror_mode": {
    "name": "ipython",
    "version": 3
   },
   "file_extension": ".py",
   "mimetype": "text/x-python",
   "name": "python",
   "nbconvert_exporter": "python",
   "pygments_lexer": "ipython3",
   "version": "3.5.2"
  }
 },
 "nbformat": 4,
 "nbformat_minor": 2
}
