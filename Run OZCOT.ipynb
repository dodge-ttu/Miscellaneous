{
 "cells": [
  {
   "cell_type": "code",
   "execution_count": 15,
   "metadata": {},
   "outputs": [],
   "source": [
    "import os\n",
    "import pandas as pd"
   ]
  },
  {
   "cell_type": "code",
   "execution_count": 16,
   "metadata": {},
   "outputs": [
    {
     "data": {
      "text/plain": [
       "'/home/will/OZCOT'"
      ]
     },
     "execution_count": 16,
     "metadata": {},
     "output_type": "execute_result"
    }
   ],
   "source": [
    "os.getcwd()"
   ]
  },
  {
   "cell_type": "code",
   "execution_count": 17,
   "metadata": {},
   "outputs": [],
   "source": [
    "os.chdir(\"/home/will/OZCOT/\")"
   ]
  },
  {
   "cell_type": "code",
   "execution_count": 18,
   "metadata": {},
   "outputs": [
    {
     "name": "stdout",
     "output_type": "stream",
     "text": [
      "2018_ozcotmets\r\n",
      "agron.inp\r\n",
      "agron multiple years strategic irrigation decisions.inp\r\n",
      "agron single year with day of year irrigations.inp\r\n",
      "dryland.bat\r\n",
      "FCOT.OUT\r\n",
      "FreeFormOut File sort.XLT\r\n",
      "mahan ozcot\r\n",
      "met.inp\r\n",
      "output_2018-03-08\r\n",
      "ozcot\r\n",
      "OZCOT.exe\r\n",
      "OZCOT FILES\r\n",
      "OZCOT Input & Output files.doc\r\n",
      "ozcotmets\r\n",
      "run_OZCOT.py\r\n",
      "soil water\r\n",
      "soilw.inp\r\n",
      "variety.inp\r\n",
      "YIELD.OUT\r\n"
     ]
    }
   ],
   "source": [
    "! ls"
   ]
  },
  {
   "cell_type": "code",
   "execution_count": 19,
   "metadata": {},
   "outputs": [
    {
     "name": "stdout",
     "output_type": "stream",
     "text": [
      "\u001b[?1h\u001b="
     ]
    }
   ],
   "source": [
    "! python3 run_OZCOT.py"
   ]
  },
  {
   "cell_type": "code",
   "execution_count": 20,
   "metadata": {},
   "outputs": [],
   "source": [
    "f = open(\"/home/will/OZCOT/YIELD.OUT\", 'r')"
   ]
  },
  {
   "cell_type": "code",
   "execution_count": 21,
   "metadata": {},
   "outputs": [
    {
     "data": {
      "text/plain": [
       "[' mahan_rain_matrix                  ! Mode, Met format, Titl\\n',\n",
       " '\\n',\n",
       " ' Simulation run:- 11 Mar 2018  18:28   (OZCOT ver 2014, 3, 1, 0)              \\n',\n",
       " '\\n',\n",
       " ' Mode 2: analysis of strategy, risk or \"what if\" scenario.\\n',\n",
       " ' Using met data file with id \"  LBB \", starting on day   1, 2001.\\n',\n",
       " ' APSIM 2001 format. Latitude   33.59, Longitude -101.89.\\n',\n",
       " ' Variety S74B; Rowspacing 1.0 m;  10 plants per m row; sowing depth 5.0 cm.\\n',\n",
       " ' Rain fed crop; solid plant.\\n',\n",
       " ' Sowing on day 121, specified in AGRON.INP file.\\n',\n",
       " ' Soil nitrogen  100. kg per ha;\\n',\n",
       " ' Fertiliser N   50. kg per ha applied on day 126.\\n',\n",
       " ' Soil water reset on day 120.\\n',\n",
       " '\\n',\n",
       " ' *******************************************************************************************************************\\n',\n",
       " '\\n',\n",
       " '\\n',\n",
       " ' YEAR SOWN   BOLL  LINT_Kg BALES  SCBO  MLAI  NUPT  MAT  DFS  DFF  DFB   ET NoIR PREI IRIG NoRD RAIN IRSW SWDE  dSW RUNO TOTI   WUE\\n',\n",
       " '\\n',\n",
       " ' 2001  121   48.3    320.6  1.41  1.58  0.85  103.  228  164  187  217  224    0    0    0   22  123    0   16  132   25  220  1.43\\n',\n",
       " ' 2002  121   55.4    239.0  1.05  1.03  1.62  100.  236  166  191  226  249    0    0    0   23  159    0    3  140   46  246  0.96\\n',\n",
       " ' 2003  121   48.9    241.0  1.06  1.17  1.12   93.  235  167  192  225  235    0    0    0   20  142    0   10  139   30  236  1.03\\n',\n",
       " ' 2004  122   77.2    613.2  2.70  1.89  1.54  101.  251  166  192  236  298    0    0    0   33  174    0    0  147    6  303  2.06\\n',\n",
       " ' 2005  121   61.9    553.4  2.44  2.13  1.05  101.  239  166  187  227  257    0    0    0   25  165    0   20  128   28  246  2.15\\n',\n",
       " ' 2006  121   57.2    420.3  1.85  1.75  1.34   95.  230  162  186  220  209    0    0    0   22   83    0    6  142    0  217  2.01\\n',\n",
       " ' 2007  121   46.5    313.9  1.38  1.61  1.47  100.  261  174  206  241  345    0    0    0   44  272    0    7  135   62  331  0.91\\n',\n",
       " ' 2008  122   74.3    839.6  3.70  2.69  1.77  104.  256  167  193  232  361    0    0    0   39  440    0  150   -5   84  340  2.33\\n',\n",
       " ' 2009  121   49.3    437.0  1.93  2.11  1.20  103.  242  169  195  232  261    0    0    0   29  139    0    7  138   10  257  1.67\\n',\n",
       " ' 2010  121   52.5    297.6  1.31  1.35  2.16   87.  240  167  194  231  245    0    0    0   26  226    0    1  146  114  244  1.21\\n',\n",
       " ' 2011  121   40.6    491.1  2.16  2.88  0.58  126.  220  164  183  215  141    0    0    0    4   43    0   46  103    0  141  3.48\\n',\n",
       " ' 2012  122   56.2    426.4  1.88  1.81  1.04  104.  232  167  188  222  201    0    0    0   27   89    0   13  131   12  201  2.12\\n',\n",
       " ' 2013  121   65.0    795.9  3.51  2.92  1.57  108.  243  165  189  227  345    0    0    0   31  264    0    3  144   50  347  2.31\\n',\n",
       " ' 2014  121   56.8    370.6  1.63  1.55  1.32  100.  243  169  193  230  286    0    0    0   28  230    0    8  140   81  280  1.30\\n',\n",
       " ' 2015  121   49.2    280.0  1.23  1.36  1.50   93.  239  171  197  229  307    0    0    0   33  400    0    5  140  207  307  0.91\\n',\n",
       " ' 2016  122   35.5    370.8  1.63  2.49  0.54  112.  230  170  192  223  214    0    0    0   27  218    0   39  108   99  215  1.73\\n',\n",
       " ' 2017  121   78.8    815.3  3.59  2.46  1.79   98.  258  168  194  240  361    0    0    0   32  274    0    0  144   43  358  2.26\\n',\n",
       " '\\n',\n",
       " '  << END-OF-FILE  >>\\n']"
      ]
     },
     "execution_count": 21,
     "metadata": {},
     "output_type": "execute_result"
    }
   ],
   "source": [
    "f.readlines()"
   ]
  },
  {
   "cell_type": "code",
   "execution_count": null,
   "metadata": {},
   "outputs": [],
   "source": []
  }
 ],
 "metadata": {
  "kernelspec": {
   "display_name": "Python 3",
   "language": "python",
   "name": "python3"
  },
  "language_info": {
   "codemirror_mode": {
    "name": "ipython",
    "version": 3
   },
   "file_extension": ".py",
   "mimetype": "text/x-python",
   "name": "python",
   "nbconvert_exporter": "python",
   "pygments_lexer": "ipython3",
   "version": "3.5.2"
  }
 },
 "nbformat": 4,
 "nbformat_minor": 2
}
