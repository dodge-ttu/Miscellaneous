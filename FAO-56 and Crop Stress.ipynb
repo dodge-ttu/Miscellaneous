{
 "cells": [
  {
   "cell_type": "markdown",
   "metadata": {},
   "source": [
    "<div style=\"padding: 40px;border:2px ridge black;margin: 48px 0px 48px 0px;\">\n",
    " <p style=\"font-size: 3vw;text-align: center;padding: 20px;font-weight: bold;\">Plant Stress via FAO-56</p>\n",
    "  <img src=\"https://drive.google.com/uc?id=1TLUYQ7uSpISZI2V3CVF15XrhhiJPENj1\" style=\"width:80vw;height:auto;padding: 40px;\"align=\"center\">\n",
    " <p style=\"font-size: 2vw;text-align: center;padding: 20px;font-weight: bold;\">Will Dodge | Spring 2018</p>\n",
    "</div>"
   ]
  },
  {
   "cell_type": "code",
   "execution_count": 1,
   "metadata": {},
   "outputs": [
    {
     "data": {
      "text/html": [
       "<style>.container { width:85% !important; }</style>"
      ],
      "text/plain": [
       "<IPython.core.display.HTML object>"
      ]
     },
     "metadata": {},
     "output_type": "display_data"
    }
   ],
   "source": [
    "from IPython.core.display import display, HTML\n",
    "display(HTML(\"<style>.container { width:85% !important; }</style>\"))"
   ]
  },
  {
   "cell_type": "markdown",
   "metadata": {},
   "source": [
    "<div style=\"padding: 10px;border:2px ridge black;margin: 24px 0px 24px 0px;\">\n",
    "    <p style=\"font-size: 2.125vw;text-align: center;padding: 20px 0px 20px 0px;font-weight: bold;\">\n",
    "        Import required libraries</p>\n",
    "</div>"
   ]
  },
  {
   "cell_type": "code",
   "execution_count": 2,
   "metadata": {},
   "outputs": [],
   "source": [
    "import numpy.polynomial.polynomial as poly\n",
    "import ipywidgets as ipyw\n",
    "from IPython.display import display, HTML\n",
    "from matplotlib import pyplot as plt\n",
    "import pandas as pd\n",
    "import math\n",
    "import numpy as np\n",
    "import qgrid"
   ]
  },
  {
   "cell_type": "markdown",
   "metadata": {},
   "source": [
    "<div style=\"padding: 10px;border:2px ridge black;margin: 24px 0px 24px 0px;\">\n",
    "    <p style=\"font-size: 1.5vw;text-align: center;padding: 20px 0px 20px 0px;font-weight: bold;\">\n",
    "        Observation data required for FAO-56</p>\n",
    "</div>"
   ]
  },
  {
   "cell_type": "markdown",
   "metadata": {},
   "source": [
    "<div style=\"padding: 10px;border:2px ridge black;margin: 10px 0px 20px 0px;\">\n",
    "    <p style=\"font-size: 1.6vw;text-align: left;font-weight: 550;text-indent: 50px;padding: \n",
    "              20px 10px 5px 10px;line-height: 1.5;\">\n",
    "\n",
    "    The required parameters for calculating ET<sub>o</sub> are solar radiation, wind speed, air temperature, and relative humididity. The specifics of these observations is well documented in the publication this model is based upon. In the event that one is missing data or entire parameters the official documentation at the <a href=\"http://www.fao.org/docrep/X0490E/x0490e00.htm#Contents\">FAO website</a> sould be consulted to determine the approach to calculating ETO without said missing variable.\n",
    "</p>   \n",
    "</div>"
   ]
  },
  {
   "cell_type": "markdown",
   "metadata": {},
   "source": [
    "<div style=\"padding: 10px;border:2px ridge black;margin: 10px 0px 20px 0px;\">\n",
    "<img src=\"https://drive.google.com/uc?id=1scDh_GzljhJ6AyVDlQz-k_ZadNvyW6Sc\" \n",
    "         style=\"width:70vw;height:auto;padding: 20px 0px 0px 0px;\"\n",
    "                align=\"center\">\n",
    "\n",
    "<p style=\"font-size: 1vw;text-align: left;font-weight: bold;text-indent: 10px;padding: \n",
    "              0px 10px 5px 10px;line-height: 1.5;\">\n",
    "<a href=https://drive.google.com/file/d/1EVjUARYY0g5o0ioVy70yANynh8DAQ4ir/view?usp=sharing>Figure Source</a>\n",
    "</p>\n",
    "</div>"
   ]
  },
  {
   "cell_type": "markdown",
   "metadata": {},
   "source": [
    "<div style=\"padding: 10px;border:2px ridge black;margin: 20px 0px 10px 0px;\">\n",
    "    <p style=\"font-size: 1.5vw;text-align: center;padding: 20px 0px 20px 0px;font-weight: bold;\">\n",
    "        Read weather data into data frame</p>\n",
    "</div>"
   ]
  },
  {
   "cell_type": "markdown",
   "metadata": {},
   "source": [
    "<div style=\"padding: 10px;border:2px ridge black;margin: 10px 0px 20px 0px;\">\n",
    "    <p style=\"font-size: 1.6vw;text-align: left;font-weight: 550;text-indent: 50px;padding: \n",
    "              20px 10px 5px 10px;line-height: 1.5;\">\n",
    "\n",
    "    In this script the raw <code>.csv</code> data is coming from a google drive shareable link. This is <b>great</b> because the notebook itself can be distributed without needing to also distrubute a slew of assocaited file data. The other thing is that users who execute this code will not have to adjust the filepath given to the <code>pd.read_csv()</code> command.\n",
    "\n",
    "</p>   \n",
    "</div>"
   ]
  },
  {
   "cell_type": "code",
   "execution_count": 3,
   "metadata": {},
   "outputs": [],
   "source": [
    "DF = pd.read_csv(\"https://drive.google.com/uc?id=1YiLueOw-vbVKIf2kvb9RRKY_hpsCj1zD\")"
   ]
  },
  {
   "cell_type": "code",
   "execution_count": 4,
   "metadata": {},
   "outputs": [
    {
     "data": {
      "text/html": [
       "<div>\n",
       "<style scoped>\n",
       "    .dataframe tbody tr th:only-of-type {\n",
       "        vertical-align: middle;\n",
       "    }\n",
       "\n",
       "    .dataframe tbody tr th {\n",
       "        vertical-align: top;\n",
       "    }\n",
       "\n",
       "    .dataframe thead th {\n",
       "        text-align: right;\n",
       "    }\n",
       "</style>\n",
       "<table border=\"1\" class=\"dataframe\">\n",
       "  <thead>\n",
       "    <tr style=\"text-align: right;\">\n",
       "      <th></th>\n",
       "      <th>date</th>\n",
       "      <th>year</th>\n",
       "      <th>day</th>\n",
       "      <th>radn.W/m2</th>\n",
       "      <th>maxt.C</th>\n",
       "      <th>mint.C</th>\n",
       "      <th>soiltemp.4in.C</th>\n",
       "      <th>soiltemp.8in.C</th>\n",
       "      <th>rain.mm</th>\n",
       "      <th>wind.2m.m/s</th>\n",
       "      <th>wind.10m.m/s</th>\n",
       "      <th>min.RH.%</th>\n",
       "      <th>max.RH.%</th>\n",
       "      <th>avg.RH.%</th>\n",
       "    </tr>\n",
       "  </thead>\n",
       "  <tbody>\n",
       "    <tr>\n",
       "      <th>0</th>\n",
       "      <td>2017-01-01</td>\n",
       "      <td>2017</td>\n",
       "      <td>1</td>\n",
       "      <td>145.56</td>\n",
       "      <td>18.39</td>\n",
       "      <td>0.40</td>\n",
       "      <td>7.73</td>\n",
       "      <td>8.36</td>\n",
       "      <td>9.3</td>\n",
       "      <td>3.06</td>\n",
       "      <td>3.74</td>\n",
       "      <td>28.02</td>\n",
       "      <td>91.40</td>\n",
       "      <td>54.64</td>\n",
       "    </tr>\n",
       "    <tr>\n",
       "      <th>1</th>\n",
       "      <td>2017-01-02</td>\n",
       "      <td>2017</td>\n",
       "      <td>2</td>\n",
       "      <td>138.91</td>\n",
       "      <td>15.85</td>\n",
       "      <td>4.22</td>\n",
       "      <td>7.93</td>\n",
       "      <td>8.67</td>\n",
       "      <td>0.1</td>\n",
       "      <td>4.46</td>\n",
       "      <td>5.30</td>\n",
       "      <td>29.81</td>\n",
       "      <td>97.20</td>\n",
       "      <td>62.46</td>\n",
       "    </tr>\n",
       "    <tr>\n",
       "      <th>2</th>\n",
       "      <td>2017-01-03</td>\n",
       "      <td>2017</td>\n",
       "      <td>3</td>\n",
       "      <td>135.62</td>\n",
       "      <td>9.67</td>\n",
       "      <td>-1.76</td>\n",
       "      <td>7.22</td>\n",
       "      <td>8.20</td>\n",
       "      <td>0.0</td>\n",
       "      <td>4.02</td>\n",
       "      <td>4.82</td>\n",
       "      <td>43.10</td>\n",
       "      <td>86.60</td>\n",
       "      <td>63.75</td>\n",
       "    </tr>\n",
       "    <tr>\n",
       "      <th>3</th>\n",
       "      <td>2017-01-04</td>\n",
       "      <td>2017</td>\n",
       "      <td>4</td>\n",
       "      <td>138.39</td>\n",
       "      <td>9.42</td>\n",
       "      <td>-2.99</td>\n",
       "      <td>5.58</td>\n",
       "      <td>6.73</td>\n",
       "      <td>0.0</td>\n",
       "      <td>3.80</td>\n",
       "      <td>4.69</td>\n",
       "      <td>41.58</td>\n",
       "      <td>65.67</td>\n",
       "      <td>50.34</td>\n",
       "    </tr>\n",
       "    <tr>\n",
       "      <th>4</th>\n",
       "      <td>2017-01-05</td>\n",
       "      <td>2017</td>\n",
       "      <td>5</td>\n",
       "      <td>143.44</td>\n",
       "      <td>7.72</td>\n",
       "      <td>-10.09</td>\n",
       "      <td>4.39</td>\n",
       "      <td>5.85</td>\n",
       "      <td>0.0</td>\n",
       "      <td>5.26</td>\n",
       "      <td>6.24</td>\n",
       "      <td>41.41</td>\n",
       "      <td>77.93</td>\n",
       "      <td>59.39</td>\n",
       "    </tr>\n",
       "  </tbody>\n",
       "</table>\n",
       "</div>"
      ],
      "text/plain": [
       "         date  year  day  radn.W/m2  maxt.C  mint.C  soiltemp.4in.C  \\\n",
       "0  2017-01-01  2017    1     145.56   18.39    0.40            7.73   \n",
       "1  2017-01-02  2017    2     138.91   15.85    4.22            7.93   \n",
       "2  2017-01-03  2017    3     135.62    9.67   -1.76            7.22   \n",
       "3  2017-01-04  2017    4     138.39    9.42   -2.99            5.58   \n",
       "4  2017-01-05  2017    5     143.44    7.72  -10.09            4.39   \n",
       "\n",
       "   soiltemp.8in.C  rain.mm  wind.2m.m/s  wind.10m.m/s  min.RH.%  max.RH.%  \\\n",
       "0            8.36      9.3         3.06          3.74     28.02     91.40   \n",
       "1            8.67      0.1         4.46          5.30     29.81     97.20   \n",
       "2            8.20      0.0         4.02          4.82     43.10     86.60   \n",
       "3            6.73      0.0         3.80          4.69     41.58     65.67   \n",
       "4            5.85      0.0         5.26          6.24     41.41     77.93   \n",
       "\n",
       "   avg.RH.%  \n",
       "0     54.64  \n",
       "1     62.46  \n",
       "2     63.75  \n",
       "3     50.34  \n",
       "4     59.39  "
      ]
     },
     "execution_count": 4,
     "metadata": {},
     "output_type": "execute_result"
    }
   ],
   "source": [
    "DF[:5]"
   ]
  },
  {
   "cell_type": "markdown",
   "metadata": {},
   "source": [
    "<div style=\"padding: 10px;border:2px ridge black;margin: 20px 0px 10px 0px;\">\n",
    "    <p style=\"font-size: 1.5vw;text-align: center;padding: 20px 0px 20px 0px;font-weight: bold;\">\n",
    "        Handle date column</p>\n",
    "</div>"
   ]
  },
  {
   "cell_type": "markdown",
   "metadata": {},
   "source": [
    "<div style=\"padding: 10px;border:2px ridge black;margin: 10px 0px 20px 0px;\">\n",
    "    <p style=\"font-size: 1.6vw;text-align: left;font-weight: 550;text-indent: 50px;padding: \n",
    "              20px 10px 5px 10px;line-height: 1.5;\">\n",
    "\n",
    "    With time-series data the variable (column) of your dataset that contains the date and time information needs to be formatted as a datetime object. We can then set this column as the index for the dataframe so that the data is always handled in chronological order. This will expedite and simplify many of our later visualizations and data queries.   \n",
    "\n",
    "</p>   \n",
    "</div>"
   ]
  },
  {
   "cell_type": "code",
   "execution_count": 5,
   "metadata": {},
   "outputs": [],
   "source": [
    "DF[\"date\"] = pd.to_datetime(DF[\"date\"])"
   ]
  },
  {
   "cell_type": "code",
   "execution_count": 6,
   "metadata": {},
   "outputs": [],
   "source": [
    "DF = DF.set_index(DF[\"date\"])"
   ]
  },
  {
   "cell_type": "code",
   "execution_count": 7,
   "metadata": {},
   "outputs": [
    {
     "data": {
      "text/html": [
       "<div>\n",
       "<style scoped>\n",
       "    .dataframe tbody tr th:only-of-type {\n",
       "        vertical-align: middle;\n",
       "    }\n",
       "\n",
       "    .dataframe tbody tr th {\n",
       "        vertical-align: top;\n",
       "    }\n",
       "\n",
       "    .dataframe thead th {\n",
       "        text-align: right;\n",
       "    }\n",
       "</style>\n",
       "<table border=\"1\" class=\"dataframe\">\n",
       "  <thead>\n",
       "    <tr style=\"text-align: right;\">\n",
       "      <th></th>\n",
       "      <th>date</th>\n",
       "      <th>year</th>\n",
       "      <th>day</th>\n",
       "      <th>radn.W/m2</th>\n",
       "      <th>maxt.C</th>\n",
       "      <th>mint.C</th>\n",
       "      <th>soiltemp.4in.C</th>\n",
       "      <th>soiltemp.8in.C</th>\n",
       "      <th>rain.mm</th>\n",
       "      <th>wind.2m.m/s</th>\n",
       "      <th>wind.10m.m/s</th>\n",
       "      <th>min.RH.%</th>\n",
       "      <th>max.RH.%</th>\n",
       "      <th>avg.RH.%</th>\n",
       "    </tr>\n",
       "    <tr>\n",
       "      <th>date</th>\n",
       "      <th></th>\n",
       "      <th></th>\n",
       "      <th></th>\n",
       "      <th></th>\n",
       "      <th></th>\n",
       "      <th></th>\n",
       "      <th></th>\n",
       "      <th></th>\n",
       "      <th></th>\n",
       "      <th></th>\n",
       "      <th></th>\n",
       "      <th></th>\n",
       "      <th></th>\n",
       "      <th></th>\n",
       "    </tr>\n",
       "  </thead>\n",
       "  <tbody>\n",
       "    <tr>\n",
       "      <th>2017-01-01</th>\n",
       "      <td>2017-01-01</td>\n",
       "      <td>2017</td>\n",
       "      <td>1</td>\n",
       "      <td>145.56</td>\n",
       "      <td>18.39</td>\n",
       "      <td>0.40</td>\n",
       "      <td>7.73</td>\n",
       "      <td>8.36</td>\n",
       "      <td>9.3</td>\n",
       "      <td>3.06</td>\n",
       "      <td>3.74</td>\n",
       "      <td>28.02</td>\n",
       "      <td>91.40</td>\n",
       "      <td>54.64</td>\n",
       "    </tr>\n",
       "    <tr>\n",
       "      <th>2017-01-02</th>\n",
       "      <td>2017-01-02</td>\n",
       "      <td>2017</td>\n",
       "      <td>2</td>\n",
       "      <td>138.91</td>\n",
       "      <td>15.85</td>\n",
       "      <td>4.22</td>\n",
       "      <td>7.93</td>\n",
       "      <td>8.67</td>\n",
       "      <td>0.1</td>\n",
       "      <td>4.46</td>\n",
       "      <td>5.30</td>\n",
       "      <td>29.81</td>\n",
       "      <td>97.20</td>\n",
       "      <td>62.46</td>\n",
       "    </tr>\n",
       "    <tr>\n",
       "      <th>2017-01-03</th>\n",
       "      <td>2017-01-03</td>\n",
       "      <td>2017</td>\n",
       "      <td>3</td>\n",
       "      <td>135.62</td>\n",
       "      <td>9.67</td>\n",
       "      <td>-1.76</td>\n",
       "      <td>7.22</td>\n",
       "      <td>8.20</td>\n",
       "      <td>0.0</td>\n",
       "      <td>4.02</td>\n",
       "      <td>4.82</td>\n",
       "      <td>43.10</td>\n",
       "      <td>86.60</td>\n",
       "      <td>63.75</td>\n",
       "    </tr>\n",
       "    <tr>\n",
       "      <th>2017-01-04</th>\n",
       "      <td>2017-01-04</td>\n",
       "      <td>2017</td>\n",
       "      <td>4</td>\n",
       "      <td>138.39</td>\n",
       "      <td>9.42</td>\n",
       "      <td>-2.99</td>\n",
       "      <td>5.58</td>\n",
       "      <td>6.73</td>\n",
       "      <td>0.0</td>\n",
       "      <td>3.80</td>\n",
       "      <td>4.69</td>\n",
       "      <td>41.58</td>\n",
       "      <td>65.67</td>\n",
       "      <td>50.34</td>\n",
       "    </tr>\n",
       "    <tr>\n",
       "      <th>2017-01-05</th>\n",
       "      <td>2017-01-05</td>\n",
       "      <td>2017</td>\n",
       "      <td>5</td>\n",
       "      <td>143.44</td>\n",
       "      <td>7.72</td>\n",
       "      <td>-10.09</td>\n",
       "      <td>4.39</td>\n",
       "      <td>5.85</td>\n",
       "      <td>0.0</td>\n",
       "      <td>5.26</td>\n",
       "      <td>6.24</td>\n",
       "      <td>41.41</td>\n",
       "      <td>77.93</td>\n",
       "      <td>59.39</td>\n",
       "    </tr>\n",
       "  </tbody>\n",
       "</table>\n",
       "</div>"
      ],
      "text/plain": [
       "                 date  year  day  radn.W/m2  maxt.C  mint.C  soiltemp.4in.C  \\\n",
       "date                                                                          \n",
       "2017-01-01 2017-01-01  2017    1     145.56   18.39    0.40            7.73   \n",
       "2017-01-02 2017-01-02  2017    2     138.91   15.85    4.22            7.93   \n",
       "2017-01-03 2017-01-03  2017    3     135.62    9.67   -1.76            7.22   \n",
       "2017-01-04 2017-01-04  2017    4     138.39    9.42   -2.99            5.58   \n",
       "2017-01-05 2017-01-05  2017    5     143.44    7.72  -10.09            4.39   \n",
       "\n",
       "            soiltemp.8in.C  rain.mm  wind.2m.m/s  wind.10m.m/s  min.RH.%  \\\n",
       "date                                                                       \n",
       "2017-01-01            8.36      9.3         3.06          3.74     28.02   \n",
       "2017-01-02            8.67      0.1         4.46          5.30     29.81   \n",
       "2017-01-03            8.20      0.0         4.02          4.82     43.10   \n",
       "2017-01-04            6.73      0.0         3.80          4.69     41.58   \n",
       "2017-01-05            5.85      0.0         5.26          6.24     41.41   \n",
       "\n",
       "            max.RH.%  avg.RH.%  \n",
       "date                            \n",
       "2017-01-01     91.40     54.64  \n",
       "2017-01-02     97.20     62.46  \n",
       "2017-01-03     86.60     63.75  \n",
       "2017-01-04     65.67     50.34  \n",
       "2017-01-05     77.93     59.39  "
      ]
     },
     "execution_count": 7,
     "metadata": {},
     "output_type": "execute_result"
    }
   ],
   "source": [
    "DF[:5] # note the date is now the index"
   ]
  },
  {
   "cell_type": "markdown",
   "metadata": {},
   "source": [
    "<div style=\"padding: 10px;border:2px ridge black;margin: 20px 0px 10px 0px;\">\n",
    "    <p style=\"font-size: 1.5vw;text-align: center;padding: 20px 0px 20px 0px;font-weight: bold;\">\n",
    "        Calculate daily mean temperature, ℃</p>\n",
    "</div>"
   ]
  },
  {
   "cell_type": "markdown",
   "metadata": {},
   "source": [
    "<div style=\"padding: 10px;border:2px ridge black;margin: 10px 0px 20px 0px;\">\n",
    "    <p style=\"font-size: 1.6vw;text-align: left;font-weight: 550;text-indent: 50px;padding: \n",
    "              20px 10px 5px 10px;line-height: 1.5;\">\n",
    "\n",
    "    We need the daily temperature average. We caclulate this from the daily min and max temperature values from the raw data. I have included a line at the end of each step to show the output of our calculations. This is important so that we can monitor the output as we go and hopefully identify the source of any possible errors.  \n",
    "\n",
    "</p>   \n",
    "</div>"
   ]
  },
  {
   "cell_type": "code",
   "execution_count": 8,
   "metadata": {},
   "outputs": [],
   "source": [
    "DF[\"avgt.C\"] = (DF[\"mint.C\"] + DF[\"maxt.C\"]) / 2"
   ]
  },
  {
   "cell_type": "code",
   "execution_count": 9,
   "metadata": {},
   "outputs": [
    {
     "data": {
      "text/plain": [
       "date\n",
       "2017-01-01     9.395\n",
       "2017-01-02    10.035\n",
       "2017-01-03     3.955\n",
       "2017-01-04     3.215\n",
       "2017-01-05    -1.185\n",
       "Name: avgt.C, dtype: float64"
      ]
     },
     "execution_count": 9,
     "metadata": {},
     "output_type": "execute_result"
    }
   ],
   "source": [
    "DF[\"avgt.C\"][:5]"
   ]
  },
  {
   "cell_type": "markdown",
   "metadata": {},
   "source": [
    "<div style=\"padding: 10px;border:2px ridge black;margin: 20px 0px 10px 0px;\">\n",
    "    <p style=\"font-size: 1.5vw;text-align: center;padding: 20px 0px 20px 0px;font-weight: bold;\">\n",
    "        Calculate mean daily solar radiation (R<sub>s</sub>), MJ m<sup>-2</sup> day<sup>-1</sup></p>\n",
    "</div>"
   ]
  },
  {
   "cell_type": "markdown",
   "metadata": {},
   "source": [
    "<div style=\"padding: 10px;border:2px ridge black;margin: 10px 0px 20px 0px;\">\n",
    "    <p style=\"font-size: 1.6vw;text-align: left;font-weight: 550;text-indent: 50px;padding: \n",
    "              20px 10px 5px 10px;line-height: 1.5;\">\n",
    "\n",
    "    This variable is calculated in our raw weather data but in different units than we require. So we need a conversion because the values for solar radiation are in W/m<sup>2</sup>.   \n",
    "\n",
    "</p>   \n",
    "</div>"
   ]
  },
  {
   "cell_type": "code",
   "execution_count": 10,
   "metadata": {},
   "outputs": [
    {
     "data": {
      "text/plain": [
       "date\n",
       "2017-01-01    145.56\n",
       "2017-01-02    138.91\n",
       "2017-01-03    135.62\n",
       "2017-01-04    138.39\n",
       "2017-01-05    143.44\n",
       "Name: radn.W/m2, dtype: float64"
      ]
     },
     "execution_count": 10,
     "metadata": {},
     "output_type": "execute_result"
    }
   ],
   "source": [
    "DF[\"radn.W/m2\"][:5] # W m^-2"
   ]
  },
  {
   "cell_type": "markdown",
   "metadata": {},
   "source": [
    "<div style=\"padding: 10px;border:2px ridge black;margin: 10px 0px 20px 0px;\">\n",
    "    <p style=\"font-size: 1vw;text-align: left;padding: 20px 10px 5px 10px;font-weight: bold;\">\n",
    "        Convert daily solar from watts to megajoules, MJ m<sup>-2</sup> day<sup>-1</sup></p>\n",
    "    <p style=\"font-size: 1.6vw;text-align: left;font-weight: 550;text-indent: 50px;padding: \n",
    "              0px 10px 5px 10px;line-height: 1.5;\">\n",
    "\n",
    "    Here we make a conversion from W/m<sup>2</sup> to MJ m<sup>-2</sup> day<sup>-1</sup> by multiplying our observed solar by 0.0864.\n",
    "</p>   \n",
    "</div>"
   ]
  },
  {
   "cell_type": "code",
   "execution_count": 11,
   "metadata": {},
   "outputs": [],
   "source": [
    "DF[\"radn.MJ/m2\"] = DF[\"radn.W/m2\"] * 0.0864"
   ]
  },
  {
   "cell_type": "code",
   "execution_count": 12,
   "metadata": {},
   "outputs": [
    {
     "data": {
      "text/plain": [
       "date\n",
       "2017-01-01    12.576384\n",
       "2017-01-02    12.001824\n",
       "2017-01-03    11.717568\n",
       "2017-01-04    11.956896\n",
       "2017-01-05    12.393216\n",
       "Name: radn.MJ/m2, dtype: float64"
      ]
     },
     "execution_count": 12,
     "metadata": {},
     "output_type": "execute_result"
    }
   ],
   "source": [
    "DF[\"radn.MJ/m2\"][:5]"
   ]
  },
  {
   "cell_type": "markdown",
   "metadata": {},
   "source": [
    "<div style=\"padding: 10px;border:2px ridge black;margin: 20px 0px 10px 0px;\">\n",
    "    <p style=\"font-size: 1.5vw;text-align: center;padding: 20px 0px 20px 0px;font-weight: bold;\">\n",
    "        The average daily wind speed (<i><b>u</b></i><sub>2</sub>), m s<sup>-1</sub></p>\n",
    "</div>"
   ]
  },
  {
   "cell_type": "markdown",
   "metadata": {},
   "source": [
    "<div style=\"padding: 10px;border:2px ridge black;margin: 10px 0px 20px 0px;\">\n",
    "    <p style=\"font-size: 1.6vw;text-align: left;font-weight: 550;text-indent: 50px;padding: \n",
    "              20px 10px 5px 10px;line-height: 1.5;\">\n",
    "\n",
    "    Measured two meters above a realatively flat surface. This in an observed value in our raw data already in correct units, <b>meters per second</b>. \n",
    "</p>   \n",
    "</div>"
   ]
  },
  {
   "cell_type": "code",
   "execution_count": 13,
   "metadata": {},
   "outputs": [
    {
     "data": {
      "text/plain": [
       "date\n",
       "2017-01-01    3.06\n",
       "2017-01-02    4.46\n",
       "2017-01-03    4.02\n",
       "2017-01-04    3.80\n",
       "2017-01-05    5.26\n",
       "Name: wind.2m.m/s, dtype: float64"
      ]
     },
     "execution_count": 13,
     "metadata": {},
     "output_type": "execute_result"
    }
   ],
   "source": [
    "DF[\"wind.2m.m/s\"][:5]"
   ]
  },
  {
   "cell_type": "code",
   "execution_count": 14,
   "metadata": {},
   "outputs": [
    {
     "data": {
      "text/plain": [
       "7.69"
      ]
     },
     "execution_count": 14,
     "metadata": {},
     "output_type": "execute_result"
    }
   ],
   "source": [
    "max(DF[\"wind.2m.m/s\"]) # maximum mean daily wind for ten meters"
   ]
  },
  {
   "cell_type": "code",
   "execution_count": 15,
   "metadata": {},
   "outputs": [
    {
     "data": {
      "text/plain": [
       "10.32"
      ]
     },
     "execution_count": 15,
     "metadata": {},
     "output_type": "execute_result"
    }
   ],
   "source": [
    "max(DF[\"wind.10m.m/s\"]) # maximum mean daily wind for ten meters"
   ]
  },
  {
   "cell_type": "markdown",
   "metadata": {},
   "source": [
    "<div style=\"padding: 10px;border:2px ridge black;margin: 10px 0px 20px 0px;\">\n",
    "    <p style=\"font-size: 1vw;text-align: left;font-weight: 550;padding: \n",
    "              20px 10px 0px 10px;line-height: 1.5;\"><b>Convert max wind averge to <i>miles per hour</i> to check data</b></p>\n",
    "    \n",
    "    <p style=\"font-size: 1.6vw;text-align: left;font-weight: 550;text-indent: 50px;padding: \n",
    "              0px 10px 5px 10px;line-height: 1.5;\">\n",
    "\n",
    "    Our value is in meters per second but we can convert this to miles per hour. Divide the by <b>1609.34 meters to convert meters to miles</b> and then <b>multiply by 3600 seconds</b> to convert seconds to hours.\n",
    "\n",
    "    </p>   \n",
    "</div>"
   ]
  },
  {
   "cell_type": "code",
   "execution_count": 16,
   "metadata": {},
   "outputs": [],
   "source": [
    "max_wind_avg_2m = (max(DF[\"wind.2m.m/s\"]) / 1609.34) * 3600"
   ]
  },
  {
   "cell_type": "code",
   "execution_count": 17,
   "metadata": {},
   "outputs": [
    {
     "data": {
      "text/plain": [
       "17.20208284141325"
      ]
     },
     "execution_count": 17,
     "metadata": {},
     "output_type": "execute_result"
    }
   ],
   "source": [
    "max_wind_avg_2m # miles per hour"
   ]
  },
  {
   "cell_type": "code",
   "execution_count": 18,
   "metadata": {},
   "outputs": [],
   "source": [
    "max_wind_avg_10m = (max(DF[\"wind.10m.m/s\"]) / 1609.34) * 3600 "
   ]
  },
  {
   "cell_type": "code",
   "execution_count": 19,
   "metadata": {},
   "outputs": [
    {
     "data": {
      "text/plain": [
       "23.085239912013623"
      ]
     },
     "execution_count": 19,
     "metadata": {},
     "output_type": "execute_result"
    }
   ],
   "source": [
    "max_wind_avg_10m # miles per hour "
   ]
  },
  {
   "cell_type": "markdown",
   "metadata": {},
   "source": [
    "<div style=\"padding: 10px;border:2px ridge black;margin: 20px 0px 10px 0px;\">\n",
    "    <p style=\"font-size: 1.5vw;text-align: center;padding: 20px 0px 20px 0px;font-weight: bold;\">\n",
    "        Slope of the saturation vapor pressure curve (Delta), kPa</p>\n",
    "</div>"
   ]
  },
  {
   "cell_type": "markdown",
   "metadata": {},
   "source": [
    "<div style=\"padding: 10px;border:2px ridge black;margin: 10px 0px 20px 0px;\">\n",
    "<img src=\"https://drive.google.com/uc?id=1uA6Zo-K6dcbzuBiNDWyU_K61Tvd6pmH7\" \n",
    "         style=\"width:42vw;height:auto;padding: 20px 0px 0px 0px;\"\n",
    "                align=\"center\">\n",
    "\n",
    "<p style=\"font-size: 1vw;text-align: left;font-weight: bold;text-indent: 10px;padding: \n",
    "              0px 10px 5px 10px;line-height: 1.5;\">\n",
    "<a href=https://drive.google.com/file/d/1EVjUARYY0g5o0ioVy70yANynh8DAQ4ir/view?usp=sharing>Figure Source</a>\n",
    "</p>\n",
    "</div>"
   ]
  },
  {
   "cell_type": "code",
   "execution_count": 20,
   "metadata": {},
   "outputs": [],
   "source": [
    "DF[\"delta\"] = 4098 * (0.6106 * np.exp((17.27 * DF[\"avgt.C\"])/(DF[\"avgt.C\"] + 237.3))) / ((DF[\"avgt.C\"] + 237.3)**2)"
   ]
  },
  {
   "cell_type": "code",
   "execution_count": 21,
   "metadata": {},
   "outputs": [
    {
     "data": {
      "text/plain": [
       "date\n",
       "2017-01-01    0.079368\n",
       "2017-01-02    0.082426\n",
       "2017-01-03    0.057060\n",
       "2017-01-04    0.054488\n",
       "2017-01-05    0.041157\n",
       "Name: delta, dtype: float64"
      ]
     },
     "execution_count": 21,
     "metadata": {},
     "output_type": "execute_result"
    }
   ],
   "source": [
    "DF[\"delta\"][:5]"
   ]
  },
  {
   "cell_type": "markdown",
   "metadata": {},
   "source": [
    "<div style=\"padding: 10px;border:2px ridge black;margin: 20px 0px 10px 0px;\">\n",
    "    <p style=\"font-size: 1.5vw;text-align: center;padding: 20px 0px 20px 0px;font-weight: bold;\">\n",
    "        Atmospheric Pressure (P), kPa </p>\n",
    "</div>"
   ]
  },
  {
   "cell_type": "markdown",
   "metadata": {},
   "source": [
    "<div style=\"padding: 10px;border:2px ridge black;margin: 10px 0px 20px 0px;\">\n",
    "    <p style=\"font-size: 1.6vw;text-align: left;font-weight: 550;text-indent: 50px;padding: \n",
    "              20px 10px 5px 10px;line-height: 1.5;\">\n",
    "\n",
    "    This is the pressure exerted by the weight of the earth's atmosphere. Altitude is factor when calculating this varaible. This model uses the equation in the following figure. We will make the calculation once in this model and use that as a contstant atmospheric pressure for this altitude. In the following equation <b>Z is altitude in meters</b>. \n",
    "</p>   \n",
    "</div>"
   ]
  },
  {
   "cell_type": "markdown",
   "metadata": {},
   "source": [
    "<div style=\"padding: 10px;border:2px ridge black;margin: 10px 0px 20px 0px;\">\n",
    "<img src=\"https://drive.google.com/uc?id=1pIpkTvzi88OcoCTiPHRPq7_Xu5lEX6dm\" \n",
    "         style=\"width:42vw;height:auto;padding: 20px 0px 0px 0px;\"\n",
    "                align=\"center\">\n",
    "\n",
    "<p style=\"font-size: 1vw;text-align: left;font-weight: bold;text-indent: 10px;padding: \n",
    "              0px 10px 5px 10px;line-height: 1.5;\">\n",
    "<a href=https://drive.google.com/file/d/1EVjUARYY0g5o0ioVy70yANynh8DAQ4ir/view?usp=sharing>Figure Source</a>\n",
    "</p>\n",
    "</div>"
   ]
  },
  {
   "cell_type": "code",
   "execution_count": 22,
   "metadata": {},
   "outputs": [],
   "source": [
    "elevation = 992 # high plians of texas"
   ]
  },
  {
   "cell_type": "code",
   "execution_count": 23,
   "metadata": {},
   "outputs": [],
   "source": [
    "P = 101.3 * (((293 - (0.0065 * elevation)) / 293) ** 5.26)"
   ]
  },
  {
   "cell_type": "code",
   "execution_count": 24,
   "metadata": {},
   "outputs": [
    {
     "data": {
      "text/plain": [
       "90.11059920767981"
      ]
     },
     "execution_count": 24,
     "metadata": {},
     "output_type": "execute_result"
    }
   ],
   "source": [
    "P # in kPa"
   ]
  },
  {
   "cell_type": "markdown",
   "metadata": {},
   "source": [
    "<div style=\"padding: 10px;border:2px ridge black;margin: 20px 0px 10px 0px;\">\n",
    "    <p style=\"font-size: 1.5vw;text-align: center;padding: 20px 0px 20px 0px;font-weight: bold;\">\n",
    "        Psychrometric constant (gamma), kPa ℃<sup>-1</sup></p>\n",
    "</div>"
   ]
  },
  {
   "cell_type": "markdown",
   "metadata": {},
   "source": [
    "<div style=\"padding: 10px;border:2px ridge black;margin: 10px 0px 20px 0px;\">\n",
    "    <p style=\"font-size: 1.6vw;text-align: left;font-weight: 550;text-indent: 50px;padding: \n",
    "              20px 10px 5px 10px;line-height: 1.5;\">\n",
    "\n",
    "    This variable is the relationsip between the partial pressure of water vapor in the air and temperature. It uses our calculated atmospheric pressure (P) value to estimate the psychrometric constant. This value will be used to calculate saturated vapor pressure.\n",
    "</p>   \n",
    "</div>"
   ]
  },
  {
   "cell_type": "markdown",
   "metadata": {},
   "source": [
    "<div style=\"padding: 10px;border:2px ridge black;margin: 10px 0px 20px 0px;\">\n",
    "<img src=\"https://drive.google.com/uc?id=1tBdICICKsNEwZg5GaYGTioVlA3a2aM2v\" \n",
    "         style=\"width:42vw;height:auto;padding: 20px 0px 0px 0px;\"\n",
    "                align=\"center\">\n",
    "\n",
    "<p style=\"font-size: 1vw;text-align: left;font-weight: bold;text-indent: 10px;padding: \n",
    "              0px 10px 5px 10px;line-height: 1.5;\">\n",
    "<a href=https://drive.google.com/file/d/1EVjUARYY0g5o0ioVy70yANynh8DAQ4ir/view?usp=sharing>Figure Source</a>\n",
    "</p>\n",
    "</div>"
   ]
  },
  {
   "cell_type": "code",
   "execution_count": 25,
   "metadata": {},
   "outputs": [],
   "source": [
    "gamma = 0.000665 * P"
   ]
  },
  {
   "cell_type": "code",
   "execution_count": 26,
   "metadata": {},
   "outputs": [
    {
     "data": {
      "text/plain": [
       "0.059923548473107074"
      ]
     },
     "execution_count": 26,
     "metadata": {},
     "output_type": "execute_result"
    }
   ],
   "source": [
    "gamma"
   ]
  },
  {
   "cell_type": "markdown",
   "metadata": {},
   "source": [
    "<div style=\"padding: 10px;border:2px ridge black;margin: 20px 0px 10px 0px;\">\n",
    "    <p style=\"font-size: 1.5vw;text-align: center;padding: 20px 0px 20px 0px;font-weight: bold;\">\n",
    "        Delta Term (DT), auxiliary calculation for the radiation term</p>\n",
    "</div>"
   ]
  },
  {
   "cell_type": "markdown",
   "metadata": {},
   "source": [
    "<div style=\"padding: 10px;border:2px ridge black;margin: 10px 0px 20px 0px;\">\n",
    "    <p style=\"font-size: 1.6vw;text-align: left;font-weight: 550;text-indent: 50px;padding: \n",
    "              20px 10px 5px 10px;line-height: 1.5;\">\n",
    "\n",
    "    To simplify the overall ET<sub>o</sub> we can calculate portions of the equation seperately. The Delta Term will be used to calculate our radiation driven ET<sub>o</sub> terms in later steps.  \n",
    "</p>   \n",
    "</div>"
   ]
  },
  {
   "cell_type": "markdown",
   "metadata": {},
   "source": [
    "<div style=\"padding: 10px;border:2px ridge black;margin: 10px 0px 20px 0px;\">\n",
    "<img src=\"https://drive.google.com/uc?id=1vxH1NEzFgqZx81b4AJOwbz8ym0OtOFF6\" \n",
    "         style=\"width:42vw;height:auto;padding: 20px 0px 0px 0px;\"\n",
    "                align=\"center\">\n",
    "\n",
    "<p style=\"font-size: 1vw;text-align: left;font-weight: bold;text-indent: 10px;padding: \n",
    "              0px 10px 5px 10px;line-height: 1.5;\">\n",
    "<a href=https://drive.google.com/file/d/1EVjUARYY0g5o0ioVy70yANynh8DAQ4ir/view?usp=sharing>Figure Source</a>\n",
    "</p>\n",
    "</div>"
   ]
  },
  {
   "cell_type": "code",
   "execution_count": 27,
   "metadata": {},
   "outputs": [],
   "source": [
    "DF[\"delta.term\"] = DF[\"delta\"] / (DF[\"delta\"] + (gamma * (1 + 0.34 * DF[\"wind.2m.m/s\"])))"
   ]
  },
  {
   "cell_type": "code",
   "execution_count": 28,
   "metadata": {},
   "outputs": [
    {
     "data": {
      "text/plain": [
       "date\n",
       "2017-01-01    0.393619\n",
       "2017-01-02    0.353428\n",
       "2017-01-03    0.286896\n",
       "2017-01-04    0.284039\n",
       "2017-01-05    0.197633\n",
       "Name: delta.term, dtype: float64"
      ]
     },
     "execution_count": 28,
     "metadata": {},
     "output_type": "execute_result"
    }
   ],
   "source": [
    "DF[\"delta.term\"][:5]"
   ]
  },
  {
   "cell_type": "markdown",
   "metadata": {},
   "source": [
    "<div style=\"padding: 10px;border:2px ridge black;margin: 20px 0px 10px 0px;\">\n",
    "    <p style=\"font-size: 1.5vw;text-align: center;padding: 20px 0px 20px 0px;font-weight: bold;\">\n",
    "        Psi Term (PT), auxiliary calculation for the wind term</p>\n",
    "</div>"
   ]
  },
  {
   "cell_type": "markdown",
   "metadata": {},
   "source": [
    "<div style=\"padding: 10px;border:2px ridge black;margin: 10px 0px 20px 0px;\">\n",
    "    <p style=\"font-size: 1.6vw;text-align: left;font-weight: 550;text-indent: 50px;padding: \n",
    "              20px 10px 5px 10px;line-height: 1.5;\">\n",
    "\n",
    "    Again, we make an auxiliary calculation to simplify the overall ET<sub>o</sub> process. The Psi Term will be used to calculate our wind driven ET<sub>o</sub> terms in later steps.  \n",
    "</p>   \n",
    "</div>"
   ]
  },
  {
   "cell_type": "markdown",
   "metadata": {},
   "source": [
    "<div style=\"padding: 10px;border:2px ridge black;margin: 10px 0px 20px 0px;\">\n",
    "<img src=\"https://drive.google.com/uc?id=1yVSXpAr2bQOrUbF9vPwkcsRP3RI_jNav\" \n",
    "         style=\"width:42vw;height:auto;padding: 20px 0px 0px 0px;\"\n",
    "                align=\"center\">\n",
    "\n",
    "<p style=\"font-size: 1vw;text-align: left;font-weight: bold;text-indent: 10px;padding: \n",
    "              0px 10px 5px 10px;line-height: 1.5;\">\n",
    "<a href=https://drive.google.com/file/d/1EVjUARYY0g5o0ioVy70yANynh8DAQ4ir/view?usp=sharing>Figure Source</a>\n",
    "</p>\n",
    "</div>"
   ]
  },
  {
   "cell_type": "code",
   "execution_count": 29,
   "metadata": {},
   "outputs": [],
   "source": [
    "DF[\"psi.term\"] = gamma / (DF[\"delta\"] + (gamma * (1 + 0.34 * DF[\"wind.2m.m/s\"])))"
   ]
  },
  {
   "cell_type": "code",
   "execution_count": 30,
   "metadata": {},
   "outputs": [
    {
     "data": {
      "text/plain": [
       "date\n",
       "2017-01-01    0.297187\n",
       "2017-01-02    0.256943\n",
       "2017-01-03    0.301294\n",
       "2017-01-04    0.312374\n",
       "2017-01-05    0.287752\n",
       "Name: psi.term, dtype: float64"
      ]
     },
     "execution_count": 30,
     "metadata": {},
     "output_type": "execute_result"
    }
   ],
   "source": [
    "DF[\"psi.term\"][:5]"
   ]
  },
  {
   "cell_type": "markdown",
   "metadata": {},
   "source": [
    "<div style=\"padding: 10px;border:2px ridge black;margin: 20px 0px 10px 0px;\">\n",
    "    <p style=\"font-size: 1.5vw;text-align: center;padding: 20px 0px 20px 0px;font-weight: bold;\">\n",
    "        Temperature Term (TT), auxiliary calculation for the wind term</p>\n",
    "</div>"
   ]
  },
  {
   "cell_type": "markdown",
   "metadata": {},
   "source": [
    "<div style=\"padding: 10px;border:2px ridge black;margin: 10px 0px 20px 0px;\">\n",
    "    <p style=\"font-size: 1.6vw;text-align: left;font-weight: 550;text-indent: 50px;padding: \n",
    "              20px 10px 5px 10px;line-height: 1.5;\">\n",
    "\n",
    "    Again, we make an auxiliary calculation to simplify the overall ET<sub>o</sub> process. The Temperature Term will be used to calculate our wind driven ET<sub>o</sub> terms in later steps. This term incorperates the average daily temperature while the previous two auxiliary terms did not.  \n",
    "</p>   \n",
    "</div>"
   ]
  },
  {
   "cell_type": "markdown",
   "metadata": {},
   "source": [
    "<div style=\"padding: 10px;border:2px ridge black;margin: 10px 0px 20px 0px;\">\n",
    "<img src=\"https://drive.google.com/uc?id=1000hFVfIePFDMbEvi4BEkoM6GS8gSvVO\" \n",
    "         style=\"width:42vw;height:auto;padding: 20px 0px 0px 0px;\"\n",
    "                align=\"center\">\n",
    "\n",
    "<p style=\"font-size: 1vw;text-align: left;font-weight: bold;text-indent: 10px;padding: \n",
    "              0px 10px 5px 10px;line-height: 1.5;\">\n",
    "<a href=https://drive.google.com/file/d/1EVjUARYY0g5o0ioVy70yANynh8DAQ4ir/view?usp=sharing>Figure Source</a>\n",
    "</p>\n",
    "</div>"
   ]
  },
  {
   "cell_type": "code",
   "execution_count": 31,
   "metadata": {},
   "outputs": [],
   "source": [
    "DF[\"temp.term\"] = (900 / (DF[\"avgt.C\"] + 237)) * DF[\"wind.2m.m/s\"]"
   ]
  },
  {
   "cell_type": "code",
   "execution_count": 32,
   "metadata": {},
   "outputs": [
    {
     "data": {
      "text/plain": [
       "date\n",
       "2017-01-01    11.177175\n",
       "2017-01-02    16.248710\n",
       "2017-01-03    15.015252\n",
       "2017-01-04    14.237246\n",
       "2017-01-05    20.075059\n",
       "Name: temp.term, dtype: float64"
      ]
     },
     "execution_count": 32,
     "metadata": {},
     "output_type": "execute_result"
    }
   ],
   "source": [
    "DF[\"temp.term\"][:5]"
   ]
  },
  {
   "cell_type": "markdown",
   "metadata": {},
   "source": [
    "<div style=\"padding: 10px;border:2px ridge black;margin: 20px 0px 10px 0px;\">\n",
    "    <p style=\"font-size: 1.5vw;text-align: center;padding: 20px 0px 20px 0px;font-weight: bold;\">\n",
    "        Calculate mean saturation vapor pressure (e<sub>s</sub>), kPa</p>\n",
    "</div>"
   ]
  },
  {
   "cell_type": "markdown",
   "metadata": {},
   "source": [
    "<div style=\"padding: 10px;border:2px ridge black;margin: 10px 0px 20px 0px;\">\n",
    "    <p style=\"font-size: 1.6vw;text-align: left;font-weight: 550;text-indent: 50px;padding: \n",
    "              20px 10px 5px 10px;line-height: 1.5;\">\n",
    "\n",
    "    Saturated vapor pressure is a fucntion of temperature and therefore can be calculated with air temperature. The following equation describes the relationship between temperature and saturated vapor pressure. <b>Temperature (T) is in degrees celcius</b>.\n",
    "</p>   \n",
    "</div>"
   ]
  },
  {
   "cell_type": "markdown",
   "metadata": {},
   "source": [
    "<div style=\"padding: 10px;border:2px ridge black;margin: 10px 0px 20px 0px;\">\n",
    "<img src=\"https://drive.google.com/uc?id=12WEdLnr77AXwSWv-2_Ru7NjBRzPdv-91\" \n",
    "         style=\"width:42vw;height:auto;padding: 20px 0px 0px 0px;\"\n",
    "                align=\"center\">\n",
    "\n",
    "<p style=\"font-size: 1vw;text-align: left;font-weight: bold;text-indent: 10px;padding: \n",
    "              0px 10px 5px 10px;line-height: 1.5;\">\n",
    "<a href=https://drive.google.com/file/d/1EVjUARYY0g5o0ioVy70yANynh8DAQ4ir/view?usp=sharing>Figure Source</a>\n",
    "</p>\n",
    "</div>"
   ]
  },
  {
   "cell_type": "markdown",
   "metadata": {},
   "source": [
    "<div style=\"padding: 10px;border:2px ridge black;margin: 10px 0px 20px 0px;\">\n",
    "    <p style=\"font-size: 1.6vw;text-align: left;font-weight: 550;text-indent: 50px;padding: \n",
    "              20px 10px 5px 10px;line-height: 1.5;\">\n",
    "\n",
    "    The approach will be to calculate a minimum and maximum daily saturated vapor pressure value and use those to calculate the daily mean value. We will use the following equations to calculate the minimums and maximums.\n",
    "</p>   \n",
    "</div>"
   ]
  },
  {
   "cell_type": "markdown",
   "metadata": {},
   "source": [
    "<div style=\"padding: 10px;border:2px ridge black;margin: 10px 0px 20px 0px;\">\n",
    "<img src=\"https://drive.google.com/uc?id=1LkqbHD6iqmhR9rpOsd3XUnOfhNjW5fs3\" \n",
    "         style=\"width:42vw;height:auto;padding: 20px 0px 0px 0px;\"\n",
    "                align=\"center\">\n",
    "\n",
    "<p style=\"font-size: 1vw;text-align: left;font-weight: bold;text-indent: 10px;padding: \n",
    "              0px 10px 5px 10px;line-height: 1.5;\">\n",
    "<a href=https://drive.google.com/file/d/1EVjUARYY0g5o0ioVy70yANynh8DAQ4ir/view?usp=sharing>Figure Source</a>\n",
    "</p>\n",
    "</div>"
   ]
  },
  {
   "cell_type": "code",
   "execution_count": 33,
   "metadata": {},
   "outputs": [],
   "source": [
    "DF[\"max.sat.vap\"] = 0.6108 * np.exp((17.27 * DF[\"maxt.C\"]) / (DF[\"maxt.C\"] + 237.3))"
   ]
  },
  {
   "cell_type": "code",
   "execution_count": 34,
   "metadata": {},
   "outputs": [
    {
     "data": {
      "text/plain": [
       "date\n",
       "2017-01-01    2.115149\n",
       "2017-01-02    1.800939\n",
       "2017-01-03    1.201071\n",
       "2017-01-04    1.181044\n",
       "2017-01-05    1.052482\n",
       "Name: max.sat.vap, dtype: float64"
      ]
     },
     "execution_count": 34,
     "metadata": {},
     "output_type": "execute_result"
    }
   ],
   "source": [
    "DF[\"max.sat.vap\"][:5]"
   ]
  },
  {
   "cell_type": "code",
   "execution_count": 35,
   "metadata": {},
   "outputs": [],
   "source": [
    "DF[\"min.sat.vap\"] = 0.6108 * np.exp((17.27 * DF[\"mint.C\"]) / (DF[\"mint.C\"] + 237.3))"
   ]
  },
  {
   "cell_type": "code",
   "execution_count": 36,
   "metadata": {},
   "outputs": [
    {
     "data": {
      "text/plain": [
       "date\n",
       "2017-01-01    0.628811\n",
       "2017-01-02    0.825940\n",
       "2017-01-03    0.536853\n",
       "2017-01-04    0.489992\n",
       "2017-01-05    0.283678\n",
       "Name: min.sat.vap, dtype: float64"
      ]
     },
     "execution_count": 36,
     "metadata": {},
     "output_type": "execute_result"
    }
   ],
   "source": [
    "DF[\"min.sat.vap\"][:5]"
   ]
  },
  {
   "cell_type": "code",
   "execution_count": 37,
   "metadata": {},
   "outputs": [],
   "source": [
    "DF[\"mean.sat.vap\"] = (DF[\"min.sat.vap\"] + DF[\"max.sat.vap\"]) / 2"
   ]
  },
  {
   "cell_type": "code",
   "execution_count": 38,
   "metadata": {},
   "outputs": [
    {
     "data": {
      "text/plain": [
       "date\n",
       "2017-01-01    1.371980\n",
       "2017-01-02    1.313440\n",
       "2017-01-03    0.868962\n",
       "2017-01-04    0.835518\n",
       "2017-01-05    0.668080\n",
       "Name: mean.sat.vap, dtype: float64"
      ]
     },
     "execution_count": 38,
     "metadata": {},
     "output_type": "execute_result"
    }
   ],
   "source": [
    "DF[\"mean.sat.vap\"][:5]"
   ]
  },
  {
   "cell_type": "markdown",
   "metadata": {},
   "source": [
    "<div style=\"padding: 10px;border:2px ridge black;margin: 20px 0px 10px 0px;\">\n",
    "    <p style=\"font-size: 1.5vw;text-align: center;padding: 20px 0px 20px 0px;font-weight: bold;\">\n",
    "        Actual vapor pressure (e<sub>a</sub>) derived from relative humidity, kPa</p>\n",
    "</div>"
   ]
  },
  {
   "cell_type": "markdown",
   "metadata": {},
   "source": [
    "<div style=\"padding: 10px;border:2px ridge black;margin: 10px 0px 20px 0px;\">\n",
    "<img src=\"https://drive.google.com/uc?id=1l4_ZN1HjjDA4Lj1Oa09MyxPOWhqcC-Ch\" \n",
    "         style=\"width:42vw;height:auto;padding: 20px 0px 0px 0px;\"\n",
    "                align=\"center\">\n",
    "\n",
    "<p style=\"font-size: 1vw;text-align: left;font-weight: bold;text-indent: 10px;padding: \n",
    "              0px 10px 5px 10px;line-height: 1.5;\">\n",
    "<a href=https://drive.google.com/file/d/1EVjUARYY0g5o0ioVy70yANynh8DAQ4ir/view?usp=sharing>Figure Source</a>\n",
    "</p>\n",
    "</div>"
   ]
  },
  {
   "cell_type": "code",
   "execution_count": 39,
   "metadata": {},
   "outputs": [],
   "source": [
    "DF[\"actual.vap\"] = ((DF[\"min.sat.vap\"] * (DF[\"max.RH.%\"] / 100)) + (DF[\"max.sat.vap\"] * (DF[\"min.RH.%\"] / 100))) / 2"
   ]
  },
  {
   "cell_type": "code",
   "execution_count": 40,
   "metadata": {},
   "outputs": [
    {
     "data": {
      "text/plain": [
       "date\n",
       "2017-01-01    0.583699\n",
       "2017-01-02    0.669837\n",
       "2017-01-03    0.491288\n",
       "2017-01-04    0.406428\n",
       "2017-01-05    0.328451\n",
       "Name: actual.vap, dtype: float64"
      ]
     },
     "execution_count": 40,
     "metadata": {},
     "output_type": "execute_result"
    }
   ],
   "source": [
    "DF[\"actual.vap\"][:5]"
   ]
  },
  {
   "cell_type": "markdown",
   "metadata": {},
   "source": [
    "<div style=\"padding: 10px;border:2px ridge black;margin: 20px 0px 10px 0px;\">\n",
    "    <p style=\"font-size: 1.5vw;text-align: center;padding: 20px 0px 20px 0px;font-weight: bold;\">\n",
    "        Inverse relative Earth-Sun distance (<i><b>d</b></i><sub>r</sub>) and solar declination (δ) </p>\n",
    "</div>"
   ]
  },
  {
   "cell_type": "markdown",
   "metadata": {},
   "source": [
    "<div style=\"padding: 10px;border:2px ridge black;margin: 10px 0px 20px 0px;\">\n",
    "    <p style=\"font-size: 1.6vw;text-align: left;font-weight: 550;text-indent: 50px;padding: \n",
    "              20px 10px 5px 10px;line-height: 1.5;\">\n",
    "\n",
    "    We calculate these values so that we can estimate extraterrestrial radiation in the next equation. In the following equation <b><i>J</i> is the julian day or day of year</b> ranging from 1-365 on a non leap year. \n",
    "</p>   \n",
    "</div>"
   ]
  },
  {
   "cell_type": "markdown",
   "metadata": {},
   "source": [
    "<div style=\"padding: 10px;border:2px ridge black;margin: 10px 0px 20px 0px;\">\n",
    "<img src=\"https://drive.google.com/uc?id=1aPFBE1HI3ZqIxzWC8CzzIPdLOa8kLUHA\" \n",
    "         style=\"width:38vw;height:auto;padding: 20px 0px 0px 0px;\"\n",
    "                align=\"center\">\n",
    "\n",
    "<p style=\"font-size: 1vw;text-align: left;font-weight: bold;text-indent: 10px;padding: \n",
    "              0px 10px 5px 10px;line-height: 1.5;\">\n",
    "<a href=https://drive.google.com/file/d/1EVjUARYY0g5o0ioVy70yANynh8DAQ4ir/view?usp=sharing>Figure Source</a>\n",
    "</p>\n",
    "</div>"
   ]
  },
  {
   "cell_type": "code",
   "execution_count": 41,
   "metadata": {},
   "outputs": [],
   "source": [
    "DF[\"earth.sun.rel.dis\"] = 1 + (0.033 * np.cos(((2 * math.pi)/365) * DF[\"day\"]))"
   ]
  },
  {
   "cell_type": "code",
   "execution_count": 42,
   "metadata": {},
   "outputs": [
    {
     "data": {
      "text/plain": [
       "date\n",
       "2017-01-01    1.032995\n",
       "2017-01-02    1.032980\n",
       "2017-01-03    1.032956\n",
       "2017-01-04    1.032922\n",
       "2017-01-05    1.032878\n",
       "Name: earth.sun.rel.dis, dtype: float64"
      ]
     },
     "execution_count": 42,
     "metadata": {},
     "output_type": "execute_result"
    }
   ],
   "source": [
    "DF[\"earth.sun.rel.dis\"][:5]"
   ]
  },
  {
   "cell_type": "code",
   "execution_count": 43,
   "metadata": {},
   "outputs": [],
   "source": [
    "DF[\"solar.decl\"] = 0.409 * np.sin((((2 * math.pi)/365) * DF[\"day\"]) - 1.39)"
   ]
  },
  {
   "cell_type": "code",
   "execution_count": 44,
   "metadata": {},
   "outputs": [
    {
     "data": {
      "text/plain": [
       "date\n",
       "2017-01-01   -0.401008\n",
       "2017-01-02   -0.399564\n",
       "2017-01-03   -0.398001\n",
       "2017-01-04   -0.396320\n",
       "2017-01-05   -0.394522\n",
       "Name: solar.decl, dtype: float64"
      ]
     },
     "execution_count": 44,
     "metadata": {},
     "output_type": "execute_result"
    }
   ],
   "source": [
    "DF[\"solar.decl\"][:5]"
   ]
  },
  {
   "cell_type": "markdown",
   "metadata": {},
   "source": [
    "<div style=\"padding: 10px;border:2px ridge black;margin: 20px 0px 10px 0px;\">\n",
    "    <p style=\"font-size: 1.5vw;text-align: center;padding: 20px 0px 20px 0px;font-weight: bold;\">\n",
    "        Conversion of latitude (<i><b>φ</b></i>) in degrees to radians</p>\n",
    "</div>"
   ]
  },
  {
   "cell_type": "markdown",
   "metadata": {},
   "source": [
    "<div style=\"padding: 10px;border:2px ridge black;margin: 10px 0px 20px 0px;\">\n",
    "    <p style=\"font-size: 1.6vw;text-align: left;font-weight: 550;text-indent: 50px;padding: \n",
    "              20px 10px 5px 10px;line-height: 1.5;\">\n",
    "\n",
    "    Now we will begin a series of calculations required to calculate the incoming exraterrestrial radian. This will ultimately allow us to calculate a value for net radation from all sources in later steps.\n",
    "</p>   \n",
    "</div>"
   ]
  },
  {
   "cell_type": "markdown",
   "metadata": {},
   "source": [
    "<div style=\"padding: 10px;border:2px ridge black;margin: 10px 0px 20px 0px;\">\n",
    "<img src=\"https://drive.google.com/uc?id=1RIMx9JbdKT9IdUkbRpskh1b1bHdudQji\" \n",
    "         style=\"width:40vw;height:auto;padding: 20px 0px 0px 0px;\"\n",
    "                align=\"center\">\n",
    "\n",
    "<p style=\"font-size: 1vw;text-align: left;font-weight: bold;text-indent: 10px;padding: \n",
    "              0px 10px 5px 10px;line-height: 1.5;\">\n",
    "<a href=https://drive.google.com/file/d/1EVjUARYY0g5o0ioVy70yANynh8DAQ4ir/view?usp=sharing>Figure Source</a>\n",
    "</p>\n",
    "</div>"
   ]
  },
  {
   "cell_type": "code",
   "execution_count": 45,
   "metadata": {},
   "outputs": [],
   "source": [
    "lat_in_rad = (math.pi / 180) * (33.5947684)"
   ]
  },
  {
   "cell_type": "code",
   "execution_count": 46,
   "metadata": {},
   "outputs": [
    {
     "data": {
      "text/plain": [
       "0.5863393200249474"
      ]
     },
     "execution_count": 46,
     "metadata": {},
     "output_type": "execute_result"
    }
   ],
   "source": [
    "lat_in_rad"
   ]
  },
  {
   "cell_type": "markdown",
   "metadata": {},
   "source": [
    "<div style=\"padding: 10px;border:2px ridge black;margin: 20px 0px 10px 0px;\">\n",
    "    <p style=\"font-size: 1.5vw;text-align: center;padding: 20px 0px 20px 0px;font-weight: bold;\">\n",
    "        Sunset hour angle (<b><i>ω<sub>s</sub></i></b>)\n",
    "</p>\n",
    "</div>"
   ]
  },
  {
   "cell_type": "markdown",
   "metadata": {},
   "source": [
    "<div style=\"padding: 10px;border:2px ridge black;margin: 10px 0px 20px 0px;\">\n",
    "    <p style=\"font-size: 1.6vw;text-align: left;font-weight: 550;text-indent: 50px;padding: \n",
    "              20px 10px 5px 10px;line-height: 1.5;\">\n",
    "\n",
    "    Again, this calculation will be used in our estimation of extraterrestrial radiation.\n",
    "</p>   \n",
    "</div>"
   ]
  },
  {
   "cell_type": "markdown",
   "metadata": {},
   "source": [
    "<div style=\"padding: 10px;border:2px ridge black;margin: 10px 0px 20px 0px;\">\n",
    "<img src=\"https://drive.google.com/uc?id=1MqQgOs5djIuE97klAeGnjhavrdNyb8rT\" \n",
    "         style=\"width:40vw;height:auto;padding: 20px 0px 0px 0px;\"\n",
    "                align=\"center\">\n",
    "\n",
    "<p style=\"font-size: 1vw;text-align: left;font-weight: bold;text-indent: 10px;padding: \n",
    "              0px 10px 5px 10px;line-height: 1.5;\">\n",
    "<a href=https://drive.google.com/file/d/1EVjUARYY0g5o0ioVy70yANynh8DAQ4ir/view?usp=sharing>Figure Source</a>\n",
    "</p>\n",
    "</div>"
   ]
  },
  {
   "cell_type": "code",
   "execution_count": 47,
   "metadata": {},
   "outputs": [],
   "source": [
    "DF[\"sunset_angle\"] = np.arccos(-math.tan(lat_in_rad) * np.tan(DF[\"solar.decl\"]))"
   ]
  },
  {
   "cell_type": "code",
   "execution_count": 48,
   "metadata": {},
   "outputs": [
    {
     "data": {
      "text/plain": [
       "date\n",
       "2017-01-01    1.285296\n",
       "2017-01-02    1.286475\n",
       "2017-01-03    1.287748\n",
       "2017-01-04    1.289115\n",
       "2017-01-05    1.290575\n",
       "Name: sunset_angle, dtype: float64"
      ]
     },
     "execution_count": 48,
     "metadata": {},
     "output_type": "execute_result"
    }
   ],
   "source": [
    "DF[\"sunset_angle\"][:5]"
   ]
  },
  {
   "cell_type": "markdown",
   "metadata": {},
   "source": [
    "<div style=\"padding: 10px;border:2px ridge black;margin: 20px 0px 10px 0px;\">\n",
    "    <p style=\"font-size: 1.5vw;text-align: center;padding: 20px 0px 20px 0px;font-weight: bold;\">\n",
    "        Extraterrestrial radiation (<b><i>R<sub>a</sub></i></b>), MJ m<sup>-2</sup> day<sup>-1</sup>\n",
    "</p>\n",
    "</div>"
   ]
  },
  {
   "cell_type": "markdown",
   "metadata": {},
   "source": [
    "<div style=\"padding: 10px;border:2px ridge black;margin: 10px 0px 20px 0px;\">\n",
    "    <p style=\"font-size: 1.6vw;text-align: left;font-weight: 550;text-indent: 50px;padding: \n",
    "              20px 10px 5px 10px;line-height: 1.5;\">\n",
    "\n",
    "    This is the extratestrial radiation for each day. This calculation incorperates the previous compnents: <b><i>ω</i><b/><sub>s</sub>, \n",
    "    <b><i>d</i><b/><sub>r</sub>, <b><i>φ</i><b/>, <b><i>δ</i><b/>.\n",
    "</p>   \n",
    "</div>"
   ]
  },
  {
   "cell_type": "markdown",
   "metadata": {},
   "source": [
    "<div style=\"padding: 10px;border:2px ridge black;margin: 10px 0px 20px 0px;\">\n",
    "<img src=\"https://drive.google.com/uc?id=1u__eQbMEQ8fhCNn8vZgE-JkRuMxHfggL\" \n",
    "         style=\"width:40vw;height:auto;padding: 20px 0px 0px 0px;\"\n",
    "                align=\"center\">\n",
    "\n",
    "<p style=\"font-size: 1vw;text-align: left;font-weight: bold;text-indent: 10px;padding: \n",
    "              0px 10px 5px 10px;line-height: 1.5;\">\n",
    "<a href=https://drive.google.com/file/d/1EVjUARYY0g5o0ioVy70yANynh8DAQ4ir/view?usp=sharing>Figure Source</a>\n",
    "</p>\n",
    "</div>"
   ]
  },
  {
   "cell_type": "code",
   "execution_count": 49,
   "metadata": {},
   "outputs": [],
   "source": [
    "aa = DF[\"sunset_angle\"]*np.sin(lat_in_rad)*np.sin(DF[\"solar.decl\"])"
   ]
  },
  {
   "cell_type": "code",
   "execution_count": 50,
   "metadata": {},
   "outputs": [],
   "source": [
    "bb = np.cos(lat_in_rad)*np.cos(DF[\"solar.decl\"])*np.sin(DF[\"sunset_angle\"])"
   ]
  },
  {
   "cell_type": "code",
   "execution_count": 51,
   "metadata": {},
   "outputs": [],
   "source": [
    "DF[\"extraT_rad\"] = (((24*60)/math.pi)*0.0820*DF[\"earth.sun.rel.dis\"])*(aa + bb)"
   ]
  },
  {
   "cell_type": "code",
   "execution_count": 52,
   "metadata": {},
   "outputs": [
    {
     "data": {
      "text/plain": [
       "date\n",
       "2017-01-01    17.791824\n",
       "2017-01-02    17.845786\n",
       "2017-01-03    17.904024\n",
       "2017-01-04    17.966519\n",
       "2017-01-05    18.033250\n",
       "Name: extraT_rad, dtype: float64"
      ]
     },
     "execution_count": 52,
     "metadata": {},
     "output_type": "execute_result"
    }
   ],
   "source": [
    "DF[\"extraT_rad\"][:5]"
   ]
  },
  {
   "cell_type": "markdown",
   "metadata": {},
   "source": [
    "<div style=\"padding: 10px;border:2px ridge black;margin: 20px 0px 10px 0px;\">\n",
    "    <p style=\"font-size: 1.5vw;text-align: center;padding: 20px 0px 20px 0px;font-weight: bold;\">\n",
    "        Clear sky solar radiation (R<sub>so</sub>), MJ m<sup>-2</sup> day<sup>-1</sup>\n",
    "</p>\n",
    "</div>"
   ]
  },
  {
   "cell_type": "markdown",
   "metadata": {},
   "source": [
    "<div style=\"padding: 10px;border:2px ridge black;margin: 10px 0px 20px 0px;\">\n",
    "    <p style=\"font-size: 1.6vw;text-align: left;font-weight: 550;text-indent: 50px;padding: \n",
    "              20px 10px 5px 10px;line-height: 1.5;\">\n",
    "\n",
    "    The calculation of the clear sky radiation is given by the following equation. <b><i>Z</i></b> the same elevation value we used previously.\n",
    "</p>   \n",
    "</div>"
   ]
  },
  {
   "cell_type": "markdown",
   "metadata": {},
   "source": [
    "<div style=\"padding: 10px;border:2px ridge black;margin: 10px 0px 20px 0px;\">\n",
    "<img src=\"https://drive.google.com/uc?id=1xNO_UtRH95ktX-bMdXTWPvywJDZpOyk1\" \n",
    "         style=\"width:30vw;height:auto;padding: 20px 0px 0px 0px;\"\n",
    "                align=\"center\">\n",
    "\n",
    "<p style=\"font-size: 1vw;text-align: left;font-weight: bold;text-indent: 10px;padding: \n",
    "              0px 10px 5px 10px;line-height: 1.5;\">\n",
    "<a href=https://drive.google.com/file/d/1EVjUARYY0g5o0ioVy70yANynh8DAQ4ir/view?usp=sharing>Figure Source</a>\n",
    "</p>\n",
    "</div>"
   ]
  },
  {
   "cell_type": "code",
   "execution_count": 53,
   "metadata": {},
   "outputs": [],
   "source": [
    "DF[\"clr_sky_rad\"] = (0.75 + (2e-5)*elevation) * DF[\"extraT_rad\"]"
   ]
  },
  {
   "cell_type": "code",
   "execution_count": 54,
   "metadata": {},
   "outputs": [
    {
     "data": {
      "text/plain": [
       "date\n",
       "2017-01-01    13.696858\n",
       "2017-01-02    13.738400\n",
       "2017-01-03    13.783234\n",
       "2017-01-04    13.831345\n",
       "2017-01-05    13.882717\n",
       "Name: clr_sky_rad, dtype: float64"
      ]
     },
     "execution_count": 54,
     "metadata": {},
     "output_type": "execute_result"
    }
   ],
   "source": [
    "DF[\"clr_sky_rad\"][:5]"
   ]
  },
  {
   "cell_type": "markdown",
   "metadata": {},
   "source": [
    "<div style=\"padding: 10px;border:2px ridge black;margin: 20px 0px 10px 0px;\">\n",
    "    <p style=\"font-size: 1.5vw;text-align: center;padding: 20px 0px 20px 0px;font-weight: bold;\">\n",
    "        Net solar or net shortwave radiation (R<sub>ns</sub>), MJ m<sup>-2</sup> day<sup>-1</sup>\n",
    "</p>\n",
    "</div>"
   ]
  },
  {
   "cell_type": "markdown",
   "metadata": {},
   "source": [
    "<div style=\"padding: 10px;border:2px ridge black;margin: 10px 0px 20px 0px;\">\n",
    "    <p style=\"font-size: 1.6vw;text-align: left;font-weight: 550;text-indent: 50px;padding: \n",
    "              20px 10px 5px 10px;line-height: 1.5;\">\n",
    "\n",
    "    The calculation of the clear sky radiation is given by the following equation. <b><i>Z</i></b> the same elevation value we used previously.\n",
    "</p>   \n",
    "</div>"
   ]
  },
  {
   "cell_type": "markdown",
   "metadata": {},
   "source": [
    "<div style=\"padding: 10px;border:2px ridge black;margin: 10px 0px 20px 0px;\">\n",
    "<img src=\"https://drive.google.com/uc?id=1FqNN0XwKWUTnJ4DViKKHHVI1qLcKfjdS\" \n",
    "         style=\"width:14vw;height:auto;padding: 20px 0px 0px 0px;\"\n",
    "                align=\"center\">\n",
    "\n",
    "<p style=\"font-size: 1vw;text-align: left;font-weight: bold;text-indent: 10px;padding: \n",
    "              0px 10px 5px 10px;line-height: 1.5;\">\n",
    "<a href=https://drive.google.com/file/d/1EVjUARYY0g5o0ioVy70yANynh8DAQ4ir/view?usp=sharing>Figure Source</a>\n",
    "</p>\n",
    "</div>"
   ]
  },
  {
   "cell_type": "code",
   "execution_count": 55,
   "metadata": {},
   "outputs": [],
   "source": [
    "albedo = 0.23"
   ]
  },
  {
   "cell_type": "code",
   "execution_count": 56,
   "metadata": {},
   "outputs": [],
   "source": [
    "DF[\"net.rad.MJ/m2*day\"] = (1 - 0.23) * DF[\"radn.MJ/m2\"]"
   ]
  },
  {
   "cell_type": "code",
   "execution_count": 57,
   "metadata": {},
   "outputs": [
    {
     "data": {
      "text/plain": [
       "date\n",
       "2017-01-01    9.683816\n",
       "2017-01-02    9.241404\n",
       "2017-01-03    9.022527\n",
       "2017-01-04    9.206810\n",
       "2017-01-05    9.542776\n",
       "Name: net.rad.MJ/m2*day, dtype: float64"
      ]
     },
     "execution_count": 57,
     "metadata": {},
     "output_type": "execute_result"
    }
   ],
   "source": [
    "DF[\"net.rad.MJ/m2*day\"][:5]"
   ]
  },
  {
   "cell_type": "markdown",
   "metadata": {},
   "source": [
    "<div style=\"padding: 10px;border:2px ridge black;margin: 20px 0px 10px 0px;\">\n",
    "    <p style=\"font-size: 1.5vw;text-align: center;padding: 20px 0px 20px 0px;font-weight: bold;\">\n",
    "        Net outgoing long wave solar radiation (R<sub>nl</sub>), MJ m<sup>-2</sup> day<sup>-1</sup>\n",
    "</p>\n",
    "</div>"
   ]
  },
  {
   "cell_type": "markdown",
   "metadata": {},
   "source": [
    "<div style=\"padding: 10px;border:2px ridge black;margin: 10px 0px 20px 0px;\">\n",
    "    <p style=\"font-size: 1.6vw;text-align: left;font-weight: 550;text-indent: 50px;padding: \n",
    "              20px 10px 5px 10px;line-height: 1.5;\">\n",
    "\n",
    "    The rate of longwave energy emission is proportional to the absolute temperature of the surface raised to the fourth power. This is expressed in the <i>Stefan-Boltzman Law</i>. The net flux is less than Stefan-Boltzman, however. The abosrption and downward radiation from the sky reduces this enrgy flux. \n",
    "</p>   \n",
    "</div>"
   ]
  },
  {
   "cell_type": "markdown",
   "metadata": {},
   "source": [
    "<div style=\"padding: 10px;border:2px ridge black;margin: 10px 0px 20px 0px;\">\n",
    "<img src=\"https://drive.google.com/uc?id=1ZJSo4jsDwTGhpRqiSt1nraBGkeg7PhmU\" \n",
    "         style=\"width:52vw;height:auto;padding: 20px 0px 0px 0px;\"\n",
    "                align=\"center\">\n",
    "\n",
    "<p style=\"font-size: 1vw;text-align: left;font-weight: bold;text-indent: 10px;padding: \n",
    "              0px 10px 5px 10px;line-height: 1.5;\">\n",
    "<a href=https://drive.google.com/file/d/1EVjUARYY0g5o0ioVy70yANynh8DAQ4ir/view?usp=sharing>Figure Source</a>\n",
    "</p>\n",
    "</div>"
   ]
  },
  {
   "cell_type": "code",
   "execution_count": 58,
   "metadata": {},
   "outputs": [],
   "source": [
    "sb_const = 4.903e-9"
   ]
  },
  {
   "cell_type": "code",
   "execution_count": 59,
   "metadata": {},
   "outputs": [],
   "source": [
    "DF[\"sb_flux\"] = ((DF[\"maxt.C\"]+273.16)**4 + (DF[\"mint.C\"]+273.16)**4)/2"
   ]
  },
  {
   "cell_type": "code",
   "execution_count": 60,
   "metadata": {},
   "outputs": [],
   "source": [
    "DF[\"outLW_rad\"] = sb_const * (DF[\"sb_flux\"] * (0.34-(0.14*np.sqrt(DF[\"actual.vap\"])))*(1.35*(DF[\"radn.MJ/m2\"]/DF[\"clr_sky_rad\"]) - 0.35))"
   ]
  },
  {
   "cell_type": "code",
   "execution_count": 61,
   "metadata": {},
   "outputs": [
    {
     "data": {
      "text/plain": [
       "date\n",
       "2017-01-01    6.517991\n",
       "2017-01-02    5.910620\n",
       "2017-01-03    5.592693\n",
       "2017-01-04    5.878298\n",
       "2017-01-05    5.997758\n",
       "Name: outLW_rad, dtype: float64"
      ]
     },
     "execution_count": 61,
     "metadata": {},
     "output_type": "execute_result"
    }
   ],
   "source": [
    "DF[\"outLW_rad\"][:5]"
   ]
  },
  {
   "cell_type": "markdown",
   "metadata": {},
   "source": [
    "<div style=\"padding: 10px;border:2px ridge black;margin: 20px 0px 10px 0px;\">\n",
    "    <p style=\"font-size: 1.5vw;text-align: center;padding: 20px 0px 20px 0px;font-weight: bold;\">\n",
    "        Net radiation (R<sub>n</sub>), MJ m<sup>-2</sup> day<sup>-1</sup>\n",
    "</p>\n",
    "</div>"
   ]
  },
  {
   "cell_type": "markdown",
   "metadata": {},
   "source": [
    "<div style=\"padding: 10px;border:2px ridge black;margin: 10px 0px 20px 0px;\">\n",
    "    <p style=\"font-size: 1.6vw;text-align: left;font-weight: 550;text-indent: 50px;padding: \n",
    "              20px 10px 5px 10px;line-height: 1.5;\">\n",
    "\n",
    "    Net radiation (R<sub>n</sub>) is the difference between the incoming net shortwave radiation (R<sub>ns</sub>) and the outgoing net longwave radiation (R<sub>nl</sub>). We can express this a mega joules and in terms of water.\n",
    "</p>   \n",
    "</div>"
   ]
  },
  {
   "cell_type": "markdown",
   "metadata": {},
   "source": [
    "<div style=\"padding: 10px;border:2px ridge black;margin: 10px 0px 20px 0px;\">\n",
    "<img src=\"https://drive.google.com/uc?id=1__YSiO1vUaCdLM6GD0zaqpeuRwQWR_Bp\" \n",
    "         style=\"width:14vw;height:auto;padding: 20px 0px 0px 0px;\"\n",
    "                align=\"center\">\n",
    "\n",
    "<p style=\"font-size: 1vw;text-align: left;font-weight: bold;text-indent: 10px;padding: \n",
    "              0px 10px 5px 10px;line-height: 1.5;\">\n",
    "<a href=https://drive.google.com/file/d/1EVjUARYY0g5o0ioVy70yANynh8DAQ4ir/view?usp=sharing>Figure Source</a>\n",
    "</p>\n",
    "</div>"
   ]
  },
  {
   "cell_type": "code",
   "execution_count": 62,
   "metadata": {},
   "outputs": [],
   "source": [
    "DF[\"total.net.rad\"] = DF[\"net.rad.MJ/m2*day\"] - DF[\"outLW_rad\"]"
   ]
  },
  {
   "cell_type": "code",
   "execution_count": 63,
   "metadata": {},
   "outputs": [
    {
     "data": {
      "text/plain": [
       "date\n",
       "2017-01-01    3.165824\n",
       "2017-01-02    3.330785\n",
       "2017-01-03    3.429834\n",
       "2017-01-04    3.328512\n",
       "2017-01-05    3.545018\n",
       "Name: total.net.rad, dtype: float64"
      ]
     },
     "execution_count": 63,
     "metadata": {},
     "output_type": "execute_result"
    }
   ],
   "source": [
    "DF[\"total.net.rad\"][:5]"
   ]
  },
  {
   "cell_type": "markdown",
   "metadata": {},
   "source": [
    "<div style=\"padding: 10px;border:2px ridge black;margin: 10px 0px 20px 0px;\">\n",
    "    <p style=\"font-size: 1.6vw;text-align: left;font-weight: 550;text-indent: 50px;padding: \n",
    "              20px 10px 5px 10px;line-height: 1.5;\">\n",
    "\n",
    "    We can now convert the net solar radaition into mm of water by multiply our net radiation by a constant that represents the heat of vaporization of water.\n",
    "</p>   \n",
    "</div>"
   ]
  },
  {
   "cell_type": "markdown",
   "metadata": {},
   "source": [
    "<div style=\"padding: 10px;border:2px ridge black;margin: 10px 0px 20px 0px;\">\n",
    "<img src=\"https://drive.google.com/uc?id=1J5olunrf2YdLn5MznHQtOTdFVHBAvxSC\" \n",
    "         style=\"width:16vw;height:auto;padding: 20px 0px 0px 0px;\"\n",
    "                align=\"center\">\n",
    "\n",
    "<p style=\"font-size: 1vw;text-align: left;font-weight: bold;text-indent: 10px;padding: \n",
    "              0px 10px 5px 10px;line-height: 1.5;\">\n",
    "<a href=https://drive.google.com/file/d/1EVjUARYY0g5o0ioVy70yANynh8DAQ4ir/view?usp=sharing>Figure Source</a>\n",
    "</p>\n",
    "</div>"
   ]
  },
  {
   "cell_type": "code",
   "execution_count": 64,
   "metadata": {},
   "outputs": [],
   "source": [
    "DF[\"total.net.rad.mm\"] = DF[\"total.net.rad\"] * 0.408"
   ]
  },
  {
   "cell_type": "code",
   "execution_count": 65,
   "metadata": {},
   "outputs": [
    {
     "data": {
      "text/plain": [
       "date\n",
       "2017-01-01    1.291656\n",
       "2017-01-02    1.358960\n",
       "2017-01-03    1.399372\n",
       "2017-01-04    1.358033\n",
       "2017-01-05    1.446367\n",
       "Name: total.net.rad.mm, dtype: float64"
      ]
     },
     "execution_count": 65,
     "metadata": {},
     "output_type": "execute_result"
    }
   ],
   "source": [
    "DF[\"total.net.rad.mm\"][:5]"
   ]
  },
  {
   "cell_type": "markdown",
   "metadata": {},
   "source": [
    "<div style=\"padding: 10px;border:2px ridge black;margin: 20px 0px 10px 0px;\">\n",
    "    <p style=\"font-size: 1.5vw;text-align: center;padding: 20px 0px 20px 0px;font-weight: bold;\">\n",
    "        Overall ET<sub>o</sub> equation\n",
    "</p>\n",
    "</div>"
   ]
  },
  {
   "cell_type": "markdown",
   "metadata": {},
   "source": [
    "<div style=\"padding: 10px;border:2px ridge black;margin: 10px 0px 20px 0px;\">\n",
    "    <p style=\"font-size: 1.6vw;text-align: left;font-weight: 550;text-indent: 50px;padding: \n",
    "              20px 10px 5px 10px;line-height: 1.5;\">\n",
    "\n",
    "    <b>Final radiation driven ET value, (ET<sub>rad</sub>), mm d<sup>-1</sup></b>\n",
    "</p>   \n",
    "</div>"
   ]
  },
  {
   "cell_type": "markdown",
   "metadata": {},
   "source": [
    "<div style=\"padding: 10px;border:2px ridge black;margin: 10px 0px 20px 0px;\">\n",
    "<img src=\"https://drive.google.com/uc?id=18GT2SUT_wUz-kf44eD4lCrdWFTDBQCF_\" \n",
    "         style=\"width:28vw;height:auto;padding: 20px 0px 0px 0px;\"\n",
    "                align=\"center\">\n",
    "\n",
    "<p style=\"font-size: 1vw;text-align: left;font-weight: bold;text-indent: 10px;padding: \n",
    "              0px 10px 5px 10px;line-height: 1.5;\">\n",
    "<a href=https://drive.google.com/file/d/1EVjUARYY0g5o0ioVy70yANynh8DAQ4ir/view?usp=sharing>Figure Source</a>\n",
    "</p>\n",
    "</div>"
   ]
  },
  {
   "cell_type": "code",
   "execution_count": 67,
   "metadata": {},
   "outputs": [],
   "source": [
    "DF[\"ET_rad\"] = DF[\"delta.term\"] * DF[\"total.net.rad.mm\"]"
   ]
  },
  {
   "cell_type": "code",
   "execution_count": 68,
   "metadata": {},
   "outputs": [
    {
     "data": {
      "text/plain": [
       "date\n",
       "2017-01-01    0.508421\n",
       "2017-01-02    0.480295\n",
       "2017-01-03    0.401475\n",
       "2017-01-04    0.385735\n",
       "2017-01-05    0.285850\n",
       "Name: ET_rad, dtype: float64"
      ]
     },
     "execution_count": 68,
     "metadata": {},
     "output_type": "execute_result"
    }
   ],
   "source": [
    "DF[\"ET_rad\"][:5]"
   ]
  },
  {
   "cell_type": "markdown",
   "metadata": {},
   "source": [
    "<div style=\"padding: 10px;border:2px ridge black;margin: 10px 0px 20px 0px;\">\n",
    "    <p style=\"font-size: 1.6vw;text-align: left;font-weight: 550;text-indent: 50px;padding: \n",
    "              20px 10px 5px 10px;line-height: 1.5;\">\n",
    "\n",
    "    <b>Final wind driven ET value, (ET<sub>wind</sub>), mm d<sup>-1</sup></b>\n",
    "</p>   \n",
    "</div>"
   ]
  },
  {
   "cell_type": "markdown",
   "metadata": {},
   "source": [
    "<div style=\"padding: 10px;border:2px ridge black;margin: 10px 0px 20px 0px;\">\n",
    "<img src=\"https://drive.google.com/uc?id=1MYEAhfSb0X8wXEO8Ki7Gp5ZyLKkh0A9d\" \n",
    "         style=\"width:32vw;height:auto;padding: 20px 0px 0px 0px;\"\n",
    "                align=\"center\">\n",
    "\n",
    "<p style=\"font-size: 1vw;text-align: left;font-weight: bold;text-indent: 10px;padding: \n",
    "              0px 10px 5px 10px;line-height: 1.5;\">\n",
    "<a href=https://drive.google.com/file/d/1EVjUARYY0g5o0ioVy70yANynh8DAQ4ir/view?usp=sharing>Figure Source</a>\n",
    "</p>\n",
    "</div>"
   ]
  },
  {
   "cell_type": "code",
   "execution_count": 69,
   "metadata": {},
   "outputs": [],
   "source": [
    "DF[\"ET_wind\"] = DF[\"psi.term\"]*DF[\"temp.term\"]*(DF[\"mean.sat.vap\"] - DF[\"actual.vap\"])"
   ]
  },
  {
   "cell_type": "code",
   "execution_count": 70,
   "metadata": {
    "scrolled": false
   },
   "outputs": [
    {
     "data": {
      "text/plain": [
       "date\n",
       "2017-01-01    2.618442\n",
       "2017-01-02    2.687036\n",
       "2017-01-03    1.708601\n",
       "2017-01-04    1.908311\n",
       "2017-01-05    1.961908\n",
       "Name: ET_wind, dtype: float64"
      ]
     },
     "execution_count": 70,
     "metadata": {},
     "output_type": "execute_result"
    }
   ],
   "source": [
    "DF[\"ET_wind\"][:5]"
   ]
  },
  {
   "cell_type": "markdown",
   "metadata": {},
   "source": [
    "<div style=\"padding: 10px;border:2px ridge black;margin: 10px 0px 20px 0px;\">\n",
    "    <p style=\"font-size: 2.25vw;text-align: left;font-weight: 550;text-indent: 50px;padding: \n",
    "              20px 10px 5px 10px;line-height: 1.5;\">\n",
    "\n",
    "    <b>Final Reference Evapotranspiration value, (ET<sub>o</sub>), mm d<sup>-1</sup></b>\n",
    "</p>   \n",
    "</div>"
   ]
  },
  {
   "cell_type": "markdown",
   "metadata": {},
   "source": [
    "<div style=\"padding: 10px;border:2px ridge black;margin: 10px 0px 20px 0px;\">\n",
    "<img src=\"https://drive.google.com/uc?id=1iqqgHvmUCObACrWFP_3Zu6dbBKMe6hXA\" \n",
    "         style=\"width:32vw;height:auto;padding: 20px 0px 0px 0px;\"\n",
    "                align=\"center\">\n",
    "\n",
    "<p style=\"font-size: 1vw;text-align: left;font-weight: bold;text-indent: 10px;padding: \n",
    "              0px 10px 5px 10px;line-height: 1.5;\">\n",
    "<a href=https://drive.google.com/file/d/1EVjUARYY0g5o0ioVy70yANynh8DAQ4ir/view?usp=sharing>Figure Source</a>\n",
    "</p>\n",
    "</div>"
   ]
  },
  {
   "cell_type": "code",
   "execution_count": 71,
   "metadata": {},
   "outputs": [],
   "source": [
    "DF[\"ETo\"] = DF[\"ET_rad\"] + DF[\"ET_wind\"]"
   ]
  },
  {
   "cell_type": "code",
   "execution_count": 72,
   "metadata": {},
   "outputs": [
    {
     "data": {
      "text/plain": [
       "date\n",
       "2017-01-01    3.126863\n",
       "2017-01-02    3.167332\n",
       "2017-01-03    2.110076\n",
       "2017-01-04    2.294045\n",
       "2017-01-05    2.247759\n",
       "Name: ETo, dtype: float64"
      ]
     },
     "execution_count": 72,
     "metadata": {},
     "output_type": "execute_result"
    }
   ],
   "source": [
    "DF[\"ETo\"][:5]"
   ]
  },
  {
   "cell_type": "code",
   "execution_count": 73,
   "metadata": {},
   "outputs": [],
   "source": [
    "def get_polynomial_regression(x_in, y_in, degree_of_poly):\n",
    "\n",
    "    x = x_in\n",
    "    y = y_in\n",
    "\n",
    "    z = np.polyfit(x, y, 3)\n",
    "    f = np.poly1d(z) # fit_fn is now a function which takes in x and returns an estimate for y\n",
    "    x_new = np.linspace(x[0], x[-1], len(x))\n",
    "    y_new = f(x_new)\n",
    "    \n",
    "    return(x_new, y_new, f)"
   ]
  },
  {
   "cell_type": "code",
   "execution_count": 79,
   "metadata": {},
   "outputs": [],
   "source": [
    "(x1,y1, fit_fn1) = get_polynomial_regression(DF[\"day\"],DF[\"avg.RH.%\"],3)\n",
    "(x2,y2, fit_fn2) = get_polynomial_regression(DF[\"day\"],DF[\"wind.2m.m/s\"],3)\n",
    "(x3,y3, fit_fn3) = get_polynomial_regression(DF[\"day\"],DF[\"ET_rad\"],3)\n",
    "(x4,y4, fit_fn4) = get_polynomial_regression(DF[\"day\"],DF[\"ET_wind\"],3)\n",
    "(x5,y5, fit_fn5) = get_polynomial_regression(DF[\"day\"],DF[\"ETo\"],3)\n",
    "\n",
    "d = {\"avg.RH.%.y1\":y1,\"wind.2m.m/s.y2\":y2,\"ET_rad.y3\":y3,\"ET_wind.y4\":y4,\"ETo\":DF[\"ETo\"],\"ETo.y5\":y5}\n",
    "\n",
    "data = pd.DataFrame(data=d)\n",
    "regressed_data = data.set_index(DF[\"date\"]) "
   ]
  },
  {
   "cell_type": "code",
   "execution_count": 80,
   "metadata": {},
   "outputs": [
    {
     "data": {
      "text/html": [
       "<div>\n",
       "<style scoped>\n",
       "    .dataframe tbody tr th:only-of-type {\n",
       "        vertical-align: middle;\n",
       "    }\n",
       "\n",
       "    .dataframe tbody tr th {\n",
       "        vertical-align: top;\n",
       "    }\n",
       "\n",
       "    .dataframe thead th {\n",
       "        text-align: right;\n",
       "    }\n",
       "</style>\n",
       "<table border=\"1\" class=\"dataframe\">\n",
       "  <thead>\n",
       "    <tr style=\"text-align: right;\">\n",
       "      <th></th>\n",
       "      <th>ET_rad.y3</th>\n",
       "      <th>ET_wind.y4</th>\n",
       "      <th>ETo</th>\n",
       "      <th>ETo.y5</th>\n",
       "      <th>avg.RH.%.y1</th>\n",
       "      <th>wind.2m.m/s.y2</th>\n",
       "    </tr>\n",
       "    <tr>\n",
       "      <th>date</th>\n",
       "      <th></th>\n",
       "      <th></th>\n",
       "      <th></th>\n",
       "      <th></th>\n",
       "      <th></th>\n",
       "      <th></th>\n",
       "    </tr>\n",
       "  </thead>\n",
       "  <tbody>\n",
       "    <tr>\n",
       "      <th>2017-01-01</th>\n",
       "      <td>-0.417589</td>\n",
       "      <td>1.886937</td>\n",
       "      <td>3.126863</td>\n",
       "      <td>1.469348</td>\n",
       "      <td>54.911811</td>\n",
       "      <td>3.355808</td>\n",
       "    </tr>\n",
       "    <tr>\n",
       "      <th>2017-01-02</th>\n",
       "      <td>-0.378136</td>\n",
       "      <td>1.945024</td>\n",
       "      <td>3.167332</td>\n",
       "      <td>1.566889</td>\n",
       "      <td>54.681548</td>\n",
       "      <td>3.380334</td>\n",
       "    </tr>\n",
       "    <tr>\n",
       "      <th>2017-01-03</th>\n",
       "      <td>-0.338884</td>\n",
       "      <td>2.002401</td>\n",
       "      <td>2.110076</td>\n",
       "      <td>1.663517</td>\n",
       "      <td>54.454780</td>\n",
       "      <td>3.404427</td>\n",
       "    </tr>\n",
       "    <tr>\n",
       "      <th>2017-01-04</th>\n",
       "      <td>-0.299834</td>\n",
       "      <td>2.059069</td>\n",
       "      <td>2.294045</td>\n",
       "      <td>1.759235</td>\n",
       "      <td>54.231489</td>\n",
       "      <td>3.428088</td>\n",
       "    </tr>\n",
       "    <tr>\n",
       "      <th>2017-01-05</th>\n",
       "      <td>-0.260985</td>\n",
       "      <td>2.115032</td>\n",
       "      <td>2.247759</td>\n",
       "      <td>1.854047</td>\n",
       "      <td>54.011656</td>\n",
       "      <td>3.451319</td>\n",
       "    </tr>\n",
       "  </tbody>\n",
       "</table>\n",
       "</div>"
      ],
      "text/plain": [
       "            ET_rad.y3  ET_wind.y4       ETo    ETo.y5  avg.RH.%.y1  \\\n",
       "date                                                                 \n",
       "2017-01-01  -0.417589    1.886937  3.126863  1.469348    54.911811   \n",
       "2017-01-02  -0.378136    1.945024  3.167332  1.566889    54.681548   \n",
       "2017-01-03  -0.338884    2.002401  2.110076  1.663517    54.454780   \n",
       "2017-01-04  -0.299834    2.059069  2.294045  1.759235    54.231489   \n",
       "2017-01-05  -0.260985    2.115032  2.247759  1.854047    54.011656   \n",
       "\n",
       "            wind.2m.m/s.y2  \n",
       "date                        \n",
       "2017-01-01        3.355808  \n",
       "2017-01-02        3.380334  \n",
       "2017-01-03        3.404427  \n",
       "2017-01-04        3.428088  \n",
       "2017-01-05        3.451319  "
      ]
     },
     "execution_count": 80,
     "metadata": {},
     "output_type": "execute_result"
    }
   ],
   "source": [
    "regressed_data[:5]"
   ]
  },
  {
   "cell_type": "code",
   "execution_count": 82,
   "metadata": {},
   "outputs": [],
   "source": [
    "regressed_data_scaled = (regressed_data - regressed_data.mean()) / regressed_data.std()"
   ]
  },
  {
   "cell_type": "code",
   "execution_count": 85,
   "metadata": {},
   "outputs": [
    {
     "data": {
      "text/plain": [
       "<matplotlib.legend.Legend at 0x7f6187c22eb8>"
      ]
     },
     "execution_count": 85,
     "metadata": {},
     "output_type": "execute_result"
    },
    {
     "data": {
      "image/png": "[encoded data removed]",
      "text/plain": [
       "<Figure size 1296x720 with 1 Axes>"
      ]
     },
     "metadata": {},
     "output_type": "display_data"
    }
   ],
   "source": [
    "d = {\"ETo\":DF[\"ETo\"],\"ETo.y5\":y5}\n",
    "\n",
    "data = pd.DataFrame(data=d) \n",
    "cols_data = list(data)\n",
    "plt.figure(figsize=(18,10))\n",
    "\n",
    "for i in cols_data:\n",
    "    plt.plot(data[i])\n",
    "    \n",
    "plt.legend(prop={'size':12})"
   ]
  },
  {
   "cell_type": "code",
   "execution_count": 83,
   "metadata": {},
   "outputs": [
    {
     "data": {
      "text/plain": [
       "<matplotlib.legend.Legend at 0x7f618dfd7fd0>"
      ]
     },
     "execution_count": 83,
     "metadata": {},
     "output_type": "execute_result"
    },
    {
     "data": {
      "image/png": "[encoded data removed]",
      "text/plain": [
       "<Figure size 1296x720 with 1 Axes>"
      ]
     },
     "metadata": {},
     "output_type": "display_data"
    }
   ],
   "source": [
    "cols_regressed_data_scaled = list(regressed_data_scaled)\n",
    "plt.figure(figsize=(18,10))\n",
    "\n",
    "for i in cols_regressed_data_scaled:\n",
    "    plt.plot(regressed_data_scaled[i])\n",
    "    \n",
    "plt.legend(prop={'size':12})"
   ]
  },
  {
   "cell_type": "code",
   "execution_count": 76,
   "metadata": {},
   "outputs": [
    {
     "data": {
      "text/plain": [
       "[<matplotlib.lines.Line2D at 0x7f618de27e80>]"
      ]
     },
     "execution_count": 76,
     "metadata": {},
     "output_type": "execute_result"
    },
    {
     "data": {
      "image/png": "[encoded data removed]",
      "text/plain": [
       "<Figure size 432x288 with 1 Axes>"
      ]
     },
     "metadata": {},
     "output_type": "display_data"
    }
   ],
   "source": [
    "plt.plot(regressed_data[\"wind.2m.m/s.y2\"])"
   ]
  },
  {
   "cell_type": "code",
   "execution_count": 77,
   "metadata": {},
   "outputs": [
    {
     "data": {
      "text/plain": [
       "[<matplotlib.lines.Line2D at 0x7f618e059358>]"
      ]
     },
     "execution_count": 77,
     "metadata": {},
     "output_type": "execute_result"
    },
    {
     "data": {
      "image/png": "[encoded data removed]",
      "text/plain": [
       "<Figure size 432x288 with 1 Axes>"
      ]
     },
     "metadata": {},
     "output_type": "display_data"
    }
   ],
   "source": [
    "plt.plot(regressed_data[\"ET_rad.y3\"])"
   ]
  },
  {
   "cell_type": "code",
   "execution_count": 78,
   "metadata": {},
   "outputs": [
    {
     "data": {
      "text/plain": [
       "[<matplotlib.lines.Line2D at 0x7f618e00e3c8>]"
      ]
     },
     "execution_count": 78,
     "metadata": {},
     "output_type": "execute_result"
    },
    {
     "data": {
      "image/png": "[encoded data removed]",
      "text/plain": [
       "<Figure size 432x288 with 1 Axes>"
      ]
     },
     "metadata": {},
     "output_type": "display_data"
    }
   ],
   "source": [
    "plt.plot(regressed_data[\"ET_wind.y4\"])"
   ]
  },
  {
   "cell_type": "code",
   "execution_count": null,
   "metadata": {},
   "outputs": [],
   "source": [
    "plt.plot(regressed_data)"
   ]
  },
  {
   "cell_type": "code",
   "execution_count": null,
   "metadata": {},
   "outputs": [],
   "source": [
    "cols_regressed_data_scaled = list(regressed_data_scaled)\n",
    "plt.figure(figsize=(18,10))\n",
    "\n",
    "for i in cols_regressed_data_scaled:\n",
    "    plt.plot(regressed_data_scaled[i])\n",
    "    \n",
    "plt.legend(prop={'size':12})"
   ]
  },
  {
   "cell_type": "code",
   "execution_count": null,
   "metadata": {},
   "outputs": [],
   "source": [
    "DF = pd.read_csv(\"https://drive.google.com/uc?id=1YiLueOw-vbVKIf2kvb9RRKY_hpsCj1zD\")\n",
    "#DF = pd.read_csv(\"Z:\\met_2017_daily_TESTER.csv\")\n",
    "\n",
    "\"\"\" calculate daily mean temperature \"\"\"\n",
    "\n",
    "DF[\"avgt.C\"] = (DF[\"mint.C\"] + DF[\"maxt.C\"]) / 2\n",
    "\n",
    "\"\"\" convert daily solar from watts to megajoules \"\"\"\n",
    "\n",
    "DF[\"radn.MJ/m2\"] = DF[\"radn.W/m2\"] * 0.0864\n",
    "\n",
    "\"\"\" Slope of the saturation vapor pressure curve. Using np.exp because we have vectorized data - base won't work \"\"\"\n",
    "\n",
    "DF[\"delta\"] = 4098 * (0.6106 * np.exp((17.27 * DF[\"avgt.C\"])/(DF[\"avgt.C\"] + 237.3))) / ((DF[\"avgt.C\"] + 237.3)**2)\n",
    "\n",
    "\"\"\" Atmospheric pressure (P) calculation with the only input being elevation above sea level in meters. \"\"\"\n",
    "\n",
    "elevation = 992\n",
    "\n",
    "P = 101.3 * (((293 - (0.0065 * elevation)) / 293) ** 5.26)\n",
    "\n",
    "\"\"\" Psychrometric constant. This is the ratio of specific heat of moist air at constant pressure. \"\"\"\n",
    "\n",
    "gamma = 0.000665 * P\n",
    "\n",
    "\"\"\" Delta Term (DT) is an auxilialy calculation for the radiation term. \"\"\"\n",
    "\n",
    "DF[\"delta.term\"] = DF[\"delta\"] / (DF[\"delta\"] + (gamma * (1 + 0.34 * DF[\"wind.2m.m/s\"])))\n",
    "\n",
    "\"\"\" Psi Term (PT) is an auxiliary calculation for Wind Term \"\"\"\n",
    "\n",
    "DF[\"psi.term\"] = gamma / (DF[\"delta\"] + (gamma * (1 + 0.34 * DF[\"wind.2m.m/s\"])))\n",
    "\n",
    "\"\"\" Temperature Term (TT) is an auxiliary calculation for Wind Term \"\"\"\n",
    "\n",
    "DF[\"temp.term\"] = (900 / (DF[\"avgt.C\"] + 237)) * DF[\"wind.2m.m/s\"]\n",
    "\n",
    "\"\"\" Mean saturation vapor pressure derived from max and min temp values, kPa \"\"\"\n",
    "\n",
    "DF[\"max.sat.vap\"] = 0.6108 * np.exp((17.27 * DF[\"maxt.C\"]) / (DF[\"maxt.C\"] + 237.3))\n",
    "\n",
    "DF[\"min.sat.vap\"] = 0.6108 * np.exp((17.27 * DF[\"mint.C\"]) / (DF[\"mint.C\"] + 237.3))\n",
    "\n",
    "DF[\"mean.sat.vap\"] = (DF[\"min.sat.vap\"] + DF[\"max.sat.vap\"]) / 2\n",
    "\n",
    "\"\"\" The actual vapor pressure (ea) derived from relative humidity. \"\"\"\n",
    "\n",
    "DF[\"actual.vap\"] = ((DF[\"min.sat.vap\"] * (DF[\"max.RH.%\"] / 100)) + (DF[\"max.sat.vap\"] * (DF[\"min.RH.%\"] / 100))) / 2\n",
    "\n",
    "\"\"\" The inverse relative distance Earth-Sun (earth.sun.rel.dis) and solar declination (solar.decl) \"\"\"\n",
    "\n",
    "DF[\"earth.sun.rel.dis\"] = 1 + (0.033 * np.cos(((2 * math.pi)/365) * DF[\"day\"]))\n",
    "\n",
    "DF[\"solar.decl\"] = 0.409 * np.sin((((2 * math.pi)/365) * DF[\"day\"]) - 1.39)\n",
    "\n",
    "\"\"\" Conversion of latitude (lat_in_rad) in degrees to radians \"\"\"\n",
    "\n",
    "lat_in_rad = (math.pi / 180) * (33.5947684)\n",
    "\n",
    "\"\"\" Sunset hour angle (sunset_angle) \"\"\"\n",
    "\n",
    "DF[\"sunset_angle\"] = np.arccos(-math.tan(lat_in_rad) * np.tan(DF[\"solar.decl\"]))\n",
    "\n",
    "\"\"\"\" Extraterrestrial radiation (extraT_rad) \"\"\"\n",
    "\n",
    "aa = DF[\"sunset_angle\"]*np.sin(lat_in_rad)*np.sin(DF[\"solar.decl\"])\n",
    "\n",
    "bb = np.cos(lat_in_rad)*np.cos(DF[\"solar.decl\"])*np.sin(DF[\"sunset_angle\"])\n",
    "\n",
    "DF[\"extraT_rad\"] = (((24*60)/math.pi)*0.0820*DF[\"earth.sun.rel.dis\"])*(aa + bb)\n",
    "\n",
    "\"\"\" Clear sky radiation (clr_sky_rad) \"\"\"\n",
    "\n",
    "DF[\"clr_sky_rad\"] = (0.75 + (2e-5)*elevation) * DF[\"extraT_rad\"]\n",
    "\n",
    "\"\"\" Net solar or net shortwave radiation. \"\"\"\n",
    "\n",
    "albedo = 0.23\n",
    "\n",
    "DF[\"net.rad.MJ/m2*day\"] = (1 - 0.23) * DF[\"radn.MJ/m2\"]\n",
    "\n",
    "\"\"\" Net outgoing long wave solar radiation \"\"\"\n",
    "\n",
    "sb_const = 4.903e-9\n",
    "\n",
    "DF[\"outLW_rad\"] = sb_const * (((DF[\"maxt.C\"]+273.16)**4 + (DF[\"mint.C\"]+273.16)**4)/2)*(0.34-(0.14*np.sqrt(DF[\"actual.vap\"])))*(1.35*(DF[\"radn.MJ/m2\"]/DF[\"clr_sky_rad\"]) - 0.35)\n",
    "\n",
    "\"\"\" Net radiation (total.net.rad) \"\"\"\n",
    "\n",
    "DF[\"total.net.rad\"] = DF[\"net.rad.MJ/m2*day\"] - DF[\"outLW_rad\"]\n",
    "\n",
    "DF[\"total.net.rad.mm\"] = DF[\"total.net.rad\"] * 0.408\n",
    "\n",
    "\"\"\" Radiation term (ET_rad) \"\"\"\n",
    "\n",
    "DF[\"ET_rad\"] = DF[\"delta.term\"] * DF[\"total.net.rad.mm\"]\n",
    "\n",
    "\"\"\" Wind term (ET_wind) \"\"\"\n",
    "\n",
    "DF[\"ET_wind\"] = DF[\"psi.term\"]*DF[\"temp.term\"]*(DF[\"mean.sat.vap\"] - DF[\"actual.vap\"])\n",
    "\n",
    "\"\"\" Final ET calculation \"\"\"\n",
    "\n",
    "DF[\"ETo\"] = DF[\"ET_rad\"] + DF[\"ET_wind\"]\n",
    "\n",
    "\"\"\" set data frame index as date \"\"\"\n",
    "\n",
    "DF[\"ETo\"]\n"
   ]
  },
  {
   "cell_type": "code",
   "execution_count": null,
   "metadata": {},
   "outputs": [],
   "source": []
  },
  {
   "cell_type": "code",
   "execution_count": null,
   "metadata": {},
   "outputs": [],
   "source": [
    "qgrid_widget = qgrid.QgridWidget(df=DF[[\"ETo\",\"ET_wind\",\"ET_rad\",\"total.net.rad\",\"total.net.rad.mm\",\n",
    "                                        \"radn.MJ/m2\",\"avgt.C\",\"wind.2m.m/s\"]], show_toolbar=False)\n",
    "#qgrid_widget.layout = ipyw.Layout(width='40%')\n",
    "qgrid_widget"
   ]
  },
  {
   "cell_type": "code",
   "execution_count": null,
   "metadata": {},
   "outputs": [],
   "source": [
    "qgrid_widget = qgrid.QgridWidget(df=DF[[\"total.net.rad\"]], show_toolbar=True)\n",
    "qgrid_widget.layout = ipyw.Layout(width='20%')\n",
    "qgrid_widget"
   ]
  },
  {
   "cell_type": "code",
   "execution_count": null,
   "metadata": {},
   "outputs": [],
   "source": [
    "weekly_data = DF.resample('W').mean()"
   ]
  },
  {
   "cell_type": "code",
   "execution_count": null,
   "metadata": {},
   "outputs": [],
   "source": [
    "list(DF)"
   ]
  },
  {
   "cell_type": "code",
   "execution_count": null,
   "metadata": {},
   "outputs": [],
   "source": []
  },
  {
   "cell_type": "code",
   "execution_count": null,
   "metadata": {},
   "outputs": [],
   "source": [
    "x = DF[\"day\"]\n",
    "y = DF[\"ETo\"]\n",
    "\n",
    "z = np.polyfit(x, y, 3)\n",
    "f = np.poly1d(z) # fit_fn is now a function which takes in x and returns an estimate for y\n",
    "x_new = np.linspace(x[0], x[-1], 50)\n",
    "y_new = f(x_new)\n",
    "\n",
    "plt.figure(figsize=(18,6.5))\n",
    "plt.plot(x,y,'-', x_new, y_new)\n",
    "plt.ylabel(\"ETo\")\n",
    "print(f)"
   ]
  },
  {
   "cell_type": "markdown",
   "metadata": {},
   "source": [
    "## FAO-56 Link below: ##"
   ]
  },
  {
   "cell_type": "markdown",
   "metadata": {},
   "source": [
    "http://www.fao.org/docrep/X0490E/x0490e08.htm#chapter%204%20%20%20determination%20of%20eto"
   ]
  },
  {
   "cell_type": "markdown",
   "metadata": {},
   "source": [
    "## University of Florida Paper below: ##"
   ]
  },
  {
   "cell_type": "code",
   "execution_count": null,
   "metadata": {
    "scrolled": false
   },
   "outputs": [],
   "source": [
    "from IPython.display import IFrame\n",
    "IFrame(\"https://drive.google.com/uc?id=1EVjUARYY0g5o0ioVy70yANynh8DAQ4ir\", width=1000, height=500) # variable "
   ]
  },
  {
   "cell_type": "markdown",
   "metadata": {},
   "source": [
    "#### This is a way to output python code to the html side ####"
   ]
  },
  {
   "cell_type": "code",
   "execution_count": null,
   "metadata": {},
   "outputs": [],
   "source": [
    "def bar():\n",
    "    from IPython.display import display, HTML\n",
    "    chart = HTML('<h1>Hello, world!</h1>')\n",
    "    # or chart = charts.plot(...)\n",
    "    display(chart)\n",
    "\n",
    "bar()"
   ]
  }
 ],
 "metadata": {
  "kernelspec": {
   "display_name": "Python 3",
   "language": "python",
   "name": "python3"
  },
  "language_info": {
   "codemirror_mode": {
    "name": "ipython",
    "version": 3
   },
   "file_extension": ".py",
   "mimetype": "text/x-python",
   "name": "python",
   "nbconvert_exporter": "python",
   "pygments_lexer": "ipython3",
   "version": "3.6.5"
  }
 },
 "nbformat": 4,
 "nbformat_minor": 2
}
