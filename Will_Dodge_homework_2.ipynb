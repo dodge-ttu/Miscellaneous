{
 "cells": [
  {
   "cell_type": "markdown",
   "metadata": {},
   "source": [
    "### Will Dodge 2018-02-16"
   ]
  },
  {
   "cell_type": "markdown",
   "metadata": {},
   "source": [
    "#### Import packages:"
   ]
  },
  {
   "cell_type": "code",
   "execution_count": 1,
   "metadata": {},
   "outputs": [],
   "source": [
    "import pandas as pd"
   ]
  },
  {
   "cell_type": "markdown",
   "metadata": {},
   "source": [
    "#### Read csv file:"
   ]
  },
  {
   "cell_type": "code",
   "execution_count": 2,
   "metadata": {},
   "outputs": [],
   "source": [
    "filename = 'C:\\\\crop_modeling\\\\weather_lbk.csv'\n",
    "data = pd.read_csv(filename)"
   ]
  },
  {
   "cell_type": "markdown",
   "metadata": {},
   "source": [
    "#### Perform calculations:"
   ]
  },
  {
   "cell_type": "code",
   "execution_count": 3,
   "metadata": {},
   "outputs": [],
   "source": [
    "data['Date'] = pd.to_datetime(data['Date'], format='%m/%d/%Y')\n",
    "data['Avg_temp'] = (data['Temp_High'] + data['Temp_Low']) / 2\n",
    "data['dEMRate'] = 0.0153 * data['Avg_temp'] - 0.16\n",
    "data['accu_EMRate'] = data['dEMRate'].cumsum()\n",
    "data['dGDU'] = data['Avg_temp'] - 10\n",
    "data['accu_GDU'] = data['dGDU'].cumsum()"
   ]
  },
  {
   "cell_type": "markdown",
   "metadata": {},
   "source": [
    "#### View data to be sure it is correct:"
   ]
  },
  {
   "cell_type": "code",
   "execution_count": 4,
   "metadata": {},
   "outputs": [
    {
     "data": {
      "text/html": [
       "<div>\n",
       "<style scoped>\n",
       "    .dataframe tbody tr th:only-of-type {\n",
       "        vertical-align: middle;\n",
       "    }\n",
       "\n",
       "    .dataframe tbody tr th {\n",
       "        vertical-align: top;\n",
       "    }\n",
       "\n",
       "    .dataframe thead th {\n",
       "        text-align: right;\n",
       "    }\n",
       "</style>\n",
       "<table border=\"1\" class=\"dataframe\">\n",
       "  <thead>\n",
       "    <tr style=\"text-align: right;\">\n",
       "      <th></th>\n",
       "      <th>Year</th>\n",
       "      <th>DOY</th>\n",
       "      <th>Temp_High</th>\n",
       "      <th>Temp_Low</th>\n",
       "      <th>Date</th>\n",
       "      <th>Avg_temp</th>\n",
       "      <th>dEMRate</th>\n",
       "      <th>accu_EMRate</th>\n",
       "      <th>dGDU</th>\n",
       "      <th>accu_GDU</th>\n",
       "    </tr>\n",
       "  </thead>\n",
       "  <tbody>\n",
       "    <tr>\n",
       "      <th>0</th>\n",
       "      <td>2017</td>\n",
       "      <td>157</td>\n",
       "      <td>31.02</td>\n",
       "      <td>23.426424</td>\n",
       "      <td>2017-06-06</td>\n",
       "      <td>27.223212</td>\n",
       "      <td>0.256515</td>\n",
       "      <td>0.256515</td>\n",
       "      <td>17.223212</td>\n",
       "      <td>17.223212</td>\n",
       "    </tr>\n",
       "    <tr>\n",
       "      <th>1</th>\n",
       "      <td>2017</td>\n",
       "      <td>158</td>\n",
       "      <td>29.72</td>\n",
       "      <td>22.907257</td>\n",
       "      <td>2017-06-07</td>\n",
       "      <td>26.313628</td>\n",
       "      <td>0.242599</td>\n",
       "      <td>0.499114</td>\n",
       "      <td>16.313628</td>\n",
       "      <td>33.536840</td>\n",
       "    </tr>\n",
       "    <tr>\n",
       "      <th>2</th>\n",
       "      <td>2017</td>\n",
       "      <td>159</td>\n",
       "      <td>31.24</td>\n",
       "      <td>23.799271</td>\n",
       "      <td>2017-06-08</td>\n",
       "      <td>27.519635</td>\n",
       "      <td>0.261050</td>\n",
       "      <td>0.760164</td>\n",
       "      <td>17.519635</td>\n",
       "      <td>51.056476</td>\n",
       "    </tr>\n",
       "    <tr>\n",
       "      <th>3</th>\n",
       "      <td>2017</td>\n",
       "      <td>160</td>\n",
       "      <td>32.43</td>\n",
       "      <td>23.815486</td>\n",
       "      <td>2017-06-09</td>\n",
       "      <td>28.122743</td>\n",
       "      <td>0.270278</td>\n",
       "      <td>1.030442</td>\n",
       "      <td>18.122743</td>\n",
       "      <td>69.179219</td>\n",
       "    </tr>\n",
       "    <tr>\n",
       "      <th>4</th>\n",
       "      <td>2017</td>\n",
       "      <td>161</td>\n",
       "      <td>35.99</td>\n",
       "      <td>27.388229</td>\n",
       "      <td>2017-06-10</td>\n",
       "      <td>31.689115</td>\n",
       "      <td>0.324843</td>\n",
       "      <td>1.355285</td>\n",
       "      <td>21.689115</td>\n",
       "      <td>90.868333</td>\n",
       "    </tr>\n",
       "    <tr>\n",
       "      <th>5</th>\n",
       "      <td>2017</td>\n",
       "      <td>162</td>\n",
       "      <td>35.86</td>\n",
       "      <td>27.970174</td>\n",
       "      <td>2017-06-11</td>\n",
       "      <td>31.915087</td>\n",
       "      <td>0.328301</td>\n",
       "      <td>1.683586</td>\n",
       "      <td>21.915087</td>\n",
       "      <td>112.783420</td>\n",
       "    </tr>\n",
       "    <tr>\n",
       "      <th>6</th>\n",
       "      <td>2017</td>\n",
       "      <td>163</td>\n",
       "      <td>36.12</td>\n",
       "      <td>27.273438</td>\n",
       "      <td>2017-06-12</td>\n",
       "      <td>31.696719</td>\n",
       "      <td>0.324960</td>\n",
       "      <td>2.008546</td>\n",
       "      <td>21.696719</td>\n",
       "      <td>134.480139</td>\n",
       "    </tr>\n",
       "    <tr>\n",
       "      <th>7</th>\n",
       "      <td>2017</td>\n",
       "      <td>164</td>\n",
       "      <td>36.39</td>\n",
       "      <td>27.482118</td>\n",
       "      <td>2017-06-13</td>\n",
       "      <td>31.936059</td>\n",
       "      <td>0.328622</td>\n",
       "      <td>2.337168</td>\n",
       "      <td>21.936059</td>\n",
       "      <td>156.416198</td>\n",
       "    </tr>\n",
       "    <tr>\n",
       "      <th>8</th>\n",
       "      <td>2017</td>\n",
       "      <td>165</td>\n",
       "      <td>36.85</td>\n",
       "      <td>27.927361</td>\n",
       "      <td>2017-06-14</td>\n",
       "      <td>32.388681</td>\n",
       "      <td>0.335547</td>\n",
       "      <td>2.672715</td>\n",
       "      <td>22.388681</td>\n",
       "      <td>178.804878</td>\n",
       "    </tr>\n",
       "    <tr>\n",
       "      <th>9</th>\n",
       "      <td>2017</td>\n",
       "      <td>166</td>\n",
       "      <td>36.04</td>\n",
       "      <td>25.806215</td>\n",
       "      <td>2017-06-15</td>\n",
       "      <td>30.923108</td>\n",
       "      <td>0.313124</td>\n",
       "      <td>2.985838</td>\n",
       "      <td>20.923108</td>\n",
       "      <td>199.727986</td>\n",
       "    </tr>\n",
       "  </tbody>\n",
       "</table>\n",
       "</div>"
      ],
      "text/plain": [
       "   Year  DOY  Temp_High   Temp_Low       Date   Avg_temp   dEMRate  \\\n",
       "0  2017  157      31.02  23.426424 2017-06-06  27.223212  0.256515   \n",
       "1  2017  158      29.72  22.907257 2017-06-07  26.313628  0.242599   \n",
       "2  2017  159      31.24  23.799271 2017-06-08  27.519635  0.261050   \n",
       "3  2017  160      32.43  23.815486 2017-06-09  28.122743  0.270278   \n",
       "4  2017  161      35.99  27.388229 2017-06-10  31.689115  0.324843   \n",
       "5  2017  162      35.86  27.970174 2017-06-11  31.915087  0.328301   \n",
       "6  2017  163      36.12  27.273438 2017-06-12  31.696719  0.324960   \n",
       "7  2017  164      36.39  27.482118 2017-06-13  31.936059  0.328622   \n",
       "8  2017  165      36.85  27.927361 2017-06-14  32.388681  0.335547   \n",
       "9  2017  166      36.04  25.806215 2017-06-15  30.923108  0.313124   \n",
       "\n",
       "   accu_EMRate       dGDU    accu_GDU  \n",
       "0     0.256515  17.223212   17.223212  \n",
       "1     0.499114  16.313628   33.536840  \n",
       "2     0.760164  17.519635   51.056476  \n",
       "3     1.030442  18.122743   69.179219  \n",
       "4     1.355285  21.689115   90.868333  \n",
       "5     1.683586  21.915087  112.783420  \n",
       "6     2.008546  21.696719  134.480139  \n",
       "7     2.337168  21.936059  156.416198  \n",
       "8     2.672715  22.388681  178.804878  \n",
       "9     2.985838  20.923108  199.727986  "
      ]
     },
     "execution_count": 4,
     "metadata": {},
     "output_type": "execute_result"
    }
   ],
   "source": [
    "data[0:10]"
   ]
  },
  {
   "cell_type": "markdown",
   "metadata": {},
   "source": [
    " #### View the row that relates to the emergence using \"or\" operator:"
   ]
  },
  {
   "cell_type": "code",
   "execution_count": 5,
   "metadata": {},
   "outputs": [
    {
     "data": {
      "text/html": [
       "<div>\n",
       "<style scoped>\n",
       "    .dataframe tbody tr th:only-of-type {\n",
       "        vertical-align: middle;\n",
       "    }\n",
       "\n",
       "    .dataframe tbody tr th {\n",
       "        vertical-align: top;\n",
       "    }\n",
       "\n",
       "    .dataframe thead th {\n",
       "        text-align: right;\n",
       "    }\n",
       "</style>\n",
       "<table border=\"1\" class=\"dataframe\">\n",
       "  <thead>\n",
       "    <tr style=\"text-align: right;\">\n",
       "      <th></th>\n",
       "      <th>Year</th>\n",
       "      <th>DOY</th>\n",
       "      <th>Temp_High</th>\n",
       "      <th>Temp_Low</th>\n",
       "      <th>Date</th>\n",
       "      <th>Avg_temp</th>\n",
       "      <th>dEMRate</th>\n",
       "      <th>accu_EMRate</th>\n",
       "      <th>dGDU</th>\n",
       "      <th>accu_GDU</th>\n",
       "    </tr>\n",
       "  </thead>\n",
       "  <tbody>\n",
       "    <tr>\n",
       "      <th>3</th>\n",
       "      <td>2017</td>\n",
       "      <td>160</td>\n",
       "      <td>32.43</td>\n",
       "      <td>23.815486</td>\n",
       "      <td>2017-06-09</td>\n",
       "      <td>28.122743</td>\n",
       "      <td>0.270278</td>\n",
       "      <td>1.030442</td>\n",
       "      <td>18.122743</td>\n",
       "      <td>69.179219</td>\n",
       "    </tr>\n",
       "  </tbody>\n",
       "</table>\n",
       "</div>"
      ],
      "text/plain": [
       "   Year  DOY  Temp_High   Temp_Low       Date   Avg_temp   dEMRate  \\\n",
       "3  2017  160      32.43  23.815486 2017-06-09  28.122743  0.270278   \n",
       "\n",
       "   accu_EMRate       dGDU   accu_GDU  \n",
       "3     1.030442  18.122743  69.179219  "
      ]
     },
     "execution_count": 5,
     "metadata": {},
     "output_type": "execute_result"
    }
   ],
   "source": [
    "data[(data['accu_GDU'] > 70) | (data['accu_EMRate'] > 1)].iloc[[0]]"
   ]
  },
  {
   "cell_type": "markdown",
   "metadata": {},
   "source": [
    "#### View the row that relates to emergence using  \"and\" operator:"
   ]
  },
  {
   "cell_type": "code",
   "execution_count": 6,
   "metadata": {},
   "outputs": [
    {
     "data": {
      "text/html": [
       "<div>\n",
       "<style scoped>\n",
       "    .dataframe tbody tr th:only-of-type {\n",
       "        vertical-align: middle;\n",
       "    }\n",
       "\n",
       "    .dataframe tbody tr th {\n",
       "        vertical-align: top;\n",
       "    }\n",
       "\n",
       "    .dataframe thead th {\n",
       "        text-align: right;\n",
       "    }\n",
       "</style>\n",
       "<table border=\"1\" class=\"dataframe\">\n",
       "  <thead>\n",
       "    <tr style=\"text-align: right;\">\n",
       "      <th></th>\n",
       "      <th>Year</th>\n",
       "      <th>DOY</th>\n",
       "      <th>Temp_High</th>\n",
       "      <th>Temp_Low</th>\n",
       "      <th>Date</th>\n",
       "      <th>Avg_temp</th>\n",
       "      <th>dEMRate</th>\n",
       "      <th>accu_EMRate</th>\n",
       "      <th>dGDU</th>\n",
       "      <th>accu_GDU</th>\n",
       "    </tr>\n",
       "  </thead>\n",
       "  <tbody>\n",
       "    <tr>\n",
       "      <th>4</th>\n",
       "      <td>2017</td>\n",
       "      <td>161</td>\n",
       "      <td>35.99</td>\n",
       "      <td>27.388229</td>\n",
       "      <td>2017-06-10</td>\n",
       "      <td>31.689115</td>\n",
       "      <td>0.324843</td>\n",
       "      <td>1.355285</td>\n",
       "      <td>21.689115</td>\n",
       "      <td>90.868333</td>\n",
       "    </tr>\n",
       "  </tbody>\n",
       "</table>\n",
       "</div>"
      ],
      "text/plain": [
       "   Year  DOY  Temp_High   Temp_Low       Date   Avg_temp   dEMRate  \\\n",
       "4  2017  161      35.99  27.388229 2017-06-10  31.689115  0.324843   \n",
       "\n",
       "   accu_EMRate       dGDU   accu_GDU  \n",
       "4     1.355285  21.689115  90.868333  "
      ]
     },
     "execution_count": 6,
     "metadata": {},
     "output_type": "execute_result"
    }
   ],
   "source": [
    "data[(data['accu_GDU'] > 70) & (data['accu_EMRate'] > 1)].iloc[[0]]"
   ]
  },
  {
   "cell_type": "markdown",
   "metadata": {},
   "source": [
    "#### View only the date of emergence when using \"or\" operator:"
   ]
  },
  {
   "cell_type": "code",
   "execution_count": 7,
   "metadata": {},
   "outputs": [
    {
     "data": {
      "text/plain": [
       "3   2017-06-09\n",
       "Name: Date, dtype: datetime64[ns]"
      ]
     },
     "execution_count": 7,
     "metadata": {},
     "output_type": "execute_result"
    }
   ],
   "source": [
    "data[(data['accu_GDU'] > 70) | (data['accu_EMRate'] > 1)].iloc[[0]]['Date']"
   ]
  },
  {
   "cell_type": "markdown",
   "metadata": {},
   "source": [
    "#### View only the date of emergence when using \"and\" operator:"
   ]
  },
  {
   "cell_type": "code",
   "execution_count": 8,
   "metadata": {},
   "outputs": [
    {
     "data": {
      "text/plain": [
       "4   2017-06-10\n",
       "Name: Date, dtype: datetime64[ns]"
      ]
     },
     "execution_count": 8,
     "metadata": {},
     "output_type": "execute_result"
    }
   ],
   "source": [
    "data[(data['accu_GDU'] > 70) & (data['accu_EMRate'] > 1)].iloc[[0]]['Date']"
   ]
  },
  {
   "cell_type": "markdown",
   "metadata": {},
   "source": [
    "#### write file:"
   ]
  },
  {
   "cell_type": "code",
   "execution_count": null,
   "metadata": {},
   "outputs": [],
   "source": [
    "data.to_csv('C:\\\\crop_modeling\\\\weather_lbk_EMERGENCE.csv')"
   ]
  },
  {
   "cell_type": "markdown",
   "metadata": {},
   "source": [
    "#### * My understanding is that the accumulated rate fuction represents a percentage of the crop that has ememrged. That's why I created lines that evaluate conditions with \"and\" as well as \"or\". The date returned for these separate methods of evaluation is not the same but I'm thinking that using \"or\" should be sufficient. My thought is that as long as one of the conditions evaluates to True, then emergence should likely occur. I may not be understanding what the accumulated rate actually represents, however."
   ]
  }
 ],
 "metadata": {
  "kernelspec": {
   "display_name": "Python 3",
   "language": "python",
   "name": "python3"
  },
  "language_info": {
   "codemirror_mode": {
    "name": "ipython",
    "version": 3
   },
   "file_extension": ".py",
   "mimetype": "text/x-python",
   "name": "python",
   "nbconvert_exporter": "python",
   "pygments_lexer": "ipython3",
   "version": "3.5.2"
  }
 },
 "nbformat": 4,
 "nbformat_minor": 2
}
