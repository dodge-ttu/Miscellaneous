{
 "cells": [
  {
   "cell_type": "markdown",
   "metadata": {},
   "source": [
    "# Will Dodge 2018-02-25 TTU FOOTBALL RUSHING"
   ]
  },
  {
   "cell_type": "markdown",
   "metadata": {},
   "source": [
    "#### clear environment"
   ]
  },
  {
   "cell_type": "code",
   "execution_count": 1,
   "metadata": {},
   "outputs": [],
   "source": [
    "rm(list=ls())"
   ]
  },
  {
   "cell_type": "markdown",
   "metadata": {},
   "source": [
    "#### import packages"
   ]
  },
  {
   "cell_type": "code",
   "execution_count": 2,
   "metadata": {},
   "outputs": [],
   "source": [
    "library(data.table)\n",
    "library(ggplot2)"
   ]
  },
  {
   "cell_type": "markdown",
   "metadata": {},
   "source": [
    "#### read .csv files with seasonal statistics"
   ]
  },
  {
   "cell_type": "code",
   "execution_count": 3,
   "metadata": {},
   "outputs": [],
   "source": [
    "stats_TT2017TK <- fread('C:/Users/dodge/OneDrive/Documents/TTUFootball Stat Graphics/2017_game_stats_TRE_KING.txt')\n",
    "stats_TT2017 <- fread('C:/Users/dodge/OneDrive/Documents/TTUFootball Stat Graphics/2017_game_stats_TEAM.txt')"
   ]
  },
  {
   "cell_type": "markdown",
   "metadata": {},
   "source": [
    "#### view data"
   ]
  },
  {
   "cell_type": "code",
   "execution_count": 5,
   "metadata": {},
   "outputs": [
    {
     "data": {
      "text/html": [
       "<table>\n",
       "<thead><tr><th scope=col>V1</th><th scope=col>V2</th><th scope=col>V3</th><th scope=col>V4</th><th scope=col>V5</th><th scope=col>V6</th><th scope=col>Rushing</th><th scope=col>Rushing</th><th scope=col>Rushing</th><th scope=col>Rushing</th><th scope=col>Receiving</th><th scope=col>Receiving</th><th scope=col>Receiving</th><th scope=col>Receiving</th><th scope=col>Tackles</th><th scope=col>Tackles</th><th scope=col>Tackles</th><th scope=col>Tackles</th><th scope=col>Tackles</th></tr></thead>\n",
       "<tbody>\n",
       "\t<tr><td>Rk                </td><td>Date              </td><td>School            </td><td>                  </td><td>Opponent          </td><td>                  </td><td>Att               </td><td>Yds               </td><td>Avg               </td><td>TD                </td><td>Rec               </td><td>Yds               </td><td>Avg               </td><td>TD                </td><td>Solo              </td><td>Ast               </td><td>Tot               </td><td>Loss              </td><td>Sk                </td></tr>\n",
       "\t<tr><td>1                 </td><td>2017-09-02        </td><td>Texas Tech        </td><td>                  </td><td>Eastern Washington</td><td>W                 </td><td>4                 </td><td>17                </td><td>4.3               </td><td>1                 </td><td>2                 </td><td>16                </td><td>8.0               </td><td>0                 </td><td>1                 </td><td>0                 </td><td>1                 </td><td>0.0               </td><td>0.0               </td></tr>\n",
       "\t<tr><td>2                 </td><td>2017-09-16        </td><td>Texas Tech        </td><td>                  </td><td>Arizona State     </td><td>W                 </td><td>1                 </td><td>4                 </td><td>4.0               </td><td>0                 </td><td>0                 </td><td>0                 </td><td>                  </td><td>0                 </td><td>0                 </td><td>0                 </td><td>0                 </td><td>0.0               </td><td>0.0               </td></tr>\n",
       "\t<tr><td>3                 </td><td>2017-09-23        </td><td>Texas Tech        </td><td>@                 </td><td>Houston           </td><td>W                 </td><td>9                 </td><td>98                </td><td>10.9              </td><td>0                 </td><td>1                 </td><td>0                 </td><td>0.0               </td><td>0                 </td><td>0                 </td><td>0                 </td><td>0                 </td><td>0.0               </td><td>0.0               </td></tr>\n",
       "\t<tr><td>4                 </td><td>2017-09-30        </td><td>Texas Tech        </td><td>                  </td><td>Oklahoma State    </td><td>L                 </td><td>4                 </td><td>12                </td><td>3.0               </td><td>0                 </td><td>0                 </td><td>0                 </td><td>                  </td><td>0                 </td><td>0                 </td><td>0                 </td><td>0                 </td><td>0.0               </td><td>0.0               </td></tr>\n",
       "\t<tr><td>5                 </td><td>2017-10-07        </td><td>Texas Tech        </td><td>@                 </td><td>Kansas            </td><td>W                 </td><td>10                </td><td>40                </td><td>4.0               </td><td>0                 </td><td>0                 </td><td>0                 </td><td>                  </td><td>0                 </td><td>1                 </td><td>0                 </td><td>1                 </td><td>0.0               </td><td>0.0               </td></tr>\n",
       "\t<tr><td>6                 </td><td>2017-10-14        </td><td>Texas Tech        </td><td>@                 </td><td>West Virginia     </td><td>L                 </td><td>8                 </td><td>67                </td><td>8.4               </td><td>1                 </td><td>2                 </td><td>7                 </td><td>3.5               </td><td>0                 </td><td>1                 </td><td>0                 </td><td>1                 </td><td>0.0               </td><td>0.0               </td></tr>\n",
       "\t<tr><td>7                 </td><td>2017-10-21        </td><td>Texas Tech        </td><td>                  </td><td>Iowa State        </td><td>L                 </td><td>20                </td><td>82                </td><td>4.1               </td><td>0                 </td><td>2                 </td><td>9                 </td><td>4.5               </td><td>0                 </td><td>0                 </td><td>0                 </td><td>0                 </td><td>0.0               </td><td>0.0               </td></tr>\n",
       "\t<tr><td>8                 </td><td>2017-10-28        </td><td>Texas Tech        </td><td>@                 </td><td>Oklahoma          </td><td>L                 </td><td>24                </td><td>113               </td><td>4.7               </td><td>0                 </td><td>4                 </td><td>22                </td><td>5.5               </td><td>0                 </td><td>0                 </td><td>0                 </td><td>0                 </td><td>0.0               </td><td>0.0               </td></tr>\n",
       "\t<tr><td>9                 </td><td>2017-11-04        </td><td>Texas Tech        </td><td>                  </td><td>Kansas State      </td><td>L                 </td><td>16                </td><td>71                </td><td>4.4               </td><td>1                 </td><td>2                 </td><td>13                </td><td>6.5               </td><td>0                 </td><td>0                 </td><td>0                 </td><td>0                 </td><td>0.0               </td><td>0.0               </td></tr>\n",
       "\t<tr><td>10                </td><td>2017-11-11        </td><td>Texas Tech        </td><td>N                 </td><td>Baylor            </td><td>W                 </td><td>20                </td><td>67                </td><td>3.4               </td><td>1                 </td><td>3                 </td><td>22                </td><td>7.3               </td><td>0                 </td><td>0                 </td><td>0                 </td><td>0                 </td><td>0.0               </td><td>0.0               </td></tr>\n",
       "\t<tr><td>11                </td><td>2017-11-18        </td><td>Texas Tech        </td><td>                  </td><td>Texas Christian   </td><td>L                 </td><td>2                 </td><td>4                 </td><td>2.0               </td><td>0                 </td><td>0                 </td><td>0                 </td><td>                  </td><td>0                 </td><td>0                 </td><td>0                 </td><td>0                 </td><td>0.0               </td><td>0.0               </td></tr>\n",
       "\t<tr><td>12                </td><td>2017-11-24        </td><td>Texas Tech        </td><td>@                 </td><td>Texas             </td><td>W                 </td><td>3                 </td><td>13                </td><td>4.3               </td><td>0                 </td><td>0                 </td><td>0                 </td><td>                  </td><td>0                 </td><td>0                 </td><td>0                 </td><td>0                 </td><td>0.0               </td><td>0.0               </td></tr>\n",
       "\t<tr><td>13                </td><td>2017-12-23        </td><td>Texas Tech        </td><td>N                 </td><td>South Florida*    </td><td>L                 </td><td>10                </td><td>35                </td><td>3.5               </td><td>1                 </td><td>1                 </td><td>15                </td><td>15.0              </td><td>0                 </td><td>0                 </td><td>0                 </td><td>0                 </td><td>0.0               </td><td>0.0               </td></tr>\n",
       "\t<tr><td>                  </td><td>13 Games          </td><td>                  </td><td>                  </td><td>                  </td><td>                  </td><td>131               </td><td>623               </td><td>4.8               </td><td>5                 </td><td>17                </td><td>104               </td><td>6.1               </td><td>0                 </td><td>3                 </td><td>0                 </td><td>3                 </td><td>0.0               </td><td>0.0               </td></tr>\n",
       "</tbody>\n",
       "</table>\n"
      ],
      "text/latex": [
       "\\begin{tabular}{r|lllllllllllllllllll}\n",
       " V1 & V2 & V3 & V4 & V5 & V6 & Rushing & Rushing & Rushing & Rushing & Receiving & Receiving & Receiving & Receiving & Tackles & Tackles & Tackles & Tackles & Tackles\\\\\n",
       "\\hline\n",
       "\t Rk                 & Date               & School             &                    & Opponent           &                    & Att                & Yds                & Avg                & TD                 & Rec                & Yds                & Avg                & TD                 & Solo               & Ast                & Tot                & Loss               & Sk                \\\\\n",
       "\t 1                  & 2017-09-02         & Texas Tech         &                    & Eastern Washington & W                  & 4                  & 17                 & 4.3                & 1                  & 2                  & 16                 & 8.0                & 0                  & 1                  & 0                  & 1                  & 0.0                & 0.0               \\\\\n",
       "\t 2                  & 2017-09-16         & Texas Tech         &                    & Arizona State      & W                  & 1                  & 4                  & 4.0                & 0                  & 0                  & 0                  &                    & 0                  & 0                  & 0                  & 0                  & 0.0                & 0.0               \\\\\n",
       "\t 3                  & 2017-09-23         & Texas Tech         & @                  & Houston            & W                  & 9                  & 98                 & 10.9               & 0                  & 1                  & 0                  & 0.0                & 0                  & 0                  & 0                  & 0                  & 0.0                & 0.0               \\\\\n",
       "\t 4                  & 2017-09-30         & Texas Tech         &                    & Oklahoma State     & L                  & 4                  & 12                 & 3.0                & 0                  & 0                  & 0                  &                    & 0                  & 0                  & 0                  & 0                  & 0.0                & 0.0               \\\\\n",
       "\t 5                  & 2017-10-07         & Texas Tech         & @                  & Kansas             & W                  & 10                 & 40                 & 4.0                & 0                  & 0                  & 0                  &                    & 0                  & 1                  & 0                  & 1                  & 0.0                & 0.0               \\\\\n",
       "\t 6                  & 2017-10-14         & Texas Tech         & @                  & West Virginia      & L                  & 8                  & 67                 & 8.4                & 1                  & 2                  & 7                  & 3.5                & 0                  & 1                  & 0                  & 1                  & 0.0                & 0.0               \\\\\n",
       "\t 7                  & 2017-10-21         & Texas Tech         &                    & Iowa State         & L                  & 20                 & 82                 & 4.1                & 0                  & 2                  & 9                  & 4.5                & 0                  & 0                  & 0                  & 0                  & 0.0                & 0.0               \\\\\n",
       "\t 8                  & 2017-10-28         & Texas Tech         & @                  & Oklahoma           & L                  & 24                 & 113                & 4.7                & 0                  & 4                  & 22                 & 5.5                & 0                  & 0                  & 0                  & 0                  & 0.0                & 0.0               \\\\\n",
       "\t 9                  & 2017-11-04         & Texas Tech         &                    & Kansas State       & L                  & 16                 & 71                 & 4.4                & 1                  & 2                  & 13                 & 6.5                & 0                  & 0                  & 0                  & 0                  & 0.0                & 0.0               \\\\\n",
       "\t 10                 & 2017-11-11         & Texas Tech         & N                  & Baylor             & W                  & 20                 & 67                 & 3.4                & 1                  & 3                  & 22                 & 7.3                & 0                  & 0                  & 0                  & 0                  & 0.0                & 0.0               \\\\\n",
       "\t 11                 & 2017-11-18         & Texas Tech         &                    & Texas Christian    & L                  & 2                  & 4                  & 2.0                & 0                  & 0                  & 0                  &                    & 0                  & 0                  & 0                  & 0                  & 0.0                & 0.0               \\\\\n",
       "\t 12                 & 2017-11-24         & Texas Tech         & @                  & Texas              & W                  & 3                  & 13                 & 4.3                & 0                  & 0                  & 0                  &                    & 0                  & 0                  & 0                  & 0                  & 0.0                & 0.0               \\\\\n",
       "\t 13                 & 2017-12-23         & Texas Tech         & N                  & South Florida*     & L                  & 10                 & 35                 & 3.5                & 1                  & 1                  & 15                 & 15.0               & 0                  & 0                  & 0                  & 0                  & 0.0                & 0.0               \\\\\n",
       "\t                    & 13 Games           &                    &                    &                    &                    & 131                & 623                & 4.8                & 5                  & 17                 & 104                & 6.1                & 0                  & 3                  & 0                  & 3                  & 0.0                & 0.0               \\\\\n",
       "\\end{tabular}\n"
      ],
      "text/markdown": [
       "\n",
       "V1 | V2 | V3 | V4 | V5 | V6 | Rushing | Rushing | Rushing | Rushing | Receiving | Receiving | Receiving | Receiving | Tackles | Tackles | Tackles | Tackles | Tackles | \n",
       "|---|---|---|---|---|---|---|---|---|---|---|---|---|---|---|\n",
       "| Rk                 | Date               | School             |                    | Opponent           |                    | Att                | Yds                | Avg                | TD                 | Rec                | Yds                | Avg                | TD                 | Solo               | Ast                | Tot                | Loss               | Sk                 | \n",
       "| 1                  | 2017-09-02         | Texas Tech         |                    | Eastern Washington | W                  | 4                  | 17                 | 4.3                | 1                  | 2                  | 16                 | 8.0                | 0                  | 1                  | 0                  | 1                  | 0.0                | 0.0                | \n",
       "| 2                  | 2017-09-16         | Texas Tech         |                    | Arizona State      | W                  | 1                  | 4                  | 4.0                | 0                  | 0                  | 0                  |                    | 0                  | 0                  | 0                  | 0                  | 0.0                | 0.0                | \n",
       "| 3                  | 2017-09-23         | Texas Tech         | @                  | Houston            | W                  | 9                  | 98                 | 10.9               | 0                  | 1                  | 0                  | 0.0                | 0                  | 0                  | 0                  | 0                  | 0.0                | 0.0                | \n",
       "| 4                  | 2017-09-30         | Texas Tech         |                    | Oklahoma State     | L                  | 4                  | 12                 | 3.0                | 0                  | 0                  | 0                  |                    | 0                  | 0                  | 0                  | 0                  | 0.0                | 0.0                | \n",
       "| 5                  | 2017-10-07         | Texas Tech         | @                  | Kansas             | W                  | 10                 | 40                 | 4.0                | 0                  | 0                  | 0                  |                    | 0                  | 1                  | 0                  | 1                  | 0.0                | 0.0                | \n",
       "| 6                  | 2017-10-14         | Texas Tech         | @                  | West Virginia      | L                  | 8                  | 67                 | 8.4                | 1                  | 2                  | 7                  | 3.5                | 0                  | 1                  | 0                  | 1                  | 0.0                | 0.0                | \n",
       "| 7                  | 2017-10-21         | Texas Tech         |                    | Iowa State         | L                  | 20                 | 82                 | 4.1                | 0                  | 2                  | 9                  | 4.5                | 0                  | 0                  | 0                  | 0                  | 0.0                | 0.0                | \n",
       "| 8                  | 2017-10-28         | Texas Tech         | @                  | Oklahoma           | L                  | 24                 | 113                | 4.7                | 0                  | 4                  | 22                 | 5.5                | 0                  | 0                  | 0                  | 0                  | 0.0                | 0.0                | \n",
       "| 9                  | 2017-11-04         | Texas Tech         |                    | Kansas State       | L                  | 16                 | 71                 | 4.4                | 1                  | 2                  | 13                 | 6.5                | 0                  | 0                  | 0                  | 0                  | 0.0                | 0.0                | \n",
       "| 10                 | 2017-11-11         | Texas Tech         | N                  | Baylor             | W                  | 20                 | 67                 | 3.4                | 1                  | 3                  | 22                 | 7.3                | 0                  | 0                  | 0                  | 0                  | 0.0                | 0.0                | \n",
       "| 11                 | 2017-11-18         | Texas Tech         |                    | Texas Christian    | L                  | 2                  | 4                  | 2.0                | 0                  | 0                  | 0                  |                    | 0                  | 0                  | 0                  | 0                  | 0.0                | 0.0                | \n",
       "| 12                 | 2017-11-24         | Texas Tech         | @                  | Texas              | W                  | 3                  | 13                 | 4.3                | 0                  | 0                  | 0                  |                    | 0                  | 0                  | 0                  | 0                  | 0.0                | 0.0                | \n",
       "| 13                 | 2017-12-23         | Texas Tech         | N                  | South Florida*     | L                  | 10                 | 35                 | 3.5                | 1                  | 1                  | 15                 | 15.0               | 0                  | 0                  | 0                  | 0                  | 0.0                | 0.0                | \n",
       "|                    | 13 Games           |                    |                    |                    |                    | 131                | 623                | 4.8                | 5                  | 17                 | 104                | 6.1                | 0                  | 3                  | 0                  | 3                  | 0.0                | 0.0                | \n",
       "\n",
       "\n"
      ],
      "text/plain": [
       "   V1 V2         V3         V4 V5                 V6 Rushing Rushing Rushing\n",
       "1  Rk Date       School        Opponent              Att     Yds     Avg    \n",
       "2  1  2017-09-02 Texas Tech    Eastern Washington W  4       17      4.3    \n",
       "3  2  2017-09-16 Texas Tech    Arizona State      W  1       4       4.0    \n",
       "4  3  2017-09-23 Texas Tech @  Houston            W  9       98      10.9   \n",
       "5  4  2017-09-30 Texas Tech    Oklahoma State     L  4       12      3.0    \n",
       "6  5  2017-10-07 Texas Tech @  Kansas             W  10      40      4.0    \n",
       "7  6  2017-10-14 Texas Tech @  West Virginia      L  8       67      8.4    \n",
       "8  7  2017-10-21 Texas Tech    Iowa State         L  20      82      4.1    \n",
       "9  8  2017-10-28 Texas Tech @  Oklahoma           L  24      113     4.7    \n",
       "10 9  2017-11-04 Texas Tech    Kansas State       L  16      71      4.4    \n",
       "11 10 2017-11-11 Texas Tech N  Baylor             W  20      67      3.4    \n",
       "12 11 2017-11-18 Texas Tech    Texas Christian    L  2       4       2.0    \n",
       "13 12 2017-11-24 Texas Tech @  Texas              W  3       13      4.3    \n",
       "14 13 2017-12-23 Texas Tech N  South Florida*     L  10      35      3.5    \n",
       "15    13 Games                                       131     623     4.8    \n",
       "   Rushing Receiving Receiving Receiving Receiving Tackles Tackles Tackles\n",
       "1  TD      Rec       Yds       Avg       TD        Solo    Ast     Tot    \n",
       "2  1       2         16        8.0       0         1       0       1      \n",
       "3  0       0         0                   0         0       0       0      \n",
       "4  0       1         0         0.0       0         0       0       0      \n",
       "5  0       0         0                   0         0       0       0      \n",
       "6  0       0         0                   0         1       0       1      \n",
       "7  1       2         7         3.5       0         1       0       1      \n",
       "8  0       2         9         4.5       0         0       0       0      \n",
       "9  0       4         22        5.5       0         0       0       0      \n",
       "10 1       2         13        6.5       0         0       0       0      \n",
       "11 1       3         22        7.3       0         0       0       0      \n",
       "12 0       0         0                   0         0       0       0      \n",
       "13 0       0         0                   0         0       0       0      \n",
       "14 1       1         15        15.0      0         0       0       0      \n",
       "15 5       17        104       6.1       0         3       0       3      \n",
       "   Tackles Tackles\n",
       "1  Loss    Sk     \n",
       "2  0.0     0.0    \n",
       "3  0.0     0.0    \n",
       "4  0.0     0.0    \n",
       "5  0.0     0.0    \n",
       "6  0.0     0.0    \n",
       "7  0.0     0.0    \n",
       "8  0.0     0.0    \n",
       "9  0.0     0.0    \n",
       "10 0.0     0.0    \n",
       "11 0.0     0.0    \n",
       "12 0.0     0.0    \n",
       "13 0.0     0.0    \n",
       "14 0.0     0.0    \n",
       "15 0.0     0.0    "
      ]
     },
     "metadata": {},
     "output_type": "display_data"
    }
   ],
   "source": [
    "stats_TT2017TK "
   ]
  },
  {
   "cell_type": "code",
   "execution_count": 6,
   "metadata": {},
   "outputs": [
    {
     "data": {
      "text/html": [
       "<table>\n",
       "<thead><tr><th scope=col>V1</th><th scope=col>V2</th><th scope=col>V3</th><th scope=col>V4</th><th scope=col>V5</th><th scope=col>Passing</th><th scope=col>Passing.1</th><th scope=col>Passing.2</th><th scope=col>Passing.3</th><th scope=col>Passing.4</th><th scope=col>...</th><th scope=col>Total Offense</th><th scope=col>First Downs</th><th scope=col>First Downs.1</th><th scope=col>First Downs.2</th><th scope=col>First Downs.3</th><th scope=col>Penalties</th><th scope=col>Penalties.1</th><th scope=col>Turnovers</th><th scope=col>Turnovers.1</th><th scope=col>Turnovers.2</th></tr></thead>\n",
       "<tbody>\n",
       "\t<tr><td>Rk                </td><td>Date              </td><td>                  </td><td>Opponent          </td><td>Result            </td><td>Cmp               </td><td>Att               </td><td>Pct               </td><td>Yds               </td><td>TD                </td><td>...               </td><td>Avg               </td><td>Pass              </td><td>Rush              </td><td>Pen               </td><td>Tot               </td><td>No.               </td><td>Yds               </td><td>Fum               </td><td>Int               </td><td>Tot               </td></tr>\n",
       "\t<tr><td>1                 </td><td>2017-09-02        </td><td>                  </td><td>Eastern Washington</td><td>W (56-10)         </td><td>31                </td><td>35                </td><td>88.6              </td><td>449               </td><td>4                 </td><td>...               </td><td>8.3               </td><td>17                </td><td>12                </td><td>3                 </td><td>32                </td><td>11                </td><td>120               </td><td>0                 </td><td>0                 </td><td>0                 </td></tr>\n",
       "\t<tr><td>2                 </td><td>2017-09-16        </td><td>                  </td><td>Arizona State     </td><td>W (52-45)         </td><td>37                </td><td>50                </td><td>74.0              </td><td>543               </td><td>6                 </td><td>...               </td><td>7.8               </td><td>27                </td><td>5                 </td><td>1                 </td><td>33                </td><td>6                 </td><td>67                </td><td>1                 </td><td>0                 </td><td>1                 </td></tr>\n",
       "\t<tr><td>3                 </td><td>2017-09-23        </td><td>@                 </td><td>Houston           </td><td>W (27-24)         </td><td>29                </td><td>45                </td><td>64.4              </td><td>321               </td><td>2                 </td><td>...               </td><td>6.7               </td><td>11                </td><td>5                 </td><td>1                 </td><td>17                </td><td>15                </td><td>117               </td><td>0                 </td><td>1                 </td><td>1                 </td></tr>\n",
       "\t<tr><td>4                 </td><td>2017-09-30        </td><td>                  </td><td>Oklahoma State    </td><td>L (34-41)         </td><td>29                </td><td>46                </td><td>63.0              </td><td>330               </td><td>1                 </td><td>...               </td><td>5.3               </td><td>15                </td><td>4                 </td><td>6                 </td><td>25                </td><td>8                 </td><td>63                </td><td>0                 </td><td>1                 </td><td>1                 </td></tr>\n",
       "\t<tr><td>5                 </td><td>2017-10-07        </td><td>@                 </td><td>Kansas            </td><td>W (65-19)         </td><td>22                </td><td>27                </td><td>81.5              </td><td>290               </td><td>3                 </td><td>...               </td><td>7.6               </td><td>12                </td><td>17                </td><td>1                 </td><td>30                </td><td>2                 </td><td>21                </td><td>1                 </td><td>1                 </td><td>2                 </td></tr>\n",
       "\t<tr><td>6                 </td><td>2017-10-14        </td><td>@                 </td><td>West Virginia     </td><td>L (35-46)         </td><td>24                </td><td>39                </td><td>61.5              </td><td>323               </td><td>4                 </td><td>...               </td><td>7.1               </td><td>14                </td><td>10                </td><td>3                 </td><td>27                </td><td>16                </td><td>159               </td><td>0                 </td><td>1                 </td><td>1                 </td></tr>\n",
       "\t<tr><td>7                 </td><td>2017-10-21        </td><td>                  </td><td>Iowa State        </td><td>L (13-31)         </td><td>31                </td><td>41                </td><td>75.6              </td><td>207               </td><td>0                 </td><td>...               </td><td>4.1               </td><td>13                </td><td>11                </td><td>0                 </td><td>24                </td><td>3                 </td><td>30                </td><td>2                 </td><td>1                 </td><td>3                 </td></tr>\n",
       "\t<tr><td>8                 </td><td>2017-10-28        </td><td>@                 </td><td>Oklahoma          </td><td>L (27-49)         </td><td>22                </td><td>36                </td><td>61.1              </td><td>322               </td><td>4                 </td><td>...               </td><td>6.2               </td><td>12                </td><td>9                 </td><td>3                 </td><td>24                </td><td>6                 </td><td>63                </td><td>0                 </td><td>1                 </td><td>1                 </td></tr>\n",
       "\t<tr><td>9                 </td><td>2017-11-04        </td><td>                  </td><td>Kansas State      </td><td>L (35-42)         </td><td>34                </td><td>53                </td><td>64.2              </td><td>405               </td><td>4                 </td><td>...               </td><td>6.3               </td><td>18                </td><td>7                 </td><td>1                 </td><td>26                </td><td>8                 </td><td>79                </td><td>0                 </td><td>1                 </td><td>1                 </td></tr>\n",
       "\t<tr><td>10                </td><td>2017-11-11        </td><td>N                 </td><td>Baylor            </td><td>W (38-24)         </td><td>24                </td><td>29                </td><td>82.8              </td><td>246               </td><td>2                 </td><td>...               </td><td>5.7               </td><td>10                </td><td>7                 </td><td>1                 </td><td>18                </td><td>6                 </td><td>64                </td><td>1                 </td><td>0                 </td><td>1                 </td></tr>\n",
       "\t<tr><td>11                </td><td>2017-11-18        </td><td>                  </td><td>Texas Christian   </td><td>L (3-27)          </td><td>18                </td><td>36                </td><td>50.0              </td><td>153               </td><td>0                 </td><td>...               </td><td>4.2               </td><td>8                 </td><td>10                </td><td>3                 </td><td>21                </td><td>5                 </td><td>55                </td><td>1                 </td><td>1                 </td><td>2                 </td></tr>\n",
       "\t<tr><td>12                </td><td>2017-11-24        </td><td>@                 </td><td>Texas             </td><td>W (27-23)         </td><td>20                </td><td>45                </td><td>44.4              </td><td>333               </td><td>2                 </td><td>...               </td><td>5.0               </td><td>12                </td><td>3                 </td><td>1                 </td><td>16                </td><td>8                 </td><td>51                </td><td>0                 </td><td>2                 </td><td>2                 </td></tr>\n",
       "\t<tr><td>13                </td><td>2017-12-23        </td><td>N                 </td><td>South Florida*    </td><td>L (34-38)         </td><td>32                </td><td>59                </td><td>54.2              </td><td>416               </td><td>3                 </td><td>...               </td><td>5.8               </td><td>19                </td><td>6                 </td><td>1                 </td><td>26                </td><td>10                </td><td>107               </td><td>0                 </td><td>2                 </td><td>2                 </td></tr>\n",
       "\t<tr><td>                  </td><td>13 Games          </td><td>                  </td><td>                  </td><td>                  </td><td>353               </td><td>541               </td><td>65.2              </td><td>4338              </td><td>35                </td><td>...               </td><td>6.2               </td><td>188               </td><td>106               </td><td>25                </td><td>319               </td><td>104               </td><td>996               </td><td>6                 </td><td>12                </td><td>18                </td></tr>\n",
       "</tbody>\n",
       "</table>\n"
      ],
      "text/latex": [
       "\\begin{tabular}{r|llllllllllllllllllllllllll}\n",
       " V1 & V2 & V3 & V4 & V5 & Passing & Passing.1 & Passing.2 & Passing.3 & Passing.4 & ... & Total Offense & First Downs & First Downs.1 & First Downs.2 & First Downs.3 & Penalties & Penalties.1 & Turnovers & Turnovers.1 & Turnovers.2\\\\\n",
       "\\hline\n",
       "\t Rk                 & Date               &                    & Opponent           & Result             & Cmp                & Att                & Pct                & Yds                & TD                 & ...                & Avg                & Pass               & Rush               & Pen                & Tot                & No.                & Yds                & Fum                & Int                & Tot               \\\\\n",
       "\t 1                  & 2017-09-02         &                    & Eastern Washington & W (56-10)          & 31                 & 35                 & 88.6               & 449                & 4                  & ...                & 8.3                & 17                 & 12                 & 3                  & 32                 & 11                 & 120                & 0                  & 0                  & 0                 \\\\\n",
       "\t 2                  & 2017-09-16         &                    & Arizona State      & W (52-45)          & 37                 & 50                 & 74.0               & 543                & 6                  & ...                & 7.8                & 27                 & 5                  & 1                  & 33                 & 6                  & 67                 & 1                  & 0                  & 1                 \\\\\n",
       "\t 3                  & 2017-09-23         & @                  & Houston            & W (27-24)          & 29                 & 45                 & 64.4               & 321                & 2                  & ...                & 6.7                & 11                 & 5                  & 1                  & 17                 & 15                 & 117                & 0                  & 1                  & 1                 \\\\\n",
       "\t 4                  & 2017-09-30         &                    & Oklahoma State     & L (34-41)          & 29                 & 46                 & 63.0               & 330                & 1                  & ...                & 5.3                & 15                 & 4                  & 6                  & 25                 & 8                  & 63                 & 0                  & 1                  & 1                 \\\\\n",
       "\t 5                  & 2017-10-07         & @                  & Kansas             & W (65-19)          & 22                 & 27                 & 81.5               & 290                & 3                  & ...                & 7.6                & 12                 & 17                 & 1                  & 30                 & 2                  & 21                 & 1                  & 1                  & 2                 \\\\\n",
       "\t 6                  & 2017-10-14         & @                  & West Virginia      & L (35-46)          & 24                 & 39                 & 61.5               & 323                & 4                  & ...                & 7.1                & 14                 & 10                 & 3                  & 27                 & 16                 & 159                & 0                  & 1                  & 1                 \\\\\n",
       "\t 7                  & 2017-10-21         &                    & Iowa State         & L (13-31)          & 31                 & 41                 & 75.6               & 207                & 0                  & ...                & 4.1                & 13                 & 11                 & 0                  & 24                 & 3                  & 30                 & 2                  & 1                  & 3                 \\\\\n",
       "\t 8                  & 2017-10-28         & @                  & Oklahoma           & L (27-49)          & 22                 & 36                 & 61.1               & 322                & 4                  & ...                & 6.2                & 12                 & 9                  & 3                  & 24                 & 6                  & 63                 & 0                  & 1                  & 1                 \\\\\n",
       "\t 9                  & 2017-11-04         &                    & Kansas State       & L (35-42)          & 34                 & 53                 & 64.2               & 405                & 4                  & ...                & 6.3                & 18                 & 7                  & 1                  & 26                 & 8                  & 79                 & 0                  & 1                  & 1                 \\\\\n",
       "\t 10                 & 2017-11-11         & N                  & Baylor             & W (38-24)          & 24                 & 29                 & 82.8               & 246                & 2                  & ...                & 5.7                & 10                 & 7                  & 1                  & 18                 & 6                  & 64                 & 1                  & 0                  & 1                 \\\\\n",
       "\t 11                 & 2017-11-18         &                    & Texas Christian    & L (3-27)           & 18                 & 36                 & 50.0               & 153                & 0                  & ...                & 4.2                & 8                  & 10                 & 3                  & 21                 & 5                  & 55                 & 1                  & 1                  & 2                 \\\\\n",
       "\t 12                 & 2017-11-24         & @                  & Texas              & W (27-23)          & 20                 & 45                 & 44.4               & 333                & 2                  & ...                & 5.0                & 12                 & 3                  & 1                  & 16                 & 8                  & 51                 & 0                  & 2                  & 2                 \\\\\n",
       "\t 13                 & 2017-12-23         & N                  & South Florida*     & L (34-38)          & 32                 & 59                 & 54.2               & 416                & 3                  & ...                & 5.8                & 19                 & 6                  & 1                  & 26                 & 10                 & 107                & 0                  & 2                  & 2                 \\\\\n",
       "\t                    & 13 Games           &                    &                    &                    & 353                & 541                & 65.2               & 4338               & 35                 & ...                & 6.2                & 188                & 106                & 25                 & 319                & 104                & 996                & 6                  & 12                 & 18                \\\\\n",
       "\\end{tabular}\n"
      ],
      "text/markdown": [
       "\n",
       "V1 | V2 | V3 | V4 | V5 | Passing | Passing.1 | Passing.2 | Passing.3 | Passing.4 | ... | Total Offense | First Downs | First Downs.1 | First Downs.2 | First Downs.3 | Penalties | Penalties.1 | Turnovers | Turnovers.1 | Turnovers.2 | \n",
       "|---|---|---|---|---|---|---|---|---|---|---|---|---|---|---|\n",
       "| Rk                 | Date               |                    | Opponent           | Result             | Cmp                | Att                | Pct                | Yds                | TD                 | ...                | Avg                | Pass               | Rush               | Pen                | Tot                | No.                | Yds                | Fum                | Int                | Tot                | \n",
       "| 1                  | 2017-09-02         |                    | Eastern Washington | W (56-10)          | 31                 | 35                 | 88.6               | 449                | 4                  | ...                | 8.3                | 17                 | 12                 | 3                  | 32                 | 11                 | 120                | 0                  | 0                  | 0                  | \n",
       "| 2                  | 2017-09-16         |                    | Arizona State      | W (52-45)          | 37                 | 50                 | 74.0               | 543                | 6                  | ...                | 7.8                | 27                 | 5                  | 1                  | 33                 | 6                  | 67                 | 1                  | 0                  | 1                  | \n",
       "| 3                  | 2017-09-23         | @                  | Houston            | W (27-24)          | 29                 | 45                 | 64.4               | 321                | 2                  | ...                | 6.7                | 11                 | 5                  | 1                  | 17                 | 15                 | 117                | 0                  | 1                  | 1                  | \n",
       "| 4                  | 2017-09-30         |                    | Oklahoma State     | L (34-41)          | 29                 | 46                 | 63.0               | 330                | 1                  | ...                | 5.3                | 15                 | 4                  | 6                  | 25                 | 8                  | 63                 | 0                  | 1                  | 1                  | \n",
       "| 5                  | 2017-10-07         | @                  | Kansas             | W (65-19)          | 22                 | 27                 | 81.5               | 290                | 3                  | ...                | 7.6                | 12                 | 17                 | 1                  | 30                 | 2                  | 21                 | 1                  | 1                  | 2                  | \n",
       "| 6                  | 2017-10-14         | @                  | West Virginia      | L (35-46)          | 24                 | 39                 | 61.5               | 323                | 4                  | ...                | 7.1                | 14                 | 10                 | 3                  | 27                 | 16                 | 159                | 0                  | 1                  | 1                  | \n",
       "| 7                  | 2017-10-21         |                    | Iowa State         | L (13-31)          | 31                 | 41                 | 75.6               | 207                | 0                  | ...                | 4.1                | 13                 | 11                 | 0                  | 24                 | 3                  | 30                 | 2                  | 1                  | 3                  | \n",
       "| 8                  | 2017-10-28         | @                  | Oklahoma           | L (27-49)          | 22                 | 36                 | 61.1               | 322                | 4                  | ...                | 6.2                | 12                 | 9                  | 3                  | 24                 | 6                  | 63                 | 0                  | 1                  | 1                  | \n",
       "| 9                  | 2017-11-04         |                    | Kansas State       | L (35-42)          | 34                 | 53                 | 64.2               | 405                | 4                  | ...                | 6.3                | 18                 | 7                  | 1                  | 26                 | 8                  | 79                 | 0                  | 1                  | 1                  | \n",
       "| 10                 | 2017-11-11         | N                  | Baylor             | W (38-24)          | 24                 | 29                 | 82.8               | 246                | 2                  | ...                | 5.7                | 10                 | 7                  | 1                  | 18                 | 6                  | 64                 | 1                  | 0                  | 1                  | \n",
       "| 11                 | 2017-11-18         |                    | Texas Christian    | L (3-27)           | 18                 | 36                 | 50.0               | 153                | 0                  | ...                | 4.2                | 8                  | 10                 | 3                  | 21                 | 5                  | 55                 | 1                  | 1                  | 2                  | \n",
       "| 12                 | 2017-11-24         | @                  | Texas              | W (27-23)          | 20                 | 45                 | 44.4               | 333                | 2                  | ...                | 5.0                | 12                 | 3                  | 1                  | 16                 | 8                  | 51                 | 0                  | 2                  | 2                  | \n",
       "| 13                 | 2017-12-23         | N                  | South Florida*     | L (34-38)          | 32                 | 59                 | 54.2               | 416                | 3                  | ...                | 5.8                | 19                 | 6                  | 1                  | 26                 | 10                 | 107                | 0                  | 2                  | 2                  | \n",
       "|                    | 13 Games           |                    |                    |                    | 353                | 541                | 65.2               | 4338               | 35                 | ...                | 6.2                | 188                | 106                | 25                 | 319                | 104                | 996                | 6                  | 12                 | 18                 | \n",
       "\n",
       "\n"
      ],
      "text/plain": [
       "   V1 V2         V3 V4                 V5        Passing Passing.1 Passing.2\n",
       "1  Rk Date          Opponent           Result    Cmp     Att       Pct      \n",
       "2  1  2017-09-02    Eastern Washington W (56-10) 31      35        88.6     \n",
       "3  2  2017-09-16    Arizona State      W (52-45) 37      50        74.0     \n",
       "4  3  2017-09-23 @  Houston            W (27-24) 29      45        64.4     \n",
       "5  4  2017-09-30    Oklahoma State     L (34-41) 29      46        63.0     \n",
       "6  5  2017-10-07 @  Kansas             W (65-19) 22      27        81.5     \n",
       "7  6  2017-10-14 @  West Virginia      L (35-46) 24      39        61.5     \n",
       "8  7  2017-10-21    Iowa State         L (13-31) 31      41        75.6     \n",
       "9  8  2017-10-28 @  Oklahoma           L (27-49) 22      36        61.1     \n",
       "10 9  2017-11-04    Kansas State       L (35-42) 34      53        64.2     \n",
       "11 10 2017-11-11 N  Baylor             W (38-24) 24      29        82.8     \n",
       "12 11 2017-11-18    Texas Christian    L (3-27)  18      36        50.0     \n",
       "13 12 2017-11-24 @  Texas              W (27-23) 20      45        44.4     \n",
       "14 13 2017-12-23 N  South Florida*     L (34-38) 32      59        54.2     \n",
       "15    13 Games                                   353     541       65.2     \n",
       "   Passing.3 Passing.4 ... Total Offense First Downs First Downs.1\n",
       "1  Yds       TD        ... Avg           Pass        Rush         \n",
       "2  449       4         ... 8.3           17          12           \n",
       "3  543       6         ... 7.8           27          5            \n",
       "4  321       2         ... 6.7           11          5            \n",
       "5  330       1         ... 5.3           15          4            \n",
       "6  290       3         ... 7.6           12          17           \n",
       "7  323       4         ... 7.1           14          10           \n",
       "8  207       0         ... 4.1           13          11           \n",
       "9  322       4         ... 6.2           12          9            \n",
       "10 405       4         ... 6.3           18          7            \n",
       "11 246       2         ... 5.7           10          7            \n",
       "12 153       0         ... 4.2           8           10           \n",
       "13 333       2         ... 5.0           12          3            \n",
       "14 416       3         ... 5.8           19          6            \n",
       "15 4338      35        ... 6.2           188         106          \n",
       "   First Downs.2 First Downs.3 Penalties Penalties.1 Turnovers Turnovers.1\n",
       "1  Pen           Tot           No.       Yds         Fum       Int        \n",
       "2  3             32            11        120         0         0          \n",
       "3  1             33            6         67          1         0          \n",
       "4  1             17            15        117         0         1          \n",
       "5  6             25            8         63          0         1          \n",
       "6  1             30            2         21          1         1          \n",
       "7  3             27            16        159         0         1          \n",
       "8  0             24            3         30          2         1          \n",
       "9  3             24            6         63          0         1          \n",
       "10 1             26            8         79          0         1          \n",
       "11 1             18            6         64          1         0          \n",
       "12 3             21            5         55          1         1          \n",
       "13 1             16            8         51          0         2          \n",
       "14 1             26            10        107         0         2          \n",
       "15 25            319           104       996         6         12         \n",
       "   Turnovers.2\n",
       "1  Tot        \n",
       "2  0          \n",
       "3  1          \n",
       "4  1          \n",
       "5  1          \n",
       "6  2          \n",
       "7  1          \n",
       "8  3          \n",
       "9  1          \n",
       "10 1          \n",
       "11 1          \n",
       "12 2          \n",
       "13 2          \n",
       "14 2          \n",
       "15 18         "
      ]
     },
     "metadata": {},
     "output_type": "display_data"
    }
   ],
   "source": [
    "stats_TT2017"
   ]
  },
  {
   "cell_type": "markdown",
   "metadata": {},
   "source": [
    "#### clean up column names by combining a two row header"
   ]
  },
  {
   "cell_type": "code",
   "execution_count": 7,
   "metadata": {},
   "outputs": [],
   "source": [
    "colnames(stats_TT2017TK) <- paste(colnames(stats_TT2017TK),stats_TT2017TK[1])"
   ]
  },
  {
   "cell_type": "code",
   "execution_count": 8,
   "metadata": {},
   "outputs": [],
   "source": [
    "colnames(stats_TT2017) <- paste(colnames(stats_TT2017),stats_TT2017[1])"
   ]
  },
  {
   "cell_type": "markdown",
   "metadata": {},
   "source": [
    "#### clean up sets a little"
   ]
  },
  {
   "cell_type": "code",
   "execution_count": 9,
   "metadata": {},
   "outputs": [],
   "source": [
    "stats_TK <- data.table(stats_TT2017TK[2:13, lapply(.SD, function(x) as.numeric(x)), .SDcols=1],\n",
    "                       stats_TT2017TK[2:13, c(2:3)],\n",
    "                       stats_TT2017TK[2:13, lapply(.SD, function(x) factor(x, levels = x)), .SDcols=5],\n",
    "                       stats_TT2017TK[2:13, 6],\n",
    "                       stats_TT2017TK[2:13, lapply(.SD, function(x) as.numeric(x)), .SDcols=7:19]\n",
    "                       )"
   ]
  },
  {
   "cell_type": "code",
   "execution_count": 10,
   "metadata": {},
   "outputs": [],
   "source": [
    "stats_TEAM <- data.table(stats_TT2017[2:13, lapply(.SD, function(x) as.numeric(x)), .SDcols=1],\n",
    "                          stats_TT2017[2:13, c(2:3)],\n",
    "                          stats_TT2017[2:13, lapply(.SD, function(x) factor(x, levels = x)), .SDcols=4],\n",
    "                          stats_TT2017[2:13, 5:6],\n",
    "                          stats_TT2017[2:13, lapply(.SD, function(x) as.numeric(x)), .SDcols=7:19]\n",
    ")"
   ]
  },
  {
   "cell_type": "markdown",
   "metadata": {},
   "source": [
    "#### add a vector used in plotting that gives a y value for a win / loss labels"
   ]
  },
  {
   "cell_type": "code",
   "execution_count": 11,
   "metadata": {},
   "outputs": [
    {
     "data": {},
     "metadata": {},
     "output_type": "display_data"
    }
   ],
   "source": [
    "stats_TK[, text := 30 ]"
   ]
  },
  {
   "cell_type": "code",
   "execution_count": 12,
   "metadata": {},
   "outputs": [
    {
     "data": {},
     "metadata": {},
     "output_type": "display_data"
    }
   ],
   "source": [
    "stats_TEAM[, text:= 30]"
   ]
  },
  {
   "cell_type": "markdown",
   "metadata": {},
   "source": [
    "#### create a color vector used in plotting the win / loss labels"
   ]
  },
  {
   "cell_type": "code",
   "execution_count": 13,
   "metadata": {},
   "outputs": [],
   "source": [
    "cols <- c('W'='red', 'L'='black')"
   ]
  },
  {
   "cell_type": "markdown",
   "metadata": {},
   "source": [
    "#### create a plot of some of Tre King's rushing stats"
   ]
  },
  {
   "cell_type": "code",
   "execution_count": 18,
   "metadata": {},
   "outputs": [],
   "source": [
    "p1 <- ggplot(stats_TK)+\n",
    "  geom_line(aes(x=stats_TK$`V1 Rk`, y=stats_TK$`Rushing Att`), size = 2)+\n",
    "  geom_point(aes(x=stats_TK$`V1 Rk`, y=stats_TK$`Rushing Att`), size = 4, shape=21, fill='red')+\n",
    "  geom_point(aes(x=8.5,y=20), shape = 1, size= 85, color= 'red', stroke = 3)+\n",
    "  geom_text(aes(x=stats_TK$`V1 Rk`, y=stats_TK$text, label= stats_TK$`V6 `, color = factor(stats_TK$`V6 `)))+\n",
    "  scale_x_discrete(limits = stats_TK$V5)+\n",
    "  scale_color_manual(values = cols, guide=FALSE)+\n",
    "  ylim(0,30)+\n",
    "  xlab(NULL)+\n",
    "  ylab('Attempts')+\n",
    "  ggtitle('Tre King Rush Attempts Per Game 2017')+\n",
    "  theme(plot.margin = margin(10,20,10,10),\n",
    "        axis.text.x = element_text(size = , angle = 45, hjust = 1),\n",
    "        plot.title = element_text(hjust = 0.5)\n",
    "        )"
   ]
  },
  {
   "cell_type": "markdown",
   "metadata": {},
   "source": [
    "#### display plot we just created"
   ]
  },
  {
   "cell_type": "code",
   "execution_count": 19,
   "metadata": {},
   "outputs": [
    {
     "data": {},
     "metadata": {},
     "output_type": "display_data"
    },
    {
     "data": {
      "image/png": "[encoded data removed]",
      "text/plain": [
       "plot without title"
      ]
     },
     "metadata": {},
     "output_type": "display_data"
    }
   ],
   "source": [
    "p1"
   ]
  },
  {
   "cell_type": "markdown",
   "metadata": {},
   "source": [
    "#### create vectors to be y value for win / loss labels in yardage plot"
   ]
  },
  {
   "cell_type": "code",
   "execution_count": 30,
   "metadata": {},
   "outputs": [
    {
     "data": {},
     "metadata": {},
     "output_type": "display_data"
    }
   ],
   "source": [
    "stats_TK[, text_high := 150 ]"
   ]
  },
  {
   "cell_type": "code",
   "execution_count": 31,
   "metadata": {},
   "outputs": [
    {
     "data": {},
     "metadata": {},
     "output_type": "display_data"
    }
   ],
   "source": [
    "stats_TEAM[, text_high:= 150]"
   ]
  },
  {
   "cell_type": "markdown",
   "metadata": {},
   "source": [
    "#### make yardage plot"
   ]
  },
  {
   "cell_type": "code",
   "execution_count": 32,
   "metadata": {},
   "outputs": [],
   "source": [
    "p2 <- ggplot(stats_TK)+\n",
    "  geom_line(aes(x=stats_TK$`V1 Rk`, y=stats_TK$`Rushing Yds`), size = 2)+\n",
    "  geom_point(aes(x=stats_TK$`V1 Rk`, y=stats_TK$`Rushing Yds`), size = 4, shape=21, fill='red')+\n",
    "  geom_point(aes(x=8.5,y=90), shape = 1, size= 85, color= 'red', stroke = 3)+\n",
    "  geom_text(aes(x=stats_TK$`V1 Rk`, y=stats_TK$text_high, label= stats_TK$`V6 `, color = factor(stats_TK$`V6 `)))+\n",
    "  scale_x_discrete(limits = stats_TK$V5)+\n",
    "  scale_color_manual(values = cols, guide=FALSE)+\n",
    "  ylim(0,150)+\n",
    "  xlab(NULL)+\n",
    "  ylab('Yards')+\n",
    "  ggtitle('Tre King Yards Rushing Per Game 2017')+\n",
    "  theme(plot.margin = margin(10,20,10,10),\n",
    "        axis.text.x = element_text(size = , angle = 45, hjust = 1),\n",
    "        plot.title = element_text(hjust = 0.5)\n",
    "  )"
   ]
  },
  {
   "cell_type": "markdown",
   "metadata": {},
   "source": [
    "#### display yardage plot"
   ]
  },
  {
   "cell_type": "code",
   "execution_count": 33,
   "metadata": {},
   "outputs": [
    {
     "data": {},
     "metadata": {},
     "output_type": "display_data"
    },
    {
     "data": {
      "image/png": "[encoded data removed]",
      "text/plain": [
       "plot without title"
      ]
     },
     "metadata": {},
     "output_type": "display_data"
    }
   ],
   "source": [
    "p2"
   ]
  },
  {
   "cell_type": "markdown",
   "metadata": {},
   "source": [
    "#### all together now"
   ]
  },
  {
   "cell_type": "code",
   "execution_count": null,
   "metadata": {},
   "outputs": [],
   "source": []
  }
 ],
 "metadata": {
  "kernelspec": {
   "display_name": "R",
   "language": "R",
   "name": "ir"
  },
  "language_info": {
   "codemirror_mode": "r",
   "file_extension": ".r",
   "mimetype": "text/x-r-source",
   "name": "R",
   "pygments_lexer": "r",
   "version": "3.4.3"
  }
 },
 "nbformat": 4,
 "nbformat_minor": 2
}
