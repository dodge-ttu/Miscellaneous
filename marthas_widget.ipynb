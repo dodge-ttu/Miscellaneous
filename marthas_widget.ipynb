{
 "cells": [
  {
   "cell_type": "code",
   "execution_count": 1,
   "metadata": {},
   "outputs": [],
   "source": [
    "import sys\n",
    "import warnings\n",
    "\n",
    "if not sys.warnoptions:\n",
    "    warnings.simplefilter(\"ignore\")"
   ]
  },
  {
   "cell_type": "code",
   "execution_count": 2,
   "metadata": {},
   "outputs": [
    {
     "data": {
      "text/html": [
       "<style>.container { width:100% !important; }</style>"
      ],
      "text/plain": [
       "<IPython.core.display.HTML object>"
      ]
     },
     "metadata": {},
     "output_type": "display_data"
    }
   ],
   "source": [
    "from IPython.core.display import display, HTML\n",
    "display(HTML(\"<style>.container { width:100% !important; }</style>\"))\n",
    "\n",
    "%matplotlib inline\n",
    "\n",
    "from matplotlib import pyplot as plt\n",
    "import pandas as pd\n",
    "from ipywidgets import widgets, interact\n",
    "from IPython.display import display\n",
    "import numpy as np"
   ]
  },
  {
   "cell_type": "code",
   "execution_count": 3,
   "metadata": {},
   "outputs": [],
   "source": [
    "df_by_user = pd.read_csv(\"/home/will/marthas data/Incidents By User (Academic Year, 2017-2018) - Incidents by User.csv\", header=[0])"
   ]
  },
  {
   "cell_type": "code",
   "execution_count": 4,
   "metadata": {},
   "outputs": [],
   "source": [
    "df_by_eth = pd.read_csv(\"/home/will/marthas data/Suspensions By Ethnicity (Academic Year, 2017-2018) - Population Data.csv\", header=[0])"
   ]
  },
  {
   "cell_type": "code",
   "execution_count": 5,
   "metadata": {},
   "outputs": [],
   "source": [
    "df_by_user.drop_duplicates('Incident Number', keep=\"first\", inplace=True)"
   ]
  },
  {
   "cell_type": "code",
   "execution_count": 6,
   "metadata": {},
   "outputs": [],
   "source": [
    "schools = sorted(list(set(df_by_user[\"School\"])))"
   ]
  },
  {
   "cell_type": "code",
   "execution_count": 7,
   "metadata": {},
   "outputs": [],
   "source": [
    "schools_set_list = []\n",
    "\n",
    "for i in schools:\n",
    "    schools_set_list.append(df_by_user[(df_by_user[\"School\"] == i)])"
   ]
  },
  {
   "cell_type": "code",
   "execution_count": 8,
   "metadata": {
    "scrolled": true
   },
   "outputs": [
    {
     "name": "stdout",
     "output_type": "stream",
     "text": [
      "Alderson Elementary School had 6 teachers flagged with 5 reports and 4 with over 10.\n",
      "Atkins Middle School had 37 teachers flagged with 5 reports and 34 with over 10.\n",
      "Bayless Elementary School had 16 teachers flagged with 5 reports and 7 with over 10.\n",
      "Bean Elementary School had 9 teachers flagged with 5 reports and 4 with over 10.\n",
      "Bowie Elementary School had 1 teachers flagged with 5 reports and 0 with over 10.\n",
      "Brown Elementary School had 1 teachers flagged with 5 reports and 1 with over 10.\n",
      "Byron Martin Advanced Tech Center had 2 teachers flagged with 5 reports and 1 with over 10.\n",
      "Cavazos Middle School had 19 teachers flagged with 5 reports and 17 with over 10.\n",
      "Centennial Elementary School had 15 teachers flagged with 5 reports and 8 with over 10.\n",
      "Coronado High School had 75 teachers flagged with 5 reports and 56 with over 10.\n",
      "Dunbar College Preparatory Academy had 14 teachers flagged with 5 reports and 13 with over 10.\n",
      "Dupre Elementary School had 4 teachers flagged with 5 reports and 3 with over 10.\n",
      "Estacado High School had 15 teachers flagged with 5 reports and 13 with over 10.\n",
      "Evans Middle School had 21 teachers flagged with 5 reports and 15 with over 10.\n",
      "Guadalupe Elementary School had 1 teachers flagged with 5 reports and 0 with over 10.\n",
      "Hardwick Elementary School had 2 teachers flagged with 5 reports and 1 with over 10.\n",
      "Harwell Elementary School had 6 teachers flagged with 5 reports and 4 with over 10.\n",
      "Hodges Elementary School had 8 teachers flagged with 5 reports and 4 with over 10.\n",
      "Honey Elementary School had 0 teachers flagged with 5 reports and 0 with over 10.\n",
      "Hutchinson Middle School had 21 teachers flagged with 5 reports and 8 with over 10.\n",
      "Irons Middle School had 22 teachers flagged with 5 reports and 15 with over 10.\n",
      "JJAEP (015) had 1 teachers flagged with 5 reports and 1 with over 10.\n",
      "Jackson Elementary School had 4 teachers flagged with 5 reports and 2 with over 10.\n",
      "Jane Ann Miller Elementary School had 8 teachers flagged with 5 reports and 2 with over 10.\n",
      "Joan Y. Ervin Elementary School had 0 teachers flagged with 5 reports and 0 with over 10.\n",
      "Lubbock Co JJAEP had 0 teachers flagged with 5 reports and 0 with over 10.\n",
      "Lubbock High School had 31 teachers flagged with 5 reports and 25 with over 10.\n",
      "Mackenzie Middle School had 14 teachers flagged with 5 reports and 7 with over 10.\n",
      "Maedgen Elementary School had 12 teachers flagged with 5 reports and 7 with over 10.\n",
      "Matthews Learning Center had 3 teachers flagged with 5 reports and 2 with over 10.\n",
      "McWhorter Elementary School had 1 teachers flagged with 5 reports and 0 with over 10.\n",
      "Monterey High School had 52 teachers flagged with 5 reports and 32 with over 10.\n",
      "O L Slaton Middle School had 21 teachers flagged with 5 reports and 17 with over 10.\n",
      "Overton Elementary School had 2 teachers flagged with 5 reports and 0 with over 10.\n",
      "Parsons Elementary School had 11 teachers flagged with 5 reports and 3 with over 10.\n",
      "Priority Intervention Academy had 4 teachers flagged with 5 reports and 4 with over 10.\n",
      "R Wilson Elementary School had 5 teachers flagged with 5 reports and 1 with over 10.\n",
      "Ramirez Elementary School had 3 teachers flagged with 5 reports and 2 with over 10.\n",
      "Roberts Elementary School had 3 teachers flagged with 5 reports and 1 with over 10.\n",
      "Rush Elementary School had 1 teachers flagged with 5 reports and 1 with over 10.\n",
      "Smith Elementary School had 3 teachers flagged with 5 reports and 0 with over 10.\n",
      "Smylie Wilson Middle School had 6 teachers flagged with 5 reports and 3 with over 10.\n",
      "Stewart Elementary School had 5 teachers flagged with 5 reports and 4 with over 10.\n",
      "Talkington School for YWL had 3 teachers flagged with 5 reports and 3 with over 10.\n",
      "Waters Elementary School had 8 teachers flagged with 5 reports and 3 with over 10.\n",
      "Wester Elementary School had 10 teachers flagged with 5 reports and 5 with over 10.\n",
      "Wheelock Elementary School had 7 teachers flagged with 5 reports and 2 with over 10.\n",
      "Whiteside Elementary School had 18 teachers flagged with 5 reports and 10 with over 10.\n",
      "Williams Elementary School had 5 teachers flagged with 5 reports and 2 with over 10.\n",
      "Wolffarth Elementary School had 6 teachers flagged with 5 reports and 2 with over 10.\n",
      "Wright Elementary School had 7 teachers flagged with 5 reports and 5 with over 10.\n"
     ]
    }
   ],
   "source": [
    "school_by_teacher_list = []\n",
    "\n",
    "for idx, (i,j) in enumerate(zip(schools_set_list, schools)):\n",
    "    df = pd.DataFrame()\n",
    "    sorted(list(set(i[\"Reported By\"])), key=lambda x: x[0:10])\n",
    "    df[\"Staff Member\"] = sorted(list(set(i[\"Reported By\"])), key=lambda x: x[0:10])\n",
    "    df[\"Total Count\"] = i.groupby(\"Reported By\")[\"Incident Number\"].count().values\n",
    "    df[\"Total # of Incindences > 5\"] = np.where(df[\"Total Count\"] >5, 'YES', 'no')\n",
    "    df[\"Total # of Incindences > 10\"] = np.where(df[\"Total Count\"] >10, 'YES', 'no')\n",
    "    df[\"Amer-Indian # of Incindences\"] = i.groupby([\"Reported By\"])[\"Ethnicity\"].apply(lambda x: x[x.str.contains(\"American Indian or Alaska Native\")].count()).values\n",
    "    df[\"Asian # of Incindences\"] = i.groupby([\"Reported By\"])[\"Ethnicity\"].apply(lambda x: x[x.str.contains(\"Asian\")].count()).values\n",
    "    df[\"Black # of Incindences\"] = i.groupby([\"Reported By\"])[\"Ethnicity\"].apply(lambda x: x[x.str.contains(\"Black or African American\")].count()).values\n",
    "    df[\"Hispanic # of Incindences\"] = i.groupby([\"Reported By\"])[\"Ethnicity\"].apply(lambda x: x[x.str.contains(\"Hispanic/Latino\")].count()).values\n",
    "    df[\"Pac-Islander # of Incindences\"] = i.groupby([\"Reported By\"])[\"Ethnicity\"].apply(lambda x: x[x.str.contains(\"Native Hawaiian or Other Pacific Islander\")].count()).values\n",
    "    df[\"Multi-Race # of Incindences\"] = i.groupby([\"Reported By\"])[\"Ethnicity\"].apply(lambda x: x[x.str.contains(\"White\")].count()).values\n",
    "    df[\"White # of Incindences\"] = i.groupby([\"Reported By\"])[\"Ethnicity\"].apply(lambda x: x[x.str.contains(\"Two or More Races\")].count()).values \n",
    "    df[\"Amer-Indian Percent\"] = round(df[\"Amer-Indian # of Incindences\"] / df[\"Total Count\"], 2) * 100\n",
    "    df[\"Asian Percent\"] = round(df[\"Asian # of Incindences\"] / df[\"Total Count\"], 2) * 100\n",
    "    df[\"Black Percent\"] = round(df[\"Black # of Incindences\"] / df[\"Total Count\"], 2) * 100\n",
    "    df[\"Hispanic Percent\"] = round(df[\"Hispanic # of Incindences\"] / df[\"Total Count\"], 2) * 100\n",
    "    df[\"Pac-Islander Percent\"] = round(df[\"Pac-Islander # of Incindences\"] / df[\"Total Count\"], 2) * 100\n",
    "    df[\"Multi-Race Percent\"] = round(df[\"Multi-Race # of Incindences\"] / df[\"Total Count\"], 2) * 100\n",
    "    df[\"White Percent\"] = round(df[\"White # of Incindences\"] / df[\"Total Count\"], 2) * 100\n",
    "    \n",
    "    # Taking from the df_by_eth data set at this point\n",
    "    \n",
    "    eth_by_school = df_by_eth[(df_by_eth[\"Organization\"]==j)].copy()\n",
    "\n",
    "    eth_by_school.fillna(0, inplace=True) \n",
    "       \n",
    "    df[\"Amer-Indian School Percent\"] = float(eth_by_school[\"Amer-Indian Percent\"].values[0])\n",
    "    df[\"Asian School Percent\"] = float(eth_by_school[\"Asian Percent\"].values[0])\n",
    "    df[\"Black School Percent\"] = float(eth_by_school[\"Black Percent\"].values[0])\n",
    "    df[\"Hispanic School Percent\"] = float(eth_by_school[\"Hispanic Percent\"].values[0])\n",
    "    df[\"Pac-Islander School Percent\"] = float(eth_by_school[\"Pac-Islander Percent\"].values[0])\n",
    "    df[\"Multi-Race School Percent\"] = float(eth_by_school[\"Multi-Race Percent\"].values[0])\n",
    "    df[\"White School Percent\"] = float(eth_by_school[\"White Percent\"].values[0])\n",
    "    \n",
    "    df[\"Amer-Indian Percent Relative to School\"] = round((df[\"Amer-Indian Percent\"]-df[\"Amer-Indian School Percent\"]) / df[\"Amer-Indian School Percent\"] , 2)\n",
    "    df[\"Asian Percent Relative to School\"] = round((df[\"Asian Percent\"]-df[\"Asian School Percent\"]) / df[\"Asian School Percent\"] , 2)\n",
    "    df[\"Black Percent Relative to School\"] = round((df[\"Black Percent\"]-df[\"Black School Percent\"]) / df[\"Black School Percent\"] , 2)\n",
    "    df[\"Hispanic Percent Relative to School\"] = round((df[\"Hispanic Percent\"]-df[\"Hispanic School Percent\"]) / df[\"Hispanic School Percent\"] , 2)\n",
    "    df[\"Pac-Islander Percent Relative to School\"] = round((df[\"Pac-Islander Percent\"]-df[\"Pac-Islander School Percent\"]) / df[\"Pac-Islander School Percent\"] , 2)\n",
    "    df[\"Multi-Race Percent Relative to School\"] = round((df[\"Multi-Race Percent\"]-df[\"Multi-Race School Percent\"]) / df[\"Multi-Race School Percent\"] , 2)\n",
    "    df[\"White Percent Relative to School\"] = round((df[\"White Percent\"]-df[\"White School Percent\"]) / df[\"White School Percent\"] , 2)         \n",
    "    \n",
    "#     df[\"Amer-Indian School Percent Doubled\"] = df[\"Amer-Indian School Percent\"] * 2\n",
    "#     df[\"Asian School Percent Doubled\"] = df[\"Asian School Percent\"] * 2\n",
    "#     df[\"Black School Percent Doubled\"] = df[\"Black School Percent\"] * 2\n",
    "#     df[\"Hispanic School Percent Doubled\"] = df[\"Hispanic School Percent\"] * 2\n",
    "#     df[\"Pac-Islander School Percent Doubled\"] = df[\"Pac-Islander School Percent\"] * 2\n",
    "#     df[\"Multi-Race School Percent Doubled\"] = df[\"Multi-Race School Percent\"] * 2\n",
    "#     df[\"White School Percent Doubled\"] = df[\"White School Percent\"] * 2\n",
    "                                                                                                   \n",
    "    df[\"Amer-Indian Disproportionate\"] = np.where(df[\"Amer-Indian Percent Relative to School\"] > 1, \"YES\", \"no\")\n",
    "    df[\"Asain Disproportionate\"] = np.where(df[\"Asian Percent Relative to School\"] > 1, \"YES\", \"no\")\n",
    "    df[\"Black Disproportionate\"] = np.where(df[\"Black Percent Relative to School\"] > 1, \"YES\", \"no\")\n",
    "    df[\"Hispanic Disproportionate\"] = np.where(df[\"Hispanic Percent Relative to School\"] > 1, \"YES\", \"no\")\n",
    "    df[\"Pac-Islander Disproportionate\"] = np.where(df[\"Pac-Islander Percent Relative to School\"] > 1, \"YES\", \"no\")\n",
    "    df[\"Multi-Race Disproportionate\"] = np.where(df[\"Multi-Race Percent Relative to School\"] > 1, \"YES\", \"no\")\n",
    "    df[\"White Disproportionate\"] = np.where(df[\"White Percent Relative to School\"] > 1, \"YES\", \"no\")\n",
    "    \n",
    "    \n",
    "    col_order_list = [\n",
    "        \"Staff Member\",\n",
    "        \"Total Count\",\n",
    "        \"Amer-Indian # of Incindences\",\n",
    "        \"Amer-Indian Percent\",\n",
    "        \"Amer-Indian School Percent\",\n",
    "        \"Amer-Indian Percent Relative to School\",\n",
    "        \"Amer-Indian Disproportionate\",\n",
    "        \"Asian # of Incindences\",\n",
    "        \"Asian Percent\",\n",
    "        \"Asian School Percent\",\n",
    "        \"Asian Percent Relative to School\",\n",
    "        \"Asain Disproportionate\",\n",
    "        \"Black # of Incindences\",\n",
    "        \"Black Percent\",\n",
    "        \"Black School Percent\",\n",
    "        \"Black Percent Relative to School\",\n",
    "        \"Black Disproportionate\",\n",
    "        \"Hispanic # of Incindences\",\n",
    "        \"Hispanic Percent\",\n",
    "        \"Hispanic School Percent\",\n",
    "        \"Hispanic Percent Relative to School\",\n",
    "        \"Hispanic Disproportionate\",\n",
    "        \"Pac-Islander # of Incindences\",\n",
    "        \"Pac-Islander Percent\",\n",
    "        \"Pac-Islander School Percent\",\n",
    "        \"Pac-Islander Percent Relative to School\",\n",
    "        \"Pac-Islander Disproportionate\",\n",
    "        \"Multi-Race # of Incindences\",\n",
    "        \"Multi-Race Percent\",\n",
    "        \"Multi-Race School Percent\",\n",
    "        \"Multi-Race Percent Relative to School\",\n",
    "        \"Multi-Race Disproportionate\",\n",
    "        \"White # of Incindences\",\n",
    "        \"White Percent\",\n",
    "        \"White School Percent\",\n",
    "        \"White Percent Relative to School\",\n",
    "        \"White Disproportionate\",\n",
    "        \"Total # of Incindences > 5\",\n",
    "        \"Total # of Incindences > 10\",\n",
    "    ]\n",
    "    \n",
    "    df = df[col_order_list]\n",
    "    \n",
    "    eth_flag_columns = [6, 11, 16, 21, 26, 31, 36]\n",
    "    \n",
    "    df[\"Any Eth Disproportionate\"] = np.where(df[(df.iloc[:,eth_flag_columns] == \"YES\")].any(axis=1), \"YES\", \"no\")\n",
    "    df[\"Any Eth Disproportionate and Over Five Reports\"] = np.where(np.logical_and((df[\"Any Eth Disproportionate\"]==\"YES\"), (df[\"Total # of Incindences > 5\"]==\"YES\")), \"YES\", \"no\")\n",
    "    df[\"Any Eth Disproportionate and Over Ten Reports\"] = np.where(np.logical_and((df[\"Any Eth Disproportionate\"]==\"YES\"), (df[\"Total # of Incindences > 10\"]==\"YES\")), \"YES\", \"no\")\n",
    "\n",
    "    \n",
    "    \n",
    "    school_by_teacher_list.append(df)\n",
    "    print(\"{0} had {1} teachers flagged with 5 reports and {2} with over 10.\".format(j, len(df[(df[\"Any Eth Disproportionate and Over Five Reports\"]==\"YES\")]), \n",
    "                                                                                         len(df[(df[\"Any Eth Disproportionate and Over Ten Reports\"]==\"YES\")])))"
   ]
  },
  {
   "cell_type": "code",
   "execution_count": 9,
   "metadata": {},
   "outputs": [
    {
     "name": "stdout",
     "output_type": "stream",
     "text": [
      "Done writing: Alderson Elementary School\n",
      "Done writing: Atkins Middle School\n",
      "Done writing: Bayless Elementary School\n",
      "Done writing: Bean Elementary School\n",
      "Done writing: Bowie Elementary School\n",
      "Done writing: Brown Elementary School\n",
      "Done writing: Byron Martin Advanced Tech Center\n",
      "Done writing: Cavazos Middle School\n",
      "Done writing: Centennial Elementary School\n",
      "Done writing: Coronado High School\n",
      "Done writing: Dunbar College Preparatory Academy\n",
      "Done writing: Dupre Elementary School\n",
      "Done writing: Estacado High School\n",
      "Done writing: Evans Middle School\n",
      "Done writing: Guadalupe Elementary School\n",
      "Done writing: Hardwick Elementary School\n",
      "Done writing: Harwell Elementary School\n",
      "Done writing: Hodges Elementary School\n",
      "Done writing: Honey Elementary School\n",
      "Done writing: Hutchinson Middle School\n",
      "Done writing: Irons Middle School\n",
      "Done writing: JJAEP (015)\n",
      "Done writing: Jackson Elementary School\n",
      "Done writing: Jane Ann Miller Elementary School\n",
      "Done writing: Joan Y. Ervin Elementary School\n",
      "Done writing: Lubbock Co JJAEP\n",
      "Done writing: Lubbock High School\n",
      "Done writing: Mackenzie Middle School\n",
      "Done writing: Maedgen Elementary School\n",
      "Done writing: Matthews Learning Center\n",
      "Done writing: McWhorter Elementary School\n",
      "Done writing: Monterey High School\n",
      "Done writing: O L Slaton Middle School\n",
      "Done writing: Overton Elementary School\n",
      "Done writing: Parsons Elementary School\n",
      "Done writing: Priority Intervention Academy\n",
      "Done writing: R Wilson Elementary School\n",
      "Done writing: Ramirez Elementary School\n",
      "Done writing: Roberts Elementary School\n",
      "Done writing: Rush Elementary School\n",
      "Done writing: Smith Elementary School\n",
      "Done writing: Smylie Wilson Middle School\n",
      "Done writing: Stewart Elementary School\n",
      "Done writing: Talkington School for YWL\n",
      "Done writing: Waters Elementary School\n",
      "Done writing: Wester Elementary School\n",
      "Done writing: Wheelock Elementary School\n",
      "Done writing: Whiteside Elementary School\n",
      "Done writing: Williams Elementary School\n",
      "Done writing: Wolffarth Elementary School\n",
      "Done writing: Wright Elementary School\n"
     ]
    }
   ],
   "source": [
    "for i, j in zip (schools, school_by_teacher_list):\n",
    "    j.to_csv(\"/home/will/marthas data/Individual School Sets/{0}_IN_CLASS.csv\".format(i))\n",
    "    print(\"Done writing: {0}\".format(i))"
   ]
  },
  {
   "cell_type": "code",
   "execution_count": 10,
   "metadata": {
    "scrolled": false
   },
   "outputs": [],
   "source": [
    "all_set = pd.concat(school_by_teacher_list)"
   ]
  },
  {
   "cell_type": "code",
   "execution_count": 11,
   "metadata": {},
   "outputs": [
    {
     "data": {
      "text/plain": [
       "{6, 11, 16, 21, 26, 31, 36, 37, 38, 39, 40, 41}"
      ]
     },
     "execution_count": 11,
     "metadata": {},
     "output_type": "execute_result"
    }
   ],
   "source": [
    "set(np.where(all_set == \"YES\")[1])"
   ]
  },
  {
   "cell_type": "code",
   "execution_count": 12,
   "metadata": {},
   "outputs": [],
   "source": [
    "number_of_real_flags_5 = len(all_set[(all_set[\"Any Eth Disproportionate and Over Five Reports\"]==\"YES\")])"
   ]
  },
  {
   "cell_type": "code",
   "execution_count": 13,
   "metadata": {},
   "outputs": [],
   "source": [
    "number_of_real_flags_10 = len(all_set[(all_set[\"Any Eth Disproportionate and Over Ten Reports\"]==\"YES\")])"
   ]
  },
  {
   "cell_type": "code",
   "execution_count": 14,
   "metadata": {},
   "outputs": [
    {
     "name": "stdout",
     "output_type": "stream",
     "text": [
      "The number of those with eht flag and over five: 549\n",
      "The number of those with eht flag and over ten: 354\n"
     ]
    }
   ],
   "source": [
    "print(\"The number of those with eht flag and over five: {0}\".format(number_of_real_flags_5))\n",
    "print(\"The number of those with eht flag and over ten: {0}\".format(number_of_real_flags_10))"
   ]
  },
  {
   "cell_type": "code",
   "execution_count": 15,
   "metadata": {},
   "outputs": [],
   "source": [
    "all_set.to_csv(\"/home/will/marthas data/All_teachers_2018.csv\", index=False)"
   ]
  },
  {
   "cell_type": "code",
   "execution_count": 16,
   "metadata": {},
   "outputs": [],
   "source": [
    "# df_by_user[\"Ethnicity\"].replace(\"Native Hawaiian or Other Pacific Islander\", \"Pac-Islander\", inplace=True)\n",
    "# df_by_user[\"Ethnicity\"].replace(\"Hispanic/Latino\",\"Hispanic\", inplace=True)\n",
    "# df_by_user[\"Ethnicity\"].replace(\"Black or African American\", \"Black\", inplace=True)\n",
    "# df_by_user[\"Ethnicity\"].replace(\"American Indian or Alaska Native\", \"Amer-Indian\", inplace=True)"
   ]
  },
  {
   "cell_type": "code",
   "execution_count": 17,
   "metadata": {},
   "outputs": [],
   "source": [
    "user_all = list(set(df_by_user[\"Reported By\"]))\n",
    "user_all = sorted(user_all, key=lambda x: x[0:10])\n",
    "school_all = list(set(df_by_user[\"School\"]))\n",
    "school_all = sorted(school_all, key=lambda x: x[0:10])"
   ]
  },
  {
   "cell_type": "code",
   "execution_count": 18,
   "metadata": {},
   "outputs": [
    {
     "data": {
      "application/vnd.jupyter.widget-view+json": {
       "model_id": "bd38b196d5ce4dd3aa51d13cdc6c523d",
       "version_major": 2,
       "version_minor": 0
      },
      "text/plain": [
       "interactive(children=(Dropdown(description='Select User:', options=('Abbott, LeeAnn', 'Abbott, Meghann', 'Abbo…"
      ]
     },
     "metadata": {},
     "output_type": "display_data"
    },
    {
     "data": {
      "text/plain": [
       "<function __main__.pie_chart_plots(user, school)>"
      ]
     },
     "execution_count": 18,
     "metadata": {},
     "output_type": "execute_result"
    }
   ],
   "source": [
    "user_select = widgets.Dropdown(\n",
    "    description = \"Select User:\",\n",
    "    )\n",
    "user_select.options = user_all\n",
    "\n",
    "school_select = widgets.Dropdown(\n",
    "    description = \"Select Campus:\",\n",
    ")\n",
    "school_select.options = school_all\n",
    "\n",
    "def pie_chart_plots(user, school):\n",
    "    colors = ['#1f77b4', '#ff7f0e', '#2ca02c', '#d62728', '#9467bd', '#8c564b', '#e377c2']\n",
    "    font_dictionary={'fontsize':16}\n",
    "    df_user_unique = df_by_user[(df_by_user[\"Reported By\"] == user_select.value)]\n",
    "    which_campus = df_user_unique[\"School\"].values[0]\n",
    "    df_user_campus = df_by_eth[(df_by_eth[\"Organization\"] == which_campus)]\n",
    "    categories = sorted(list(set(df_by_user[\"Ethnicity\"])))     \n",
    "    fractions_campus = df_user_campus.iloc[:1,1:].values[0]\n",
    "    categories_campus = sorted(list(df_by_eth)[1:])\n",
    "    labels_campus = ['{0} - {1} %'.format(i,j) for i,j in zip(categories_campus, fractions_campus)]\n",
    "\n",
    "    counts_user = []\n",
    "\n",
    "    for i in categories:\n",
    "        val = len(df_user_unique[(df_user_unique[\"Ethnicity\"]==i)])\n",
    "        counts_user.append(val)\n",
    "\n",
    "    user_total = sum(counts_user)\n",
    "    fractions_user = [i/user_total for i in counts_user]\n",
    "    labels_user = ['{0} - {1:1.2f} % - {2}'.format(i,j,k) for i,j,k in zip(categories, fractions_user,counts_user)]\n",
    "    campus_data = [(i,j) for i,j in zip(categories_campus, fractions_campus)]\n",
    "    campus_data_sorted = sorted(campus_data, key=lambda x: x[0][0:10])\n",
    "    user_data_list = [(i,j,k) for i,j,k in zip(categories, fractions_user,counts_user)]\n",
    "    #print(fractions_user)\n",
    "    fig, ax = plt.subplots(2,2, figsize=(20,20))\n",
    "    patches_1, texts_1 = ax[0,0].pie(fractions_user, labels=None,shadow=False,colors=colors, \n",
    "            startangle=90, explode=[0.07,0.06,0.05,0.04,0.03,0.02,0.01])\n",
    "    ax[0,0].set_title(\"{0}\".format(user_select.value), fontdict=font_dictionary)\n",
    "    ax[0,0].legend(patches_1, labels_user, loc=\"lower right\", fontsize=\"x-large\", shadow=True)\n",
    "    patches_2, texts_2 = ax[0,1].pie(fractions_campus, labels=None, shadow=False,colors=colors, \n",
    "            startangle=90, explode=[0.07,0.06,0.05,0.04,0.03,0.02,0.01])\n",
    "    ax[0,1].set_title(\"{0}\".format(which_campus), fontdict=font_dictionary)\n",
    "    ax[0,1].legend(patches_2, labels_campus, loc=\"lower right\", fontsize=\"x-large\", shadow=True)\n",
    "    ax[1,0].bar(categories,fractions_user, color=colors)\n",
    "    ax[1,0].set_title(\"{0}\".format(user_select.value), fontdict=font_dictionary)\n",
    "    ax[1,0].set_xticklabels(categories, rotation=75, fontdict=font_dictionary)\n",
    "    ax[1,1].bar(categories_campus,fractions_campus, color=colors)\n",
    "    ax[1,1].set_title(\"{0}\".format(which_campus), fontdict=font_dictionary)\n",
    "    ax[1,1].set_xticklabels(categories, rotation=75, fontdict=font_dictionary)\n",
    "    fig.tight_layout()\n",
    "    \n",
    "interact(pie_chart_plots, user = user_select, school = school_select)"
   ]
  },
  {
   "cell_type": "code",
   "execution_count": null,
   "metadata": {},
   "outputs": [],
   "source": []
  },
  {
   "cell_type": "code",
   "execution_count": null,
   "metadata": {},
   "outputs": [],
   "source": [
    "df_user_unique = df_by_user[(df_by_user[\"Reported By\"] == \"Abbott, LeeAnn\")]"
   ]
  },
  {
   "cell_type": "code",
   "execution_count": null,
   "metadata": {},
   "outputs": [],
   "source": [
    "which_campus = df_user_unique[\"School\"].values[0]"
   ]
  },
  {
   "cell_type": "code",
   "execution_count": null,
   "metadata": {},
   "outputs": [],
   "source": [
    "which_campus"
   ]
  },
  {
   "cell_type": "code",
   "execution_count": null,
   "metadata": {},
   "outputs": [],
   "source": [
    "df_user_campus = df_by_user[(df_by_user[\"School\"] == which_campus)]"
   ]
  },
  {
   "cell_type": "code",
   "execution_count": null,
   "metadata": {},
   "outputs": [],
   "source": [
    "df_user_campus"
   ]
  },
  {
   "cell_type": "code",
   "execution_count": null,
   "metadata": {},
   "outputs": [],
   "source": [
    "categories = list(set(df_by_user[\"Ethnicity\"]))"
   ]
  }
 ],
 "metadata": {
  "kernelspec": {
   "display_name": "Python 3",
   "language": "python",
   "name": "python3"
  },
  "language_info": {
   "codemirror_mode": {
    "name": "ipython",
    "version": 3
   },
   "file_extension": ".py",
   "mimetype": "text/x-python",
   "name": "python",
   "nbconvert_exporter": "python",
   "pygments_lexer": "ipython3",
   "version": "3.6.5"
  }
 },
 "nbformat": 4,
 "nbformat_minor": 2
}
