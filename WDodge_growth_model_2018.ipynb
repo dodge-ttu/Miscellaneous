{
 "cells": [
  {
   "cell_type": "markdown",
   "metadata": {},
   "source": [
    "<h1 style=\"text-align:right\">Will Dodge 2018-05-05</h1>"
   ]
  },
  {
   "cell_type": "markdown",
   "metadata": {},
   "source": [
    "<div style=\"padding:30px 20px 30px 20px;background-color:#e8ffe8;border:px ridge black;\"><p style=\"font-weight:bold;font-size:2.25vw;text-align:center;\n",
    "padding:0px 0px 30px 0px;\"><i>Yield and Phenology Model for Corn</i></p>\n",
    "<p style=\"font-size:1vw;text-align:center;\">Will Dodge Spring 2018</p></div>"
   ]
  },
  {
   "cell_type": "markdown",
   "metadata": {},
   "source": [
    "<div style=\"padding:30px 20px 30px 18px;background-color:#e8ffe8;\">\n",
    " <p style=\"font-weight:bold;font-size:1.5vw;text-align:left;\">Overview</p>\n",
    " <p style=\"font-size:1.25vw;text-align:left;line-height:1.5;text-indent:50px;padding:40px 40px 3px 40px;margin:0px;\">   \n",
    "Agricultural producers must respond to environmental changes during production in order to maximize profits. The production environment changes both annually and perennially. Farmers must deal with seasonal weather variability as well as long-term climate variability. One important way to mitigate risk associated with environmental variability is to have a reasonable means to estimate crop growth and development. Producers can predict the demands and outputs of cropping systems with growth models, and by doing so, are able to reduce risk associated with production. Specifically, in rain-fed environments. The focus of this report is to model leaf area index, above ground plant matter, maturity, and yield in corn.\n",
    " </p>   \n",
    "</div>"
   ]
  },
  {
   "cell_type": "markdown",
   "metadata": {},
   "source": [
    "<div style=\"padding:30px 20px 30px 18px;background-color:#e8ffe8;\">\n",
    "    <p style=\"font-weight:bold;font-size:1.5vw;text-align:left;\">Method</p>\n",
    "    <p style=\"font-size:1.25vw;text-align:left;line-height:1.5;text-indent:50px;padding:40px 40px 3px 40px;margin:0px;\">   \n",
    "In corn maturity, or growth stage, is evaluated based on the number of leaves that have emerged during vegetative growth and on kernel development during maturity. The best method for predicting growth stages in corn is by calculating a running total of growing degree units (GDU). The GDU values used for given stages of maturity in this model were extracted from an excellent publication by the Chad Lee at the University of Kentucky.<a href=\"https://drive.google.com/file/d/1s_tptQoZMGGW79mWLPSqC-u1VzSQW44h/view?usp=sharing\">(Lee, 2011)</a>.\n",
    "    </p>\n",
    "    <p style=\"font-size:1.25vw;text-align:left;line-height:1.5;text-indent:50px;padding:3px 40px 3px 40px;margin:0px;\">    \n",
    "GDUs are easy to calculate and implement in predictive modeling. To calculate total above ground biomass and LAI is a little more challenging. The method used to estimate LAI and above ground dry mass are based on the described by <a href=\"https://drive.google.com/file/d/1hWFDn959qMfdB-65VQy5vKF_00A1UJIu/view?usp=sharing\">(Mass, 1993)</a> in the paper <i>Parameterized Model of Gramineous Crop Growth: I. Leaf Area and Dry Mass Simulation</i>. The method uses growing degree days, total daily solar radiation, and a handful of empirical parameters to model growth. The process itself is recursive in that as the LAI increase so does the quantity of intercepted light and, in return, the LAI increases even more. This occurs until the LAI reaches a maximum potential that is limited by the parameters that are used in its calculation.  \n",
    "    </p>\n",
    "    <p style=\"font-size:1.25vw;text-align:left;line-height:1.5;text-indent:50px;padding:3px 40px 3px 40px;margin:0px;\">   \n",
    "The model is based a significant amount of prior experimentation. In order to generate many of the parameters used in Maas’s model extensive data must be collected in order to establish the values of the parameters themselves. Fortunately, this work has been done and it is now a straight-forward process to apply the model and estimate LAI and above ground dry matter. The Python code below executes the model and visualizes a portion of the data.\n",
    "    </p>    \n",
    "</div>"
   ]
  },
  {
   "cell_type": "markdown",
   "metadata": {},
   "source": [
    "<h1 style=\"padding:20px;background-color:#e8ffe8;text-align:left\">Import and clean data:</h1>"
   ]
  },
  {
   "cell_type": "code",
   "execution_count": 1,
   "metadata": {},
   "outputs": [],
   "source": [
    "from datetime import datetime\n",
    "from matplotlib import pyplot as plt\n",
    "from IPython.display import Markdown, display, HTML\n",
    "import pandas as pd\n",
    "import numpy as np"
   ]
  },
  {
   "cell_type": "code",
   "execution_count": 2,
   "metadata": {},
   "outputs": [],
   "source": [
    "DF = pd.read_csv(\"https://drive.google.com/uc?id=1K7vnCpK8tElmE-VfyMiN4pQSQEAkOrTE\") # bushland data set W. Guo Spring 2018"
   ]
  },
  {
   "cell_type": "code",
   "execution_count": null,
   "metadata": {},
   "outputs": [],
   "source": []
  },
  {
   "cell_type": "code",
   "execution_count": 3,
   "metadata": {},
   "outputs": [],
   "source": [
    "def put_colon_in_time(x):\n",
    "        x = str(x)\n",
    "        if len(x) == 0:\n",
    "            pass\n",
    "        elif len(x) == 1:\n",
    "            x = \"00:0\" + x\n",
    "        elif len(x) == 2:\n",
    "            x = \"00:\" + x\n",
    "        elif len(x) == 3:\n",
    "            x = \"0\" + x[0] + \":\" + x[1] + x[2]\n",
    "        else:\n",
    "            x = x[0] + x[1] + \":\" + x[2] + x[3]\n",
    "        return x"
   ]
  },
  {
   "cell_type": "code",
   "execution_count": 4,
   "metadata": {},
   "outputs": [],
   "source": [
    "def TimeNO24(x):\n",
    "        if x == \"24:00\":\n",
    "            x = \"23:59\"\n",
    "        else:\n",
    "            x = x\n",
    "        return x"
   ]
  },
  {
   "cell_type": "code",
   "execution_count": 5,
   "metadata": {},
   "outputs": [],
   "source": [
    "DF = pd.read_csv(\"https://drive.google.com/uc?id=1K7vnCpK8tElmE-VfyMiN4pQSQEAkOrTE\") # bushland data set W. Guo Spring 2018\n",
    "\n",
    "DF[\"TimeWcolon\"] = DF[\"Time\"].map(put_colon_in_time)\n",
    "\n",
    "DF[\"TimeNo24\"] = DF[\"TimeWcolon\"].map(TimeNO24)\n",
    "\n",
    "DF[\"date\"] = DF[\"Year\"].map(str)+\"-\"+DF['DOY'].map(str)+\" \"+ DF[\"TimeNo24\"].map(str) \n",
    "\n",
    "DF[\"date\"] = pd.to_datetime(DF[\"date\"], format = \"%Y-%j %H:%M\")\n",
    "\n",
    "DF.set_index(DF[\"date\"], inplace = True)\n",
    "\n",
    "DF = DF.drop(columns=[\"date\",\"TimeWcolon\",\"TimeNo24\"])\n",
    "\n",
    "DF[\"AirTemp\"] = DF[\"AirTemp\"][(DF[\"AirTemp\"] < 45) & (DF[\"AirTemp\"] > -30)]\n",
    "\n",
    "DF[\"RelHumid\"] = DF[\"RelHumid\"][(DF[\"RelHumid\"] < 100) & (DF[\"RelHumid\"] > 0)]\n",
    "\n",
    "DF[\"SolRad\"] = DF[\"SolRad\"][(DF[\"SolRad\"] < 2000) & (DF[\"SolRad\"] > 0)]\n",
    "\n",
    "DF[\"WS_2m\"] = DF[\"WS_2m\"][(DF[\"WS_2m\"] < 18) & (DF[\"WS_2m\"] > 0)]\n",
    "\n",
    "DF[\"BP\"] = DF[\"BP\"][(DF[\"BP\"] < 120) & (DF[\"BP\"] > 0)]\n",
    "\n",
    "DF[\"Rainfall_Tot\"] = DF[\"Rainfall_Tot\"][(DF[\"Rainfall_Tot\"] < 200) & (DF[\"Rainfall_Tot\"] > 0)]\n",
    "\n",
    "DF[\"AirTemp\"] = DF[\"AirTemp\"].interpolate()\n",
    "\n",
    "DF[\"RelHumid\"] = DF[\"RelHumid\"].interpolate()\n",
    "\n",
    "DF[\"SolRad\"] = DF[\"SolRad\"].interpolate()\n",
    "\n",
    "DF[\"WS_2m\"] = DF[\"WS_2m\"].interpolate()\n",
    "\n",
    "DF[\"BP\"] = DF[\"BP\"].interpolate()\n",
    "\n",
    "DF[\"Rainfall_Tot\"] = DF[\"Rainfall_Tot\"].fillna(0)\n",
    "\n",
    "DF_daily = DF.resample('24H').mean()\n",
    "\n",
    "DF_daily[\"Rain_Tot\"] = DF.loc[:,(\"Rainfall_Tot\")].resample('24H').sum()\n",
    "\n",
    "DF_daily[\"mint.C\"] = DF.groupby('DOY').min()[\"AirTemp\"].values\n",
    "\n",
    "DF_daily[\"maxt.C\"] = DF.groupby('DOY').max()[\"AirTemp\"].values\n",
    "\n",
    "DF_daily[\"min.RH.%\"] = DF.groupby('DOY').min()[\"RelHumid\"].values\n",
    "\n",
    "DF_daily[\"max.RH.%\"] = DF.groupby('DOY').max()[\"RelHumid\"].values\n",
    "\n",
    "DF_daily[\"radn.daily.sum.W/m2\"] = DF.groupby('DOY').sum()[\"SolRad\"].values\n",
    "\n",
    "DF_daily[\"AirTemp.F\"] = (DF_daily[\"AirTemp\"]*1.8) + 32\n",
    "\n",
    "DF_daily[\"maxt.F\"] = (DF_daily[\"maxt.C\"]*1.8) + 32\n",
    "\n",
    "DF_daily[\"mint.F\"] = (DF_daily[\"mint.C\"]*1.8) + 32"
   ]
  },
  {
   "cell_type": "markdown",
   "metadata": {},
   "source": [
    "<h1 style=\"padding:20px;background-color:#e8ffe8;text-align:left\">Calculate GDU for both °F and °C:</h1>"
   ]
  },
  {
   "cell_type": "markdown",
   "metadata": {},
   "source": [
    "<div style=\"padding:20px;background-color:#e8ffe8\">\n",
    "    <p style=\"text-align:left;font-size:1.25vw;font-weight:550;line-height:1.6;text-indent:50px\">In the process of developing Python code to run this model a realization about growing degrees occurred. We discovered that the product of a GDU calculation cannot be directly converted from °F to °C and vice versa. This is because there in not relationship to absolute temperature, only the degrees themselves. To convert between GDU in °F to °C divide by 1.8 but <b>do not subtract 32</b> as one might do in a typical degree conversion. Understanding the way these two forms of GDU relate to the other will certainly prevent any confusion moving forward</p>\n",
    " </div>  "
   ]
  },
  {
   "cell_type": "code",
   "execution_count": 6,
   "metadata": {},
   "outputs": [],
   "source": [
    "DF_daily[\"GDU.C\"] = (DF_daily[\"mint.C\"]+DF_daily[\"maxt.C\"])/2 - 10"
   ]
  },
  {
   "cell_type": "code",
   "execution_count": 7,
   "metadata": {},
   "outputs": [],
   "source": [
    "DF_daily[(DF_daily[\"GDU.C\"] < 0)] = 0"
   ]
  },
  {
   "cell_type": "code",
   "execution_count": 8,
   "metadata": {},
   "outputs": [],
   "source": [
    "DF_daily[\"GDU.F\"] = (DF_daily[\"mint.F\"]+DF_daily[\"maxt.F\"])/2 - 50"
   ]
  },
  {
   "cell_type": "code",
   "execution_count": 9,
   "metadata": {},
   "outputs": [],
   "source": [
    "DF_daily[(DF_daily[\"GDU.F\"] < 0)] = 0"
   ]
  },
  {
   "cell_type": "code",
   "execution_count": 10,
   "metadata": {},
   "outputs": [
    {
     "data": {
      "text/plain": [
       "date\n",
       "2016-04-10    7.793575\n",
       "2016-04-11    0.000000\n",
       "2016-04-12    0.000000\n",
       "2016-04-13    4.471442\n",
       "2016-04-14    5.377064\n",
       "Freq: 24H, Name: GDU.C, dtype: float64"
      ]
     },
     "execution_count": 10,
     "metadata": {},
     "output_type": "execute_result"
    }
   ],
   "source": [
    "DF_daily[\"GDU.C\"][100:105]"
   ]
  },
  {
   "cell_type": "code",
   "execution_count": 11,
   "metadata": {},
   "outputs": [
    {
     "data": {
      "text/plain": [
       "date\n",
       "2016-04-10    7.793575\n",
       "2016-04-11    0.000000\n",
       "2016-04-12    0.000000\n",
       "2016-04-13    4.471442\n",
       "2016-04-14    5.377064\n",
       "Freq: 24H, Name: GDU.F, dtype: float64"
      ]
     },
     "execution_count": 11,
     "metadata": {},
     "output_type": "execute_result"
    }
   ],
   "source": [
    "DF_daily[\"GDU.F\"][100:105] / 1.8"
   ]
  },
  {
   "cell_type": "markdown",
   "metadata": {},
   "source": [
    "<div style=\"padding:20px;background-color:#e8ffe8\">\n",
    "    <p style=\"text-align:left;font-size:1.25vw;font-weight:550;line-height:1.6\">This test shows that the using 1.8 as a conversion between independently claculated GDU returns <code>True</code>.</p>\n",
    " </div>  "
   ]
  },
  {
   "cell_type": "code",
   "execution_count": 12,
   "metadata": {},
   "outputs": [
    {
     "data": {
      "text/plain": [
       "array([ True,  True,  True,  True,  True,  True,  True,  True,  True,\n",
       "        True,  True,  True,  True,  True,  True,  True,  True,  True,\n",
       "        True,  True,  True,  True,  True,  True,  True,  True,  True])"
      ]
     },
     "execution_count": 12,
     "metadata": {},
     "output_type": "execute_result"
    }
   ],
   "source": [
    "np.round(DF_daily[\"GDU.C\"][:27].values,3) == np.round((DF_daily[\"GDU.F\"][:27].values / 1.8),3) # conversion is 1.8"
   ]
  },
  {
   "cell_type": "markdown",
   "metadata": {},
   "source": [
    "<h1 style=\"padding:20px;background-color:#e8ffe8;text-align:left\">Create a data set that for the growing season only:</h1>"
   ]
  },
  {
   "cell_type": "code",
   "execution_count": 13,
   "metadata": {},
   "outputs": [],
   "source": [
    "DF_season = DF_daily.loc[\"2016-05-22\":\"2016-12-31\", list(DF_daily)]"
   ]
  },
  {
   "cell_type": "code",
   "execution_count": 14,
   "metadata": {},
   "outputs": [],
   "source": [
    "DF_season[\"accu_GDU.C\"] = DF_season[\"GDU.C\"].cumsum()"
   ]
  },
  {
   "cell_type": "code",
   "execution_count": 15,
   "metadata": {},
   "outputs": [],
   "source": [
    "DF_season[\"accu_GDU.F\"] = DF_season[\"GDU.F\"].cumsum()"
   ]
  },
  {
   "cell_type": "markdown",
   "metadata": {},
   "source": [
    "<h1 style=\"padding:20px;background-color:#e8ffe8;text-align:left\">Create dictionary of growth stage thresholds:</h1>"
   ]
  },
  {
   "cell_type": "code",
   "execution_count": 16,
   "metadata": {},
   "outputs": [],
   "source": [
    "cutoffs = {'V2':200,'V6':475,'V12':870,'VT':1250,'R1':1400,'phys_maturity':1583.5,'R6':2700}"
   ]
  },
  {
   "cell_type": "markdown",
   "metadata": {},
   "source": [
    "<h1 style=\"padding:20px;background-color:#e8ffe8;text-align:left\">Return dates when corn reaches each growth stage:</h1>"
   ]
  },
  {
   "cell_type": "code",
   "execution_count": 17,
   "metadata": {},
   "outputs": [
    {
     "data": {
      "text/markdown": [
       "<div style=\"padding:20px;background-color:#e8ffe8\"><h1>Growth Stage Predicted Dates:</h1><p style=\"font-size: 1.3vw;text-align: left;font-weight: 550;padding: 10px 10px 0px 10px;\">\n",
       "                <code>phys_maturity</code> growth stage threshold reached on:  <code>2016-07-18 00:00:00</code></p><p style=\"font-size: 1.3vw;text-align: left;font-weight: 550;padding: 10px 10px 0px 10px;\">\n",
       "                <code>V2</code> growth stage threshold reached on:  <code>2016-06-01 00:00:00</code></p><p style=\"font-size: 1.3vw;text-align: left;font-weight: 550;padding: 10px 10px 0px 10px;\">\n",
       "                <code>V12</code> growth stage threshold reached on:  <code>2016-06-26 00:00:00</code></p><p style=\"font-size: 1.3vw;text-align: left;font-weight: 550;padding: 10px 10px 0px 10px;\">\n",
       "                <code>R6</code> growth stage threshold reached on:  <code>2016-08-27 00:00:00</code></p><p style=\"font-size: 1.3vw;text-align: left;font-weight: 550;padding: 10px 10px 0px 10px;\">\n",
       "                <code>V6</code> growth stage threshold reached on:  <code>2016-06-13 00:00:00</code></p><p style=\"font-size: 1.3vw;text-align: left;font-weight: 550;padding: 10px 10px 0px 10px;\">\n",
       "                <code>VT</code> growth stage threshold reached on:  <code>2016-07-08 00:00:00</code></p><p style=\"font-size: 1.3vw;text-align: left;font-weight: 550;padding: 10px 10px 0px 10px;\">\n",
       "                <code>R1</code> growth stage threshold reached on:  <code>2016-07-12 00:00:00</code></p></div>"
      ],
      "text/plain": [
       "<IPython.core.display.Markdown object>"
      ]
     },
     "metadata": {},
     "output_type": "display_data"
    }
   ],
   "source": [
    "def predict_growth_stages(cutoffs, gdu_series, dataset): #function will output predicted values to html side   \n",
    "    def printmd(string):\n",
    "        display(Markdown(string))\n",
    "    htm_out = \"\"\"<div style=\"padding:20px;background-color:#e8ffe8\"><h1>Growth Stage Predicted Dates:</h1>\"\"\"\n",
    "    for growth_stage, value in cutoffs.items():\n",
    "        for idx,i in enumerate(gdu_series):\n",
    "            if i >= value:\n",
    "                htm_out +=\"\"\"<p style=\"font-size: 1.3vw;text-align: left;font-weight: 550;padding: 10px 10px 0px 10px;\">\n",
    "                <code>\"\"\" + str(growth_stage) + \"\"\"</code> growth stage threshold reached on:  <code>\"\"\" + str(dataset.index[idx]) + \"\"\"</code></p>\"\"\"\n",
    "                break\n",
    "            if idx+1 == len(DF_season[\"accu_GDU.C\"]):\n",
    "                htm_out +=\"\"\"<p style=\"font-size: 1.3vw;text-align: left;font-weight: 550;padding: 10px 10px 0px 10px;\">\n",
    "                Threshold for <code>\"\"\" + str(growth_stage) + \"\"\"</code> not reached</p>\"\"\"\n",
    "                break\n",
    "\n",
    "    printmd(htm_out+\"\"\"</div>\"\"\")\n",
    "    \n",
    "predict_growth_stages(cutoffs, DF_season[\"accu_GDU.F\"], DF_season)"
   ]
  },
  {
   "cell_type": "markdown",
   "metadata": {},
   "source": [
    "<h1 style=\"padding:20px;background-color:#e8ffe8;text-align:left\">Calculate LAI and above-ground dry matter:</h1>"
   ]
  },
  {
   "cell_type": "code",
   "execution_count": 18,
   "metadata": {},
   "outputs": [],
   "source": [
    "DF_season[\"radn.daily.sum.MJ\"] = DF_season[\"radn.daily.sum.W/m2\"] * 0.0864 # convert daily solar to MJ"
   ]
  },
  {
   "cell_type": "code",
   "execution_count": 19,
   "metadata": {},
   "outputs": [],
   "source": [
    "par_fraction = 0.45\n",
    "day_one_LAI = 0.00167\n",
    "light_extinction_coefficient = 0.35\n",
    "light_use_efficiency = 3.5\n",
    "a = 0.0396\n",
    "b = 0.00417\n",
    "c = 21\n",
    "d = 1.23\n",
    "specific_leaf_area = 0.024"
   ]
  },
  {
   "cell_type": "code",
   "execution_count": 20,
   "metadata": {},
   "outputs": [],
   "source": [
    "q_list = []\n",
    "delta_M_list = []\n",
    "p_list = []\n",
    "delta_L_list = []\n",
    "J_list = []\n",
    "\n",
    "for accu_GDU, radn_daily_total in zip(DF_season[\"accu_GDU.C\"],DF_season[\"radn.daily.sum.MJ\"]):\n",
    "    q= par_fraction * radn_daily_total * (1 - np.exp(-(light_extinction_coefficient) * day_one_LAI))\n",
    "    delta_M = light_use_efficiency * q\n",
    "    p = (1 - (a*np.exp(b*accu_GDU)))\n",
    "    if p < 0:\n",
    "        p = 0\n",
    "    delta_L = delta_M * p * specific_leaf_area\n",
    "    J = c + d * accu_GDU\n",
    "    q_list.append(q)\n",
    "    delta_M_list.append(delta_M)\n",
    "    p_list.append(p)\n",
    "    delta_L_list.append(delta_L)\n",
    "    J_list.append(J)"
   ]
  },
  {
   "cell_type": "code",
   "execution_count": 21,
   "metadata": {},
   "outputs": [],
   "source": [
    "DF_season[\"Q\"] = q_list\n",
    "DF_season[\"delta_M\"] = delta_M_list\n",
    "DF_season[\"total.dry.matter\"] = DF_season[\"delta_M\"].cumsum()\n",
    "DF_season[\"P\"] = p_list\n",
    "DF_season[\"delta_L\"] = delta_L_list\n",
    "DF_season[\"LAI\"] = DF_season[\"delta_L\"].cumsum()\n",
    "DF_season[\"J\"] = J_list"
   ]
  },
  {
   "cell_type": "markdown",
   "metadata": {},
   "source": [
    "<h1 style=\"padding:20px;background-color:#e8ffe8;text-align:left\">Plot LAI, total dry matter accumulation:</h1>"
   ]
  },
  {
   "cell_type": "code",
   "execution_count": 22,
   "metadata": {},
   "outputs": [
    {
     "data": {
      "text/plain": [
       "<matplotlib.legend.Legend at 0x7fb9cac9f198>"
      ]
     },
     "execution_count": 22,
     "metadata": {},
     "output_type": "execute_result"
    },
    {
     "data": {
      "image/png": "[encoded data removed]",
      "text/plain": [
       "<Figure size 1296x468 with 1 Axes>"
      ]
     },
     "metadata": {},
     "output_type": "display_data"
    }
   ],
   "source": [
    "d = {\"LAI\":DF_season[\"LAI\"]}\n",
    "DF_plot = pd.DataFrame(d) \n",
    "cols = list(DF_plot)\n",
    "plt.figure(figsize=(18,6.5))\n",
    "for i in cols:\n",
    "    plt.plot(DF_plot[i])\n",
    "plt.legend(loc='upper left')"
   ]
  },
  {
   "cell_type": "code",
   "execution_count": 23,
   "metadata": {},
   "outputs": [
    {
     "data": {
      "text/plain": [
       "Text(0.5,1,'Accumulation of above ground dry mater over time in corn')"
      ]
     },
     "execution_count": 23,
     "metadata": {},
     "output_type": "execute_result"
    },
    {
     "data": {
      "image/png": "[encoded data removed]",
      "text/plain": [
       "<Figure size 1296x468 with 1 Axes>"
      ]
     },
     "metadata": {},
     "output_type": "display_data"
    }
   ],
   "source": [
    "d = {\"Total Dry Matter\":DF_season[\"total.dry.matter\"]}\n",
    "DF_plot = pd.DataFrame(d) \n",
    "cols = list(DF_plot)\n",
    "plt.figure(figsize=(18,6.5))\n",
    "for i in cols:\n",
    "    plt.plot(DF_plot[i])\n",
    "plt.legend(loc='upper left')\n",
    "plt.ylabel(\"Total Dry Matter (g m^-2)\")\n",
    "plt.title(\"Accumulation of above ground dry mater over time in corn\")"
   ]
  },
  {
   "cell_type": "code",
   "execution_count": 24,
   "metadata": {},
   "outputs": [
    {
     "data": {
      "text/plain": [
       "([], <a list of 0 Text yticklabel objects>)"
      ]
     },
     "execution_count": 24,
     "metadata": {},
     "output_type": "execute_result"
    },
    {
     "data": {
      "image/png": "[encoded data removed]",
      "text/plain": [
       "<Figure size 1296x468 with 1 Axes>"
      ]
     },
     "metadata": {},
     "output_type": "display_data"
    }
   ],
   "source": [
    "DF_season_LAI_scaled = (DF_season[\"LAI\"] - DF_season[\"LAI\"].mean() ) / DF_season[\"LAI\"].std()\n",
    "DF_season_total_DM = (DF_season[\"total.dry.matter\"] - DF_season[\"total.dry.matter\"].mean() ) / DF_season[\"total.dry.matter\"].std()\n",
    "d = {\"LAI\":DF_season_LAI_scaled,\"dry_matter\":DF_season_total_DM}\n",
    "DF_plot = pd.DataFrame(d) \n",
    "cols = list(DF_plot)\n",
    "plt.figure(figsize=(18,6.5))\n",
    "for i in cols:\n",
    "    plt.plot(DF_plot[i])\n",
    "plt.legend(loc='upper left')\n",
    "plt.yticks([])"
   ]
  },
  {
   "cell_type": "markdown",
   "metadata": {},
   "source": [
    "<div style=\"padding:30px 20px 30px 18px;background-color:#e8ffe8;\">\n",
    "    <p style=\"font-weight:bold;font-size:1.5vw;text-align:left;\">Estimate Yield</p>   \n",
    "    <p style=\"font-size:1.25vw;text-align:left;line-height:1.5;text-indent:50px;padding:40px 40px 3px 40px;margin:0px;\">   \n",
    "The values of total above ground dry matter are in grams per square meter. From this, a value for the total above ground plant matter per acre can be easily calculated. With that value and an approximation of harvest index at 0.39 as reported by <a href=\"https://dl.sciencesocieties.org/publications/aj/abstracts/71/4/AJ0710040577\">(DeLougherty & Crookston, 1978)</a>, we can estimate the per acre yield in grams. From that we can easily calculate yield in bushels per acre.\n",
    "    </p>\n",
    "   </div>"
   ]
  },
  {
   "cell_type": "code",
   "execution_count": 25,
   "metadata": {},
   "outputs": [
    {
     "data": {
      "text/markdown": [
       "<div style=\"padding:20px;background-color:#e8ffe8\"><h1>Dryland yield outcomes:</h1><p style=\"font-size: 1.3vw;text-align: left;font-weight: 550;padding: \n",
       "        10px 10px 0px 10px;\">Dry matter in grams per square meter: <code>326.8349150873484</code></p><p style=\"font-size: 1.3vw;text-align: left;font-weight: 550;padding: \n",
       "        10px 10px 0px 10px;\">Yield in pounds per acre: <code>1137.222024220268</code></p><p style=\"font-size: 1.3vw;text-align: left;font-weight: 550;padding: \n",
       "        10px 10px 0px 10px;\">Dry matter in pounds per acre: <code>2915.9539082570973</code></p><p style=\"font-size: 1.3vw;text-align: left;font-weight: 550;padding: \n",
       "        10px 10px 0px 10px;\">Dry matter in grams per acre: <code>1322656.017026561</code></p><p style=\"font-size: 1.3vw;text-align: left;font-weight: 550;padding: \n",
       "        10px 10px 0px 10px;\">Bushels of corn per acre: <code>16.246028917432398</code></p></div>"
      ],
      "text/plain": [
       "<IPython.core.display.Markdown object>"
      ]
     },
     "metadata": {},
     "output_type": "display_data"
    }
   ],
   "source": [
    "total_dry_matter = DF_season[\"total.dry.matter\"].max()\n",
    "total_dry_matter_grams_per_ACRE = total_dry_matter / 0.000247105\n",
    "total_dry_matter_pounds_per_ACRE = total_dry_matter_grams_per_ACRE * 0.00220462\n",
    "pounds_of_yield_per_acre = total_dry_matter_pounds_per_ACRE * 0.39\n",
    "bushels_of_corn_per_acre = pounds_of_yield_per_acre / 70\n",
    "\n",
    "yield_d = {\"Dry matter in grams per square meter: \":total_dry_matter,\n",
    "     \"Dry matter in grams per acre: \":total_dry_matter_grams_per_ACRE,\n",
    "     \"Dry matter in pounds per acre: \":total_dry_matter_pounds_per_ACRE,\n",
    "     \"Yield in pounds per acre: \":pounds_of_yield_per_acre,\n",
    "     \"Bushels of corn per acre: \":bushels_of_corn_per_acre}\n",
    "\n",
    "def predict_growth_stages(cutoffs, gdu_series, dataset): #function will output predicted values to html side   \n",
    "    def printmd(string):\n",
    "        display(Markdown(string))\n",
    "    htm_out = \"\"\"<div style=\"padding:20px;background-color:#e8ffe8\"><h1>Dryland yield outcomes:</h1>\"\"\"\n",
    "    for yield_param, value in yield_d.items():\n",
    "        htm_out +=\"\"\"<p style=\"font-size: 1.3vw;text-align: left;font-weight: 550;padding: \n",
    "        10px 10px 0px 10px;\">\"\"\"+ str(yield_param) + \"\"\"<code>\"\"\" + str(value) + \"\"\"</code></p>\"\"\"\n",
    "\n",
    "    printmd(htm_out+\"\"\"</div>\"\"\")\n",
    "    \n",
    "predict_growth_stages(cutoffs, DF_season[\"accu_GDU.F\"], DF_season)"
   ]
  },
  {
   "cell_type": "markdown",
   "metadata": {},
   "source": [
    "<div style=\"padding:30px 20px 30px 18px;background-color:#e8ffe8;\">\n",
    "    <p style=\"font-weight:bold;font-size:1.5vw;text-align:left;\">Discussion</p>\n",
    "    <p style=\"font-size:1.25vw;text-align:left;line-height:1.5;text-indent:50px;padding:40px 40px 3px 40px;margin:0px;\">  \n",
    "The model predicted a low yield at sixteen bushels per acre, it is important to note that the dryland parameters were used. An average corn yield should be around 70 to 100 bushels an acre and this model has significantly missed that mark. One possible reason for this is that I <b>used the dryland parameters</b> parameters from Maas’s paper cited earlier in this report. Considering that the parameters used were developed from data collected in a dryland environment, the yield values are not terrible.\n",
    "    </p>    \n",
    "    <p style=\"font-size:1.25vw;text-align:left;line-height:1.5;text-indent:50px;padding:3px 40px 3px 40px;margin:0px;\">   \n",
    "Utilizing Python in conjunction with Jupyter Notebook is an outstanding method for designing, documenting, and communicating this model. The ability to develop and distribute code and data in a single platform is extremely useful and convenient. This is absolutely the best means for communicating such information.\n",
    "    </p>\n",
    "   </div>"
   ]
  },
  {
   "cell_type": "code",
   "execution_count": null,
   "metadata": {},
   "outputs": [],
   "source": []
  },
  {
   "cell_type": "code",
   "execution_count": null,
   "metadata": {},
   "outputs": [],
   "source": []
  },
  {
   "cell_type": "code",
   "execution_count": null,
   "metadata": {},
   "outputs": [],
   "source": []
  }
 ],
 "metadata": {
  "kernelspec": {
   "display_name": "Python 3",
   "language": "python",
   "name": "python3"
  },
  "language_info": {
   "codemirror_mode": {
    "name": "ipython",
    "version": 3
   },
   "file_extension": ".py",
   "mimetype": "text/x-python",
   "name": "python",
   "nbconvert_exporter": "python",
   "pygments_lexer": "ipython3",
   "version": "3.6.6"
  }
 },
 "nbformat": 4,
 "nbformat_minor": 2
}
