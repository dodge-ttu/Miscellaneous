{
 "cells": [
  {
   "cell_type": "markdown",
   "metadata": {},
   "source": [
    "### Willl Dodge 2018-03-01"
   ]
  },
  {
   "cell_type": "code",
   "execution_count": 9,
   "metadata": {},
   "outputs": [],
   "source": [
    "library(data.table)\n",
    "library(ggplot2)\n",
    "library(lubridate)"
   ]
  },
  {
   "cell_type": "code",
   "execution_count": 10,
   "metadata": {},
   "outputs": [],
   "source": [
    "filename <- 'C:\\\\Users\\\\dodge\\\\OneDrive\\\\Documents\\\\test_met_data.csv'"
   ]
  },
  {
   "cell_type": "code",
   "execution_count": 11,
   "metadata": {},
   "outputs": [],
   "source": [
    "DT <- fread(filename)"
   ]
  },
  {
   "cell_type": "code",
   "execution_count": 12,
   "metadata": {},
   "outputs": [
    {
     "data": {},
     "metadata": {},
     "output_type": "display_data"
    }
   ],
   "source": [
    "DT[, date.time := parse_date_time(date.time, 'YmdHMS')]"
   ]
  },
  {
   "cell_type": "code",
   "execution_count": 13,
   "metadata": {},
   "outputs": [],
   "source": [
    "DT_temp <- DT[, .(airtemp.2m.C, soiltemp.4inch.C, soiltemp.8inch.C, date.time)]"
   ]
  },
  {
   "cell_type": "code",
   "execution_count": 14,
   "metadata": {},
   "outputs": [],
   "source": [
    "DT_day <- DT_temp[, lapply(.SD, mean), by = (date.time = floor_date(date.time, \"24 hours\"))]"
   ]
  },
  {
   "cell_type": "code",
   "execution_count": 15,
   "metadata": {},
   "outputs": [],
   "source": [
    "DT_hour <- DT_temp[, lapply(.SD, mean), by = (date.time = floor_date(date.time, \"60 min\"))]"
   ]
  },
  {
   "cell_type": "code",
   "execution_count": 16,
   "metadata": {},
   "outputs": [],
   "source": [
    "DT_15_min <- DT_temp[, lapply(.SD, mean), by=(date.time = floor_date(date.time, \"15 min\"))]"
   ]
  },
  {
   "cell_type": "code",
   "execution_count": 17,
   "metadata": {},
   "outputs": [
    {
     "data": {
      "text/html": [
       "<table>\n",
       "<thead><tr><th scope=col>date.time</th><th scope=col>airtemp.2m.C</th><th scope=col>soiltemp.4inch.C</th><th scope=col>soiltemp.8inch.C</th></tr></thead>\n",
       "<tbody>\n",
       "\t<tr><td>1        </td><td>0.6686902</td><td>3.684460 </td><td>4.447056 </td></tr>\n",
       "\t<tr><td>2        </td><td>1.4850105</td><td>3.926031 </td><td>4.483805 </td></tr>\n",
       "\t<tr><td>3        </td><td>3.6130033</td><td>4.346593 </td><td>4.835060 </td></tr>\n",
       "\t<tr><td>4        </td><td>8.3530268</td><td>5.782227 </td><td>5.780140 </td></tr>\n",
       "\t<tr><td>5        </td><td>7.9855135</td><td>6.519039 </td><td>6.642173 </td></tr>\n",
       "</tbody>\n",
       "</table>\n"
      ],
      "text/latex": [
       "\\begin{tabular}{r|llll}\n",
       " date.time & airtemp.2m.C & soiltemp.4inch.C & soiltemp.8inch.C\\\\\n",
       "\\hline\n",
       "\t 1         & 0.6686902 & 3.684460  & 4.447056 \\\\\n",
       "\t 2         & 1.4850105 & 3.926031  & 4.483805 \\\\\n",
       "\t 3         & 3.6130033 & 4.346593  & 4.835060 \\\\\n",
       "\t 4         & 8.3530268 & 5.782227  & 5.780140 \\\\\n",
       "\t 5         & 7.9855135 & 6.519039  & 6.642173 \\\\\n",
       "\\end{tabular}\n"
      ],
      "text/markdown": [
       "\n",
       "date.time | airtemp.2m.C | soiltemp.4inch.C | soiltemp.8inch.C | \n",
       "|---|---|---|---|---|\n",
       "| 1         | 0.6686902 | 3.684460  | 4.447056  | \n",
       "| 2         | 1.4850105 | 3.926031  | 4.483805  | \n",
       "| 3         | 3.6130033 | 4.346593  | 4.835060  | \n",
       "| 4         | 8.3530268 | 5.782227  | 5.780140  | \n",
       "| 5         | 7.9855135 | 6.519039  | 6.642173  | \n",
       "\n",
       "\n"
      ],
      "text/plain": [
       "  date.time airtemp.2m.C soiltemp.4inch.C soiltemp.8inch.C\n",
       "1 1         0.6686902    3.684460         4.447056        \n",
       "2 2         1.4850105    3.926031         4.483805        \n",
       "3 3         3.6130033    4.346593         4.835060        \n",
       "4 4         8.3530268    5.782227         5.780140        \n",
       "5 5         7.9855135    6.519039         6.642173        "
      ]
     },
     "metadata": {},
     "output_type": "display_data"
    }
   ],
   "source": [
    "DT_day[1:5]"
   ]
  },
  {
   "cell_type": "code",
   "execution_count": 18,
   "metadata": {},
   "outputs": [
    {
     "data": {
      "text/html": [
       "<table>\n",
       "<thead><tr><th scope=col>date.time</th><th scope=col>airtemp.2m.C</th><th scope=col>soiltemp.4inch.C</th><th scope=col>soiltemp.8inch.C</th></tr></thead>\n",
       "<tbody>\n",
       "\t<tr><td>2007-01-01 00:00:00</td><td>-1.645200          </td><td>3.671460           </td><td>4.832120           </td></tr>\n",
       "\t<tr><td>2007-01-01 01:00:00</td><td>-1.423433          </td><td>3.570558           </td><td>4.762842           </td></tr>\n",
       "\t<tr><td>2007-01-01 02:00:00</td><td>-2.161742          </td><td>3.441542           </td><td>4.665967           </td></tr>\n",
       "\t<tr><td>2007-01-01 03:00:00</td><td>-2.846267          </td><td>3.323625           </td><td>4.569125           </td></tr>\n",
       "\t<tr><td>2007-01-01 04:00:00</td><td>-3.477133          </td><td>3.215500           </td><td>4.476267           </td></tr>\n",
       "</tbody>\n",
       "</table>\n"
      ],
      "text/latex": [
       "\\begin{tabular}{r|llll}\n",
       " date.time & airtemp.2m.C & soiltemp.4inch.C & soiltemp.8inch.C\\\\\n",
       "\\hline\n",
       "\t 2007-01-01 00:00:00 & -1.645200           & 3.671460            & 4.832120           \\\\\n",
       "\t 2007-01-01 01:00:00 & -1.423433           & 3.570558            & 4.762842           \\\\\n",
       "\t 2007-01-01 02:00:00 & -2.161742           & 3.441542            & 4.665967           \\\\\n",
       "\t 2007-01-01 03:00:00 & -2.846267           & 3.323625            & 4.569125           \\\\\n",
       "\t 2007-01-01 04:00:00 & -3.477133           & 3.215500            & 4.476267           \\\\\n",
       "\\end{tabular}\n"
      ],
      "text/markdown": [
       "\n",
       "date.time | airtemp.2m.C | soiltemp.4inch.C | soiltemp.8inch.C | \n",
       "|---|---|---|---|---|\n",
       "| 2007-01-01 00:00:00 | -1.645200           | 3.671460            | 4.832120            | \n",
       "| 2007-01-01 01:00:00 | -1.423433           | 3.570558            | 4.762842            | \n",
       "| 2007-01-01 02:00:00 | -2.161742           | 3.441542            | 4.665967            | \n",
       "| 2007-01-01 03:00:00 | -2.846267           | 3.323625            | 4.569125            | \n",
       "| 2007-01-01 04:00:00 | -3.477133           | 3.215500            | 4.476267            | \n",
       "\n",
       "\n"
      ],
      "text/plain": [
       "  date.time           airtemp.2m.C soiltemp.4inch.C soiltemp.8inch.C\n",
       "1 2007-01-01 00:00:00 -1.645200    3.671460         4.832120        \n",
       "2 2007-01-01 01:00:00 -1.423433    3.570558         4.762842        \n",
       "3 2007-01-01 02:00:00 -2.161742    3.441542         4.665967        \n",
       "4 2007-01-01 03:00:00 -2.846267    3.323625         4.569125        \n",
       "5 2007-01-01 04:00:00 -3.477133    3.215500         4.476267        "
      ]
     },
     "metadata": {},
     "output_type": "display_data"
    }
   ],
   "source": [
    "DT_hour[1:5]"
   ]
  },
  {
   "cell_type": "code",
   "execution_count": 19,
   "metadata": {},
   "outputs": [
    {
     "data": {
      "text/html": [
       "<table>\n",
       "<thead><tr><th scope=col>date.time</th><th scope=col>airtemp.2m.C</th><th scope=col>soiltemp.4inch.C</th><th scope=col>soiltemp.8inch.C</th></tr></thead>\n",
       "<tbody>\n",
       "\t<tr><td>2007-01-01 00:00:00</td><td>-1.686300          </td><td>3.690550           </td><td>4.844850           </td></tr>\n",
       "\t<tr><td>2007-01-01 00:15:00</td><td>-1.617800          </td><td>3.658733           </td><td>4.823633           </td></tr>\n",
       "\t<tr><td>2007-01-01 00:30:00</td><td>-1.321167          </td><td>3.622100           </td><td>4.799833           </td></tr>\n",
       "\t<tr><td>2007-01-01 00:45:00</td><td>-1.503900          </td><td>3.586933           </td><td>4.774033           </td></tr>\n",
       "\t<tr><td>2007-01-01 01:00:00</td><td>-1.223067          </td><td>3.552233           </td><td>4.749300           </td></tr>\n",
       "</tbody>\n",
       "</table>\n"
      ],
      "text/latex": [
       "\\begin{tabular}{r|llll}\n",
       " date.time & airtemp.2m.C & soiltemp.4inch.C & soiltemp.8inch.C\\\\\n",
       "\\hline\n",
       "\t 2007-01-01 00:00:00 & -1.686300           & 3.690550            & 4.844850           \\\\\n",
       "\t 2007-01-01 00:15:00 & -1.617800           & 3.658733            & 4.823633           \\\\\n",
       "\t 2007-01-01 00:30:00 & -1.321167           & 3.622100            & 4.799833           \\\\\n",
       "\t 2007-01-01 00:45:00 & -1.503900           & 3.586933            & 4.774033           \\\\\n",
       "\t 2007-01-01 01:00:00 & -1.223067           & 3.552233            & 4.749300           \\\\\n",
       "\\end{tabular}\n"
      ],
      "text/markdown": [
       "\n",
       "date.time | airtemp.2m.C | soiltemp.4inch.C | soiltemp.8inch.C | \n",
       "|---|---|---|---|---|\n",
       "| 2007-01-01 00:00:00 | -1.686300           | 3.690550            | 4.844850            | \n",
       "| 2007-01-01 00:15:00 | -1.617800           | 3.658733            | 4.823633            | \n",
       "| 2007-01-01 00:30:00 | -1.321167           | 3.622100            | 4.799833            | \n",
       "| 2007-01-01 00:45:00 | -1.503900           | 3.586933            | 4.774033            | \n",
       "| 2007-01-01 01:00:00 | -1.223067           | 3.552233            | 4.749300            | \n",
       "\n",
       "\n"
      ],
      "text/plain": [
       "  date.time           airtemp.2m.C soiltemp.4inch.C soiltemp.8inch.C\n",
       "1 2007-01-01 00:00:00 -1.686300    3.690550         4.844850        \n",
       "2 2007-01-01 00:15:00 -1.617800    3.658733         4.823633        \n",
       "3 2007-01-01 00:30:00 -1.321167    3.622100         4.799833        \n",
       "4 2007-01-01 00:45:00 -1.503900    3.586933         4.774033        \n",
       "5 2007-01-01 01:00:00 -1.223067    3.552233         4.749300        "
      ]
     },
     "metadata": {},
     "output_type": "display_data"
    }
   ],
   "source": [
    "DT_15_min[1:5]"
   ]
  },
  {
   "cell_type": "code",
   "execution_count": 20,
   "metadata": {},
   "outputs": [],
   "source": [
    "p1 <- ggplot(DT_15_min)+\n",
    "geom_line(aes(x=date.time, y=airtemp.2m.C))"
   ]
  },
  {
   "cell_type": "code",
   "execution_count": 21,
   "metadata": {},
   "outputs": [
    {
     "data": {},
     "metadata": {},
     "output_type": "display_data"
    },
    {
     "data": {
      "image/png": "[encoded data removed]",
      "text/plain": [
       "plot without title"
      ]
     },
     "metadata": {},
     "output_type": "display_data"
    }
   ],
   "source": [
    "p1"
   ]
  },
  {
   "cell_type": "code",
   "execution_count": 22,
   "metadata": {},
   "outputs": [],
   "source": [
    "p2 <- ggplot(DT_hour)+\n",
    "geom_line(aes(x=date.time, y=airtemp.2m.C))"
   ]
  },
  {
   "cell_type": "code",
   "execution_count": 23,
   "metadata": {},
   "outputs": [
    {
     "data": {},
     "metadata": {},
     "output_type": "display_data"
    },
    {
     "data": {
      "image/png": "[encoded data removed]",
      "text/plain": [
       "plot without title"
      ]
     },
     "metadata": {},
     "output_type": "display_data"
    }
   ],
   "source": [
    "p2"
   ]
  },
  {
   "cell_type": "code",
   "execution_count": 24,
   "metadata": {},
   "outputs": [],
   "source": [
    "p3 <- ggplot(DT_day)+\n",
    "geom_line(aes(x=date.time, y=airtemp.2m.C))"
   ]
  },
  {
   "cell_type": "code",
   "execution_count": 25,
   "metadata": {},
   "outputs": [
    {
     "data": {},
     "metadata": {},
     "output_type": "display_data"
    },
    {
     "data": {
      "image/png": "[encoded data removed]",
      "text/plain": [
       "plot without title"
      ]
     },
     "metadata": {},
     "output_type": "display_data"
    }
   ],
   "source": [
    "p3"
   ]
  },
  {
   "cell_type": "code",
   "execution_count": null,
   "metadata": {},
   "outputs": [],
   "source": []
  }
 ],
 "metadata": {
  "kernelspec": {
   "display_name": "R",
   "language": "R",
   "name": "ir"
  },
  "language_info": {
   "codemirror_mode": "r",
   "file_extension": ".r",
   "mimetype": "text/x-r-source",
   "name": "R",
   "pygments_lexer": "r",
   "version": "3.4.3"
  }
 },
 "nbformat": 4,
 "nbformat_minor": 2
}
